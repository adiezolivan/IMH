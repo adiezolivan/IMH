{
 "cells": [
  {
   "cell_type": "code",
   "execution_count": null,
   "metadata": {},
   "outputs": [],
   "source": [
    "import os\n",
    "path = r'./data/'\n",
    "\n",
    "import utils as u\n",
    "import pandas as pd\n",
    "\n",
    "\n",
    "file_name = 'short_data.csv'\n",
    "\n",
    "df = pd.read_csv(path+file_name, sep=',', header = 0, index_col = 0, parse_dates=True,date_parser=u.dateparse)\n",
    "\n",
    "df = df.rename(columns = u.translation)"
   ]
  },
  {
   "cell_type": "code",
   "execution_count": null,
   "metadata": {},
   "outputs": [],
   "source": [
    "X = (df[u.independent_labels]).as_matrix()\n",
    "Y_label = 'CH4_B'\n",
    "Y = (df[Y_label]).as_matrix()\n",
    "Y = Y.reshape(len(Y))"
   ]
  },
  {
   "cell_type": "code",
   "execution_count": null,
   "metadata": {},
   "outputs": [],
   "source": [
    "from sklearn.model_selection import train_test_split\n",
    "X_train, X_test, y_train, y_test, idx_train, idx_test = train_test_split(X, Y, range(len(Y)),test_size=0.3, random_state=1)"
   ]
  },
  {
   "cell_type": "code",
   "execution_count": null,
   "metadata": {},
   "outputs": [],
   "source": []
  }
 ],
 "metadata": {
  "kernelspec": {
   "display_name": "Python 3",
   "language": "python",
   "name": "python3"
  },
  "language_info": {
   "codemirror_mode": {
    "name": "ipython",
    "version": 3
   },
   "file_extension": ".py",
   "mimetype": "text/x-python",
   "name": "python",
   "nbconvert_exporter": "python",
   "pygments_lexer": "ipython3",
   "version": "3.6.8"
  },
  "name": ""
 },
 "nbformat": 4,
 "nbformat_minor": 1
}

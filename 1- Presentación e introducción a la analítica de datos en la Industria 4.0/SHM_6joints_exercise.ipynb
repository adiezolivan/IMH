{
 "cells": [
  {
   "cell_type": "markdown",
   "metadata": {},
   "source": [
    "# Método de análisis basado en técnicas de clustering para la detección de daño estructural "
   ]
  },
  {
   "cell_type": "markdown",
   "metadata": {},
   "source": [
    "El presente trabajo de investigación forma parte del proyecto de monitorización del estado de salud estructural del Sydney Harbour Bridge (Australia).\n",
    "\n",
    "Los objetivos del método planteado son:\n",
    "   1. Identificar clusters de las partes del puente que presentan un comportamiento similar, a partir de los datos monitorizados\n",
    "   2. Complementar las técnicas actuales de detección de daño estructural\n",
    "   3. Conocer el comportamiento global del puente"
   ]
  },
  {
   "cell_type": "code",
   "execution_count": null,
   "metadata": {},
   "outputs": [],
   "source": [
    "%matplotlib inline\n",
    "import warnings\n",
    "warnings.filterwarnings(\"ignore\")\n",
    "\n",
    "# librerías genéricas que utilizaremos\n",
    "from pandas import DataFrame, read_csv\n",
    "import pylab as pl\n",
    "import numpy as np\n",
    "import pandas as pd\n",
    "import matplotlib.pyplot as plt\n",
    "import csv\n",
    "from datetime import datetime\n",
    "from scipy.fftpack import fft\n",
    "import scipy.signal.signaltools as sigtool\n",
    "import sklearn.preprocessing as pre\n",
    "from sklearn.cross_validation import train_test_split\n",
    "\n",
    "# especificamos variables globales, como por ejemplo el directorio donde tenemos los datos\n",
    "import glob, os\n",
    "path = r'./data/71_nodes/' \n",
    "\n",
    "# cargamos nuestro métodos\n",
    "%run outliers_removal.py\n",
    "%run data_processing.py\n",
    "%run kmeans.py\n",
    "%run map_pairwise_distances.py"
   ]
  },
  {
   "cell_type": "markdown",
   "metadata": {},
   "source": [
    "## Caso de estudio 1: ejercicios"
   ]
  },
  {
   "cell_type": "markdown",
   "metadata": {},
   "source": [
    "- 6 juntas del segmento Norte del puente monitorizadas durante una semana\n",
    "- La junta número 4 presenta daño estructural en forma de grietas\n",
    "- Los eventos son registrados y estandarizados a series temporales de 600 valores"
   ]
  },
  {
   "cell_type": "code",
   "execution_count": null,
   "metadata": {},
   "outputs": [],
   "source": [
    "# cargamos los datos\n",
    "all_files = glob.glob(os.path.join(path, \"data_6nodes_chunk*.csv\"))\n",
    "df_from_each_file = (pd.read_csv(f, index_col=0) for f in all_files)\n",
    "datav1 = pd.concat(df_from_each_file)\n",
    "# ¿cuántos vectores de características tenemos y de qué tamaño son?\n",
    "print ('Dimensiones de los datos de entrada: ' + str(datav1.shape))"
   ]
  },
  {
   "cell_type": "markdown",
   "metadata": {},
   "source": [
    "## Un primer vistazo a los datos"
   ]
  },
  {
   "cell_type": "code",
   "execution_count": null,
   "metadata": {
    "scrolled": true
   },
   "outputs": [],
   "source": [
    "# graficamos un vector de características\n",
    "plt.figure(figsize=(24, 12))\n",
    "plt.plot(datav1.values[0], lw=3)\n",
    "plt.xlabel('time (s)', fontsize=24)\n",
    "plt.ylabel('magnitude', fontsize=24)\n",
    "plt.tick_params(labelsize=20)\n",
    "plt.ylim(-11,11)\n",
    "plt.grid()\n",
    "plt.show()"
   ]
  },
  {
   "cell_type": "markdown",
   "metadata": {},
   "source": [
    "## Preprocesado"
   ]
  },
  {
   "cell_type": "code",
   "execution_count": null,
   "metadata": {},
   "outputs": [],
   "source": [
    "# estandarización de los datos\n",
    "from numpy import mean, std\n",
    "datav1 = (datav1.values - mean(datav1.values, axis=0)) / std(datav1.values, axis=0)"
   ]
  },
  {
   "cell_type": "code",
   "execution_count": 4,
   "metadata": {},
   "outputs": [
    {
     "data": {
      "image/png": "[encoded data removed]",
      "text/plain": [
       "<matplotlib.figure.Figure at 0x7f17a0461ba8>"
      ]
     },
     "metadata": {},
     "output_type": "display_data"
    }
   ],
   "source": [
    "# mostramos un vector de características tras estandarizar los datos originales\n",
    "plt.figure(figsize=(24, 12))\n",
    "plt.plot(datav1[0], lw=3)\n",
    "plt.xlabel('time (s)', fontsize=24)\n",
    "plt.ylabel('magnitude', fontsize=24)\n",
    "plt.tick_params(labelsize=20)\n",
    "plt.ylim(-11,11)\n",
    "plt.grid()\n",
    "plt.show() "
   ]
  },
  {
   "cell_type": "markdown",
   "metadata": {},
   "source": [
    "## Información contextual: posición y distribución de las juntas del puente"
   ]
  },
  {
   "cell_type": "code",
   "execution_count": 5,
   "metadata": {
    "collapsed": true
   },
   "outputs": [],
   "source": [
    "joints=np.array(joints)\n",
    "joints=joints.reshape(joints.shape[0])\n",
    "joints_dist = [[1],[2],[3],[4],[5],[6]]"
   ]
  },
  {
   "cell_type": "markdown",
   "metadata": {},
   "source": [
    "## Eliminar outliers y ruido de los datos"
   ]
  },
  {
   "cell_type": "code",
   "execution_count": 6,
   "metadata": {},
   "outputs": [
    {
     "name": "stdout",
     "output_type": "stream",
     "text": [
      "\n",
      "Joint 1\n",
      "Iteration 1\n",
      "5000\n"
     ]
    },
    {
     "name": "stderr",
     "output_type": "stream",
     "text": [
      "/usr/local/lib/python3.4/site-packages/sklearn/utils/validation.py:395: DeprecationWarning: Passing 1d arrays as data is deprecated in 0.17 and will raise ValueError in 0.19. Reshape your data either using X.reshape(-1, 1) if your data has a single feature or X.reshape(1, -1) if it contains a single sample.\n",
      "  DeprecationWarning)\n"
     ]
    },
    {
     "name": "stdout",
     "output_type": "stream",
     "text": [
      "Average distance: 12.032170\n",
      "Max distance: 18.605238\n",
      "Setting threshold to  14.509899\n",
      "Number of samples removed: 1326\n",
      "Number of iterations reached. Exiting\n",
      "\n",
      "Joint 2\n",
      "Iteration 1\n",
      "5000\n"
     ]
    },
    {
     "name": "stderr",
     "output_type": "stream",
     "text": [
      "/usr/local/lib/python3.4/site-packages/sklearn/utils/validation.py:395: DeprecationWarning: Passing 1d arrays as data is deprecated in 0.17 and will raise ValueError in 0.19. Reshape your data either using X.reshape(-1, 1) if your data has a single feature or X.reshape(1, -1) if it contains a single sample.\n",
      "  DeprecationWarning)\n"
     ]
    },
    {
     "name": "stdout",
     "output_type": "stream",
     "text": [
      "Average distance: 14.835527\n",
      "Max distance: 21.843029\n",
      "Setting threshold to  17.874529\n",
      "Number of samples removed: 2239\n",
      "Number of iterations reached. Exiting\n",
      "\n",
      "Joint 3\n",
      "Iteration 1\n",
      "4985\n"
     ]
    },
    {
     "name": "stderr",
     "output_type": "stream",
     "text": [
      "/usr/local/lib/python3.4/site-packages/sklearn/utils/validation.py:395: DeprecationWarning: Passing 1d arrays as data is deprecated in 0.17 and will raise ValueError in 0.19. Reshape your data either using X.reshape(-1, 1) if your data has a single feature or X.reshape(1, -1) if it contains a single sample.\n",
      "  DeprecationWarning)\n"
     ]
    },
    {
     "name": "stdout",
     "output_type": "stream",
     "text": [
      "Average distance: 62.608093\n",
      "Max distance: 826.241331\n",
      "Setting threshold to  94.022491\n",
      "Number of samples removed: 296\n",
      "Number of iterations reached. Exiting\n",
      "\n",
      "Joint 4\n",
      "Iteration 1\n",
      "5000\n"
     ]
    },
    {
     "name": "stderr",
     "output_type": "stream",
     "text": [
      "/usr/local/lib/python3.4/site-packages/sklearn/utils/validation.py:395: DeprecationWarning: Passing 1d arrays as data is deprecated in 0.17 and will raise ValueError in 0.19. Reshape your data either using X.reshape(-1, 1) if your data has a single feature or X.reshape(1, -1) if it contains a single sample.\n",
      "  DeprecationWarning)\n"
     ]
    },
    {
     "name": "stdout",
     "output_type": "stream",
     "text": [
      "Average distance: 1508.483484\n",
      "Max distance: 2264.088324\n",
      "Setting threshold to  1826.903556\n",
      "Number of samples removed: 1888\n",
      "Number of iterations reached. Exiting\n",
      "\n",
      "Joint 5\n",
      "Iteration 1\n",
      "5000\n"
     ]
    },
    {
     "name": "stderr",
     "output_type": "stream",
     "text": [
      "/usr/local/lib/python3.4/site-packages/sklearn/utils/validation.py:395: DeprecationWarning: Passing 1d arrays as data is deprecated in 0.17 and will raise ValueError in 0.19. Reshape your data either using X.reshape(-1, 1) if your data has a single feature or X.reshape(1, -1) if it contains a single sample.\n",
      "  DeprecationWarning)\n"
     ]
    },
    {
     "name": "stdout",
     "output_type": "stream",
     "text": [
      "Average distance: 277.377037\n",
      "Max distance: 312.332516\n",
      "Setting threshold to  312.500226\n",
      "Number of samples removed: 1717\n",
      "Maximum distance is small enough. Exiting\n",
      "\n",
      "Joint 6\n",
      "Iteration 1\n",
      "4802\n"
     ]
    },
    {
     "name": "stderr",
     "output_type": "stream",
     "text": [
      "/usr/local/lib/python3.4/site-packages/sklearn/utils/validation.py:395: DeprecationWarning: Passing 1d arrays as data is deprecated in 0.17 and will raise ValueError in 0.19. Reshape your data either using X.reshape(-1, 1) if your data has a single feature or X.reshape(1, -1) if it contains a single sample.\n",
      "  DeprecationWarning)\n"
     ]
    },
    {
     "name": "stdout",
     "output_type": "stream",
     "text": [
      "Average distance: 89.038303\n",
      "Max distance: 2568.557988\n",
      "Setting threshold to  169.489235\n",
      "Number of samples removed: 144\n",
      "Number of iterations reached. Exiting\n",
      "Dimensiones de los datos procesados: (29343, 599)\n"
     ]
    }
   ],
   "source": [
    "'''\n",
    "Método que elimina outliers para limpiar y hacer un remuestreo de los datos, de tal modo que para cada junta eliminamos los eventos cuya energía está lejos de la media. \n",
    "    Entradas:\n",
    "        - data: conjunto de datos de entrenamiento, con los eventos que vamos a procesar (matrix [m,n])\n",
    "        - index: la lista de juntas a las que pertenece cada evento (array [m])\n",
    "        - k: número de vecinos a considerar por el KDTree y máximo número de eventos a obtener por junta\n",
    "        - normalityLoops: criterio de parada principal\n",
    "        - anomaly_threshold: desviaciones típicas respecto de la media a utilizar\n",
    "    Salidas: (reduced_data, reduced_index, samples_distribution) objetos que contienen los datos procesados, las etiquetas (juntas) correspondientes y la distribución final de juntas resultantes \n",
    "'''\n",
    "# utilizar un número diferente de vecinos, 'k', iteraciones, 'normalityLoops' y desviaciones típicas, 'anomaly_threshold'\n",
    "reduced_data, reduced_index, samples_distribution, removed_data, removed_index = outliers_removal(datav1, \n",
    "                                                                                                  joints, \n",
    "                                                                                                  k=5000, \n",
    "                                                                                                  normalityLoops=1,\n",
    "                                                                                                  anomaly_threshold=2)\n",
    "# mostramos el número de muestras resultantes\n",
    "print ('Dimensiones de los datos procesados: ' + str(reduced_data.shape))"
   ]
  },
  {
   "cell_type": "markdown",
   "metadata": {},
   "source": [
    "## Transformada de Fourier (FFT): del dominio temporal al dominio en frecuencias"
   ]
  },
  {
   "cell_type": "code",
   "execution_count": 7,
   "metadata": {},
   "outputs": [
    {
     "data": {
      "image/png": "[encoded data removed]",
      "text/plain": [
       "<matplotlib.figure.Figure at 0x7f17b7943a20>"
      ]
     },
     "metadata": {},
     "output_type": "display_data"
    }
   ],
   "source": [
    "# aplicamos FFT a los datos estandarizados\n",
    "reduced_data_fft = np.fft.rfft(reduced_data)\n",
    "reduced_data_fft = np.abs(reduced_data_fft)"
   ]
  },
  {
   "cell_type": "code",
   "execution_count": null,
   "metadata": {},
   "outputs": [],
   "source": [
    "# mostramos una señal en frecuencias resultante\n",
    "plt.figure(figsize=(24, 12))\n",
    "plt.plot(reduced_data_fft[100], lw=3)\n",
    "plt.xlabel('frequency (Hz)', fontsize=24)\n",
    "plt.ylabel('amplitude', fontsize=24)\n",
    "plt.tick_params(labelsize=20)\n",
    "plt.xlim(0,300)\n",
    "plt.grid()\n",
    "plt.show()"
   ]
  },
  {
   "cell_type": "markdown",
   "metadata": {},
   "source": [
    "## Clustering basado en eventos: K-medias (distancia Euclídea)"
   ]
  },
  {
   "cell_type": "code",
   "execution_count": null,
   "metadata": {},
   "outputs": [],
   "source": [
    "# probar con los datos originales y con un número diferente de clusters, 'n_clusters'\n",
    "from sklearn.cluster import KMeans\n",
    "'''\n",
    "Método K-medias basado en la implementación de sklearn.\n",
    "    Entradas:\n",
    "        - data: conjunto de datos de entrenamiento, con los eventos que vamos a procesar (matrix [m,n])\n",
    "        - n_clusters: número de clusters a utilizar\n",
    "    Outputs: (Z, centroids, kmeans) array que contiene el cluster al que pertenece cada evento (array [m]), centroides o valores medios (matrix [m, n_clusters]) y el modelo kmeans resultante\n",
    "'''\n",
    "kmeans = KMeans(init='k-means++', n_clusters=2, n_init=20)\n",
    "kmeans.fit(reduced_data_fft)\n",
    "Z = kmeans.labels_ "
   ]
  },
  {
   "cell_type": "code",
   "execution_count": 8,
   "metadata": {},
   "outputs": [
    {
     "name": "stdout",
     "output_type": "stream",
     "text": [
      "Sumatorio de distancias de los eventos a los centroides de los clusters más cercanos: 1013350293.74\n"
     ]
    },
    {
     "ename": "AttributeError",
     "evalue": "Unknown property figsize",
     "output_type": "error",
     "traceback": [
      "\u001b[0;31m---------------------------------------------------------------------------\u001b[0m",
      "\u001b[0;31mAttributeError\u001b[0m                            Traceback (most recent call last)",
      "\u001b[0;32m<ipython-input-8-b321eb0ecbde>\u001b[0m in \u001b[0;36m<module>\u001b[0;34m()\u001b[0m\n\u001b[1;32m     31\u001b[0m     \u001b[0mSalidas\u001b[0m\u001b[0;34m:\u001b[0m \u001b[0mcada\u001b[0m \u001b[0mcluster\u001b[0m \u001b[0mse\u001b[0m \u001b[0mrepresenta\u001b[0m \u001b[0mmediante\u001b[0m \u001b[0;36m2\u001b[0m \u001b[0mgrafos\u001b[0m\u001b[0;34m,\u001b[0m \u001b[0mel\u001b[0m \u001b[0mde\u001b[0m \u001b[0mla\u001b[0m \u001b[0mparte\u001b[0m \u001b[0msuperior\u001b[0m \u001b[0mmuestra\u001b[0m \u001b[0mel\u001b[0m \u001b[0mcentroide\u001b[0m \u001b[0my\u001b[0m \u001b[0mla\u001b[0m \u001b[0mdesviación\u001b[0m \u001b[0mtípica\u001b[0m \u001b[0mde\u001b[0m \u001b[0mlos\u001b[0m \u001b[0meventos\u001b[0m \u001b[0magrupados\u001b[0m \u001b[0men\u001b[0m \u001b[0mel\u001b[0m \u001b[0mcluster\u001b[0m \u001b[0my\u001b[0m \u001b[0men\u001b[0m \u001b[0mla\u001b[0m \u001b[0mparte\u001b[0m \u001b[0minferior\u001b[0m \u001b[0mse\u001b[0m \u001b[0mmuestra\u001b[0m \u001b[0mla\u001b[0m \u001b[0mdistribución\u001b[0m \u001b[0mde\u001b[0m \u001b[0mlos\u001b[0m \u001b[0meventos\u001b[0m\u001b[0;34m\u001b[0m\u001b[0m\n\u001b[1;32m     32\u001b[0m '''\n\u001b[0;32m---> 33\u001b[0;31m \u001b[0mdraw_clustering_results\u001b[0m\u001b[0;34m(\u001b[0m\u001b[0mreduced_data_fft\u001b[0m\u001b[0;34m,\u001b[0m\u001b[0mreduced_index\u001b[0m\u001b[0;34m,\u001b[0m\u001b[0mjoints_dist\u001b[0m\u001b[0;34m,\u001b[0m\u001b[0mfinal_centroids\u001b[0m\u001b[0;34m,\u001b[0m\u001b[0mfinal_u\u001b[0m\u001b[0;34m,\u001b[0m\u001b[0mnjoints\u001b[0m\u001b[0;34m=\u001b[0m\u001b[0;36m6\u001b[0m\u001b[0;34m)\u001b[0m\u001b[0;34m\u001b[0m\u001b[0m\n\u001b[0m",
      "\u001b[0;32m/expert/ipython_notebooks/scripts/kmeans.py\u001b[0m in \u001b[0;36mdraw_clustering_results\u001b[0;34m(data, index, samples_distribution, centroids, Z, njoints)\u001b[0m\n\u001b[1;32m    194\u001b[0m         \u001b[0;31m#for j in range(len(data_tmp)):\u001b[0m\u001b[0;34m\u001b[0m\u001b[0;34m\u001b[0m\u001b[0m\n\u001b[1;32m    195\u001b[0m         \u001b[0;31m#    plt.plot(p_x, data_tmp[j, :], c = color_list[samples_distribution == samples_in_cluster[j]][0])\u001b[0m\u001b[0;34m\u001b[0m\u001b[0;34m\u001b[0m\u001b[0m\n\u001b[0;32m--> 196\u001b[0;31m         \u001b[0mbx\u001b[0m\u001b[0;34m.\u001b[0m\u001b[0merrorbar\u001b[0m\u001b[0;34m(\u001b[0m\u001b[0mp_x\u001b[0m\u001b[0;34m,\u001b[0m \u001b[0mnp\u001b[0m\u001b[0;34m.\u001b[0m\u001b[0mmean\u001b[0m\u001b[0;34m(\u001b[0m\u001b[0mdata_tmp\u001b[0m\u001b[0;34m,\u001b[0m\u001b[0maxis\u001b[0m\u001b[0;34m=\u001b[0m\u001b[0;36m0\u001b[0m\u001b[0;34m)\u001b[0m\u001b[0;34m,\u001b[0m \u001b[0mnp\u001b[0m\u001b[0;34m.\u001b[0m\u001b[0mstd\u001b[0m\u001b[0;34m(\u001b[0m\u001b[0mdata_tmp\u001b[0m\u001b[0;34m,\u001b[0m\u001b[0maxis\u001b[0m\u001b[0;34m=\u001b[0m\u001b[0;36m0\u001b[0m\u001b[0;34m)\u001b[0m\u001b[0;34m,\u001b[0m \u001b[0mlabel\u001b[0m\u001b[0;34m=\u001b[0m\u001b[0;34m'std of '\u001b[0m \u001b[0;34m+\u001b[0m \u001b[0mstr\u001b[0m\u001b[0;34m(\u001b[0m\u001b[0mlen\u001b[0m\u001b[0;34m(\u001b[0m\u001b[0mdata_tmp\u001b[0m\u001b[0;34m)\u001b[0m\u001b[0;34m)\u001b[0m \u001b[0;34m+\u001b[0m \u001b[0;34m' events'\u001b[0m\u001b[0;34m,\u001b[0m \u001b[0mfigsize\u001b[0m\u001b[0;34m=\u001b[0m\u001b[0;34m(\u001b[0m\u001b[0;36m20\u001b[0m\u001b[0;34m,\u001b[0m\u001b[0;36m10\u001b[0m\u001b[0;34m)\u001b[0m\u001b[0;34m)\u001b[0m\u001b[0;34m\u001b[0m\u001b[0m\n\u001b[0m\u001b[1;32m    197\u001b[0m         \u001b[0;32mif\u001b[0m \u001b[0mnjoints\u001b[0m \u001b[0;34m==\u001b[0m \u001b[0;36m6\u001b[0m\u001b[0;34m:\u001b[0m\u001b[0;34m\u001b[0m\u001b[0m\n\u001b[1;32m    198\u001b[0m             \u001b[0mbx\u001b[0m\u001b[0;34m.\u001b[0m\u001b[0mset_xlim\u001b[0m\u001b[0;34m(\u001b[0m\u001b[0;36m0\u001b[0m\u001b[0;34m,\u001b[0m\u001b[0;36m375\u001b[0m\u001b[0;34m/\u001b[0m\u001b[0;36m2\u001b[0m\u001b[0;34m-\u001b[0m\u001b[0;36m.625\u001b[0m\u001b[0;34m)\u001b[0m \u001b[0;31m# 6\u001b[0m\u001b[0;34m\u001b[0m\u001b[0m\n",
      "\u001b[0;32m/usr/local/lib/python3.4/site-packages/matplotlib/__init__.py\u001b[0m in \u001b[0;36minner\u001b[0;34m(ax, *args, **kwargs)\u001b[0m\n\u001b[1;32m   1896\u001b[0m                     warnings.warn(msg % (label_namer, func.__name__),\n\u001b[1;32m   1897\u001b[0m                                   RuntimeWarning, stacklevel=2)\n\u001b[0;32m-> 1898\u001b[0;31m             \u001b[0;32mreturn\u001b[0m \u001b[0mfunc\u001b[0m\u001b[0;34m(\u001b[0m\u001b[0max\u001b[0m\u001b[0;34m,\u001b[0m \u001b[0;34m*\u001b[0m\u001b[0margs\u001b[0m\u001b[0;34m,\u001b[0m \u001b[0;34m**\u001b[0m\u001b[0mkwargs\u001b[0m\u001b[0;34m)\u001b[0m\u001b[0;34m\u001b[0m\u001b[0m\n\u001b[0m\u001b[1;32m   1899\u001b[0m         \u001b[0mpre_doc\u001b[0m \u001b[0;34m=\u001b[0m \u001b[0minner\u001b[0m\u001b[0;34m.\u001b[0m\u001b[0m__doc__\u001b[0m\u001b[0;34m\u001b[0m\u001b[0m\n\u001b[1;32m   1900\u001b[0m         \u001b[0;32mif\u001b[0m \u001b[0mpre_doc\u001b[0m \u001b[0;32mis\u001b[0m \u001b[0;32mNone\u001b[0m\u001b[0;34m:\u001b[0m\u001b[0;34m\u001b[0m\u001b[0m\n",
      "\u001b[0;32m/usr/local/lib/python3.4/site-packages/matplotlib/axes/_axes.py\u001b[0m in \u001b[0;36merrorbar\u001b[0;34m(self, x, y, yerr, xerr, fmt, ecolor, elinewidth, capsize, barsabove, lolims, uplims, xlolims, xuplims, errorevery, capthick, **kwargs)\u001b[0m\n\u001b[1;32m   2904\u001b[0m         \u001b[0mdata_line\u001b[0m \u001b[0;34m=\u001b[0m \u001b[0;32mNone\u001b[0m\u001b[0;34m\u001b[0m\u001b[0m\n\u001b[1;32m   2905\u001b[0m         \u001b[0;32mif\u001b[0m \u001b[0mplot_line\u001b[0m\u001b[0;34m:\u001b[0m\u001b[0;34m\u001b[0m\u001b[0m\n\u001b[0;32m-> 2906\u001b[0;31m             \u001b[0mdata_line\u001b[0m \u001b[0;34m=\u001b[0m \u001b[0mmlines\u001b[0m\u001b[0;34m.\u001b[0m\u001b[0mLine2D\u001b[0m\u001b[0;34m(\u001b[0m\u001b[0mx\u001b[0m\u001b[0;34m,\u001b[0m \u001b[0my\u001b[0m\u001b[0;34m,\u001b[0m \u001b[0;34m**\u001b[0m\u001b[0mplot_line_style\u001b[0m\u001b[0;34m)\u001b[0m\u001b[0;34m\u001b[0m\u001b[0m\n\u001b[0m\u001b[1;32m   2907\u001b[0m             \u001b[0mself\u001b[0m\u001b[0;34m.\u001b[0m\u001b[0madd_line\u001b[0m\u001b[0;34m(\u001b[0m\u001b[0mdata_line\u001b[0m\u001b[0;34m)\u001b[0m\u001b[0;34m\u001b[0m\u001b[0m\n\u001b[1;32m   2908\u001b[0m \u001b[0;34m\u001b[0m\u001b[0m\n",
      "\u001b[0;32m/usr/local/lib/python3.4/site-packages/matplotlib/lines.py\u001b[0m in \u001b[0;36m__init__\u001b[0;34m(self, xdata, ydata, linewidth, linestyle, color, marker, markersize, markeredgewidth, markeredgecolor, markerfacecolor, markerfacecoloralt, fillstyle, antialiased, dash_capstyle, solid_capstyle, dash_joinstyle, solid_joinstyle, pickradius, drawstyle, markevery, **kwargs)\u001b[0m\n\u001b[1;32m    429\u001b[0m         \u001b[0;31m# update kwargs before updating data to give the caller a\u001b[0m\u001b[0;34m\u001b[0m\u001b[0;34m\u001b[0m\u001b[0m\n\u001b[1;32m    430\u001b[0m         \u001b[0;31m# chance to init axes (and hence unit support)\u001b[0m\u001b[0;34m\u001b[0m\u001b[0;34m\u001b[0m\u001b[0m\n\u001b[0;32m--> 431\u001b[0;31m         \u001b[0mself\u001b[0m\u001b[0;34m.\u001b[0m\u001b[0mupdate\u001b[0m\u001b[0;34m(\u001b[0m\u001b[0mkwargs\u001b[0m\u001b[0;34m)\u001b[0m\u001b[0;34m\u001b[0m\u001b[0m\n\u001b[0m\u001b[1;32m    432\u001b[0m         \u001b[0mself\u001b[0m\u001b[0;34m.\u001b[0m\u001b[0mpickradius\u001b[0m \u001b[0;34m=\u001b[0m \u001b[0mpickradius\u001b[0m\u001b[0;34m\u001b[0m\u001b[0m\n\u001b[1;32m    433\u001b[0m         \u001b[0mself\u001b[0m\u001b[0;34m.\u001b[0m\u001b[0mind_offset\u001b[0m \u001b[0;34m=\u001b[0m \u001b[0;36m0\u001b[0m\u001b[0;34m\u001b[0m\u001b[0m\n",
      "\u001b[0;32m/usr/local/lib/python3.4/site-packages/matplotlib/artist.py\u001b[0m in \u001b[0;36mupdate\u001b[0;34m(self, props)\u001b[0m\n\u001b[1;32m    883\u001b[0m         \u001b[0;32mtry\u001b[0m\u001b[0;34m:\u001b[0m\u001b[0;34m\u001b[0m\u001b[0m\n\u001b[1;32m    884\u001b[0m             ret = [_update_property(self, k, v)\n\u001b[0;32m--> 885\u001b[0;31m                    for k, v in props.items()]\n\u001b[0m\u001b[1;32m    886\u001b[0m         \u001b[0;32mfinally\u001b[0m\u001b[0;34m:\u001b[0m\u001b[0;34m\u001b[0m\u001b[0m\n\u001b[1;32m    887\u001b[0m             \u001b[0mself\u001b[0m\u001b[0;34m.\u001b[0m\u001b[0meventson\u001b[0m \u001b[0;34m=\u001b[0m \u001b[0mstore\u001b[0m\u001b[0;34m\u001b[0m\u001b[0m\n",
      "\u001b[0;32m/usr/local/lib/python3.4/site-packages/matplotlib/artist.py\u001b[0m in \u001b[0;36m<listcomp>\u001b[0;34m(.0)\u001b[0m\n\u001b[1;32m    883\u001b[0m         \u001b[0;32mtry\u001b[0m\u001b[0;34m:\u001b[0m\u001b[0;34m\u001b[0m\u001b[0m\n\u001b[1;32m    884\u001b[0m             ret = [_update_property(self, k, v)\n\u001b[0;32m--> 885\u001b[0;31m                    for k, v in props.items()]\n\u001b[0m\u001b[1;32m    886\u001b[0m         \u001b[0;32mfinally\u001b[0m\u001b[0;34m:\u001b[0m\u001b[0;34m\u001b[0m\u001b[0m\n\u001b[1;32m    887\u001b[0m             \u001b[0mself\u001b[0m\u001b[0;34m.\u001b[0m\u001b[0meventson\u001b[0m \u001b[0;34m=\u001b[0m \u001b[0mstore\u001b[0m\u001b[0;34m\u001b[0m\u001b[0m\n",
      "\u001b[0;32m/usr/local/lib/python3.4/site-packages/matplotlib/artist.py\u001b[0m in \u001b[0;36m_update_property\u001b[0;34m(self, k, v)\u001b[0m\n\u001b[1;32m    876\u001b[0m                 \u001b[0mfunc\u001b[0m \u001b[0;34m=\u001b[0m \u001b[0mgetattr\u001b[0m\u001b[0;34m(\u001b[0m\u001b[0mself\u001b[0m\u001b[0;34m,\u001b[0m \u001b[0;34m'set_'\u001b[0m \u001b[0;34m+\u001b[0m \u001b[0mk\u001b[0m\u001b[0;34m,\u001b[0m \u001b[0;32mNone\u001b[0m\u001b[0;34m)\u001b[0m\u001b[0;34m\u001b[0m\u001b[0m\n\u001b[1;32m    877\u001b[0m                 \u001b[0;32mif\u001b[0m \u001b[0mfunc\u001b[0m \u001b[0;32mis\u001b[0m \u001b[0;32mNone\u001b[0m \u001b[0;32mor\u001b[0m \u001b[0;32mnot\u001b[0m \u001b[0msix\u001b[0m\u001b[0;34m.\u001b[0m\u001b[0mcallable\u001b[0m\u001b[0;34m(\u001b[0m\u001b[0mfunc\u001b[0m\u001b[0;34m)\u001b[0m\u001b[0;34m:\u001b[0m\u001b[0;34m\u001b[0m\u001b[0m\n\u001b[0;32m--> 878\u001b[0;31m                     \u001b[0;32mraise\u001b[0m \u001b[0mAttributeError\u001b[0m\u001b[0;34m(\u001b[0m\u001b[0;34m'Unknown property %s'\u001b[0m \u001b[0;34m%\u001b[0m \u001b[0mk\u001b[0m\u001b[0;34m)\u001b[0m\u001b[0;34m\u001b[0m\u001b[0m\n\u001b[0m\u001b[1;32m    879\u001b[0m                 \u001b[0;32mreturn\u001b[0m \u001b[0mfunc\u001b[0m\u001b[0;34m(\u001b[0m\u001b[0mv\u001b[0m\u001b[0;34m)\u001b[0m\u001b[0;34m\u001b[0m\u001b[0m\n\u001b[1;32m    880\u001b[0m \u001b[0;34m\u001b[0m\u001b[0m\n",
      "\u001b[0;31mAttributeError\u001b[0m: Unknown property figsize"
     ]
    },
    {
     "data": {
      "image/png": "[encoded data removed]",
      "text/plain": [
       "<matplotlib.figure.Figure at 0x7f17a2e0b588>"
      ]
     },
     "metadata": {},
     "output_type": "display_data"
    }
   ],
   "source": [
    "# obtenemos los centroides\n",
    "centroids = kmeans.cluster_centers_\n",
    "inertia = kmeans.inertia_      \n",
    "print('Sumatorio de distancias de los eventos a los centroides de los clusters más cercanos: ' + str(inertia))\n",
    "final_u = Z \n",
    "final_centroids = centroids\n",
    "final_dist = kmeans"
   ]
  },
  {
   "cell_type": "code",
   "execution_count": null,
   "metadata": {},
   "outputs": [],
   "source": [
    "'''\n",
    "Método que muestra los resultados del clustering.\n",
    "    Entradas:\n",
    "        - data: conjunto de datos con los eventos que vamos a procesar (matrix [m,n])\n",
    "        - index: la lista de juntas a las que pertenece cada evento (array [m])\n",
    "        - samples_distribution: distribución de las juntas, una fila por cada set de jutas que pertenecen a una misma zona del puente y que tendrán el mismo color en el grafo\n",
    "        - centroids: centroides o valores medios (matrix [m, n_clusters])\n",
    "        - Z: array que contiene el cluster al que pertenece cada evento (array [m])\n",
    "        - njoints: 6 o 71, en base al caso de estudio planteado\n",
    "    Salidas: cada cluster se representa mediante 2 grafos, el de la parte superior muestra el centroide y la desviación típica de los eventos agrupados en el cluster y en la parte inferior se muestra la distribución de los eventos\n",
    "'''\n",
    "draw_clustering_results(reduced_data_fft,reduced_index,joints_dist,final_centroids,final_u,njoints=6)"
   ]
  },
  {
   "cell_type": "markdown",
   "metadata": {},
   "source": [
    "## Clustering basado en juntas: mapa de distancias entre los representantes de las juntas"
   ]
  },
  {
   "cell_type": "code",
   "execution_count": null,
   "metadata": {
    "collapsed": true
   },
   "outputs": [],
   "source": [
    "# probar con los datos originales\n",
    "'''\n",
    "Método que calcula la media de los eventos correspondientes a cada junta (señales representativas de cada junta).\n",
    "    Entradas:\n",
    "        - data: conjunto de datos de entrenamiento, con los eventos que vamos a procesar (matrix [m,n])\n",
    "        - labels: la lista de juntas a las que pertenece cada evento (array [m])\n",
    "        - samples_distribution: distribución de las juntas, una fila por cada set de jutas que pertenecen a una misma zona del puente y que tendrán el mismo color en el grafo\n",
    "    Salidas: (means, joints) las señales representativas de cada junta, o valores medios (matrix [j,n], j=número de juntas diferentes) y joints la lista con las etiquetas de las juntas (array [j])\n",
    "'''    \n",
    "means, joints = calculate_joints_means(reduced_data_fft, reduced_index, joints_dist)"
   ]
  },
  {
   "cell_type": "code",
   "execution_count": null,
   "metadata": {},
   "outputs": [],
   "source": [
    "# probar usando otras métricas de distancia: ¿con cuál se obtienen los mejores resultados?\n",
    "'''\n",
    "Método que crea un mapa o matriz de distancias.\n",
    "    Entradas:\n",
    "        - centroids: los representates de las juntas (matrix [j,n])            \n",
    "        - labels: las etiquetas de las juntas (array [j])        \n",
    "        - weights: pesos de los centroides (array [m]) \n",
    "        - distance: métrica de distancia a aplicar: Euclidean, Manhattan, Correlation, Minkowski, Minkowski_pthPower, Chebyshev\n",
    "        - p: pthPower utilizado en la distancia de Minkowski\n",
    "    Salidas: (global_matrix) el mapa o matriz de distancias resultante (matrix [m,m])\n",
    "''' \n",
    "draw_matrix_of_distances(means, joints, njoints=6, weights=None, distance='Euclidean', p=0.1)"
   ]
  },
  {
   "cell_type": "markdown",
   "metadata": {},
   "source": [
    "## Conclusiones"
   ]
  },
  {
   "cell_type": "markdown",
   "metadata": {},
   "source": [
    "- Los resultados experimentales demuestran que el método propuesto es capaz de detectar daño estructural y anomalías en los datos de manera precisa: \n",
    "- En el caso de estudio 1, con datos de 6 juntas, se detectó la presencia de grietas en una de ellas\n",
    "- El método propuesto se aplica en tiempo real para establecer el estado de salud de la estructura, en base a las distancias a los modelos obtenidos, y así poder tomar decisiones de negocio que aseguren el tráfico rodado seguro y un servicio eficiente y fiable\n"
   ]
  }
 ],
 "metadata": {
  "kernelspec": {
   "display_name": "Python 3",
   "language": "python",
   "name": "python3"
  },
  "language_info": {
   "codemirror_mode": {
    "name": "ipython",
    "version": 3
   },
   "file_extension": ".py",
   "mimetype": "text/x-python",
   "name": "python",
   "nbconvert_exporter": "python",
   "pygments_lexer": "ipython3",
   "version": "3.6.8"
  }
 },
 "nbformat": 4,
 "nbformat_minor": 1
}

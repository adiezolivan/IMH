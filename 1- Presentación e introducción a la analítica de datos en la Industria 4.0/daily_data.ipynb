{
 "cells": [
  {
   "cell_type": "markdown",
   "metadata": {},
   "source": [
    "# Soft-sensor para predecir las concentraciones de producto en el proceso de cracking de etileno\n"
   ]
  },
  {
   "cell_type": "raw",
   "metadata": {},
   "source": [
    "En este caso se presentan unos datos con una frecuencia diaria y se trata de usar técnicas de machine learning para desarrollar un soft-sensor con el objetivo tener un análisis de backup que es crítico para el proceso. Las concentraciones a predecir son:\n",
    "H2\t\tHidrógeno\n",
    "CH4     Metano\n",
    "C2H4\tEtileno\n",
    "C3H6\tPropileno\n"
   ]
  },
  {
   "cell_type": "markdown",
   "metadata": {},
   "source": [
    "## Carga de datos diarios de variables y concentraciones"
   ]
  },
  {
   "cell_type": "code",
   "execution_count": null,
   "metadata": {},
   "outputs": [],
   "source": [
    "import os\n",
    "path = r'./data/'\n",
    "\n",
    "import utils as u\n",
    "import pandas as pd\n",
    "\n",
    "\n",
    "file_name = 'short_data.csv'\n",
    "\n",
    "df = pd.read_csv(path+file_name, sep=',', header = 0, index_col = 0, parse_dates=True,date_parser=u.dateparse)\n",
    "\n",
    "df = df.rename(columns = u.translation)"
   ]
  },
  {
   "cell_type": "markdown",
   "metadata": {},
   "source": [
    "## Selección de la variables independientes y variables objetivo\n",
    "### Las variables objetivo son : 'H2_B', 'CH4_B', 'C2H4_B', 'C3H6_B'"
   ]
  },
  {
   "cell_type": "code",
   "execution_count": null,
   "metadata": {},
   "outputs": [],
   "source": [
    "X = (df[u.independent_labels]).as_matrix()\n",
    "Y_label = 'CH4_B'\n",
    "Y = (df[Y_label]).as_matrix()\n",
    "Y = Y.reshape(len(Y))"
   ]
  },
  {
   "cell_type": "markdown",
   "metadata": {},
   "source": [
    "## Particionado del conjunto de datos, se usa la regla habitual de 1/3\n",
    "### La librería Pandas proporciona métdos de validación con este otro tipo Bootstrap"
   ]
  },
  {
   "cell_type": "code",
   "execution_count": null,
   "metadata": {},
   "outputs": [],
   "source": [
    "from sklearn.model_selection import train_test_split\n",
    "X_train, X_test, y_train, y_test, idx_train, idx_test = train_test_split(X, Y, range(len(Y)),test_size=0.3, random_state=1)"
   ]
  },
  {
   "cell_type": "markdown",
   "metadata": {},
   "source": [
    "## Instanciamos el modelo a usar, en este caso Gradient Boosting.\n",
    "### Pandas proporciona este algoritmo de fácil uso. La parametrización se ha realizado con un método de búsqueda evolutiva"
   ]
  },
  {
   "cell_type": "code",
   "execution_count": null,
   "metadata": {},
   "outputs": [],
   "source": [
    "from sklearn.ensemble.gradient_boosting import GradientBoostingRegressor\n",
    "model = GradientBoostingRegressor(n_estimators=750, learning_rate=0.1,max_depth=10, loss='quantile',alpha=0.4)"
   ]
  },
  {
   "cell_type": "markdown",
   "metadata": {},
   "source": [
    "## Entrenamiento del modelo.\n",
    "### Es interesante conocer la importancia de cada variable en la regresión"
   ]
  },
  {
   "cell_type": "code",
   "execution_count": null,
   "metadata": {},
   "outputs": [],
   "source": [
    "model.fit(X_train, y_train)\n",
    "print (\"Feature importances:\"+str(model.feature_importances_))"
   ]
  },
  {
   "cell_type": "markdown",
   "metadata": {},
   "source": [
    "## Evaluación del modelo.\n",
    "### Training error"
   ]
  },
  {
   "cell_type": "code",
   "execution_count": null,
   "metadata": {},
   "outputs": [],
   "source": [
    "from math import sqrt\n",
    "from sklearn.metrics.regression import mean_squared_error, r2_score\n",
    "from numpy import corrcoef\n",
    "\n",
    "predictions = model.predict(X_train)\n",
    "nrmse = (sqrt(mean_squared_error(y_train,predictions)) / (max(y_train)-min(y_train)))\n",
    "print (\"RMSE Normalized: \" +str(nrmse))\n",
    "print (\"R2 score, coefficient of determination: \"+str(r2_score(y_train,predictions)))\n",
    "print (\"1-Correlation coefficient: \"+str(1-corrcoef(y_train,predictions)[0][1]))"
   ]
  },
  {
   "cell_type": "markdown",
   "metadata": {},
   "source": [
    "#### Visualización de la predicción"
   ]
  },
  {
   "cell_type": "code",
   "execution_count": null,
   "metadata": {},
   "outputs": [],
   "source": [
    "from matplotlib.pyplot import plot,show, figure, bar,legend,title,xlabel,ylabel\n",
    "figure(\"Training error\",figsize=(20,10))\n",
    "plot(y_train,'o',label = Y_label)\n",
    "plot(y_train,'--')\n",
    "plot(predictions, 'o',label = 'predictions')\n",
    "plot(predictions, '--')\n",
    "title(\"Training error\")\n",
    "xlabel(\"sample\")\n",
    "ylabel(\"concentration\")\n",
    "legend(loc='best')\n",
    "show()"
   ]
  },
  {
   "cell_type": "markdown",
   "metadata": {},
   "source": [
    "### Error de test"
   ]
  },
  {
   "cell_type": "code",
   "execution_count": null,
   "metadata": {},
   "outputs": [],
   "source": [
    "predictions = model.predict(X_test)\n",
    "nrmse = (sqrt(mean_squared_error(y_test,predictions)) / (max(y_test)-min(y_test)))\n",
    "print (\"\\nTest error\")\n",
    "print (\"RMSE Normalized: \"+str(nrmse))\n",
    "print (\"R2 score, coefficient of determination: \"+str(r2_score(y_test,predictions)))\n",
    "print (\"1-Correlation coefficient: \"+str(1-corrcoef(y_test,predictions)[0][1]))"
   ]
  },
  {
   "cell_type": "markdown",
   "metadata": {},
   "source": [
    "#### Visualización de la predicción"
   ]
  },
  {
   "cell_type": "code",
   "execution_count": null,
   "metadata": {},
   "outputs": [],
   "source": [
    "figure(\"Test error\", figsize=(20,10))\n",
    "plot(y_test,'o',label = Y_label,)\n",
    "plot(y_test,'--')\n",
    "plot(predictions, 'o',label = 'predictions')\n",
    "plot(predictions, '--')\n",
    "title(\"Test error\")\n",
    "xlabel(\"sample\")\n",
    "ylabel(\"concentration\")\n",
    "legend(loc='best')\n",
    "show()"
   ]
  },
  {
   "cell_type": "code",
   "execution_count": null,
   "metadata": {},
   "outputs": [],
   "source": []
  }
 ],
 "metadata": {
  "kernelspec": {
   "display_name": "Python 3",
   "language": "python",
   "name": "python3"
  },
  "language_info": {
   "codemirror_mode": {
    "name": "ipython",
    "version": 3
   },
   "file_extension": ".py",
   "mimetype": "text/x-python",
   "name": "python",
   "nbconvert_exporter": "python",
   "pygments_lexer": "ipython3",
   "version": "3.6.8"
  }
 },
 "nbformat": 4,
 "nbformat_minor": 2
}

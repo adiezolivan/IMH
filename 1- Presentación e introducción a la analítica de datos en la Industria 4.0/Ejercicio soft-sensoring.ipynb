{
 "cells": [
  {
   "cell_type": "markdown",
   "metadata": {
    "colab_type": "text",
    "id": "h7hsRZmHnztO"
   },
   "source": [
    "# Soft-sensor para predecir las concentraciones de producto en el proceso de cracking de etileno\n"
   ]
  },
  {
   "cell_type": "markdown",
   "metadata": {
    "colab_type": "text",
    "id": "yQN4AHOhnztW"
   },
   "source": [
    "## Carga de datos diarios de variables y concentraciones\n",
    "#### Carga los datos del archivo \"short_data.csv\" en un Dataframe de pandas"
   ]
  },
  {
   "cell_type": "code",
   "execution_count": 5,
   "metadata": {
    "colab": {},
    "colab_type": "code",
    "id": "Wr814OO8nztZ"
   },
   "outputs": [],
   "source": [
    "import os\n",
    "import utils as u\n",
    "\n",
    "import utils as u\n",
    "import pandas as pd\n",
    "\n",
    "\n",
    "file_name = 'data/short_data.csv'\n",
    "## lectura de csv\n",
    "\n",
    "##renombrar columnas\n"
   ]
  },
  {
   "cell_type": "markdown",
   "metadata": {
    "colab_type": "text",
    "id": "nt6Z8xYCnztl"
   },
   "source": [
    "## Selección de la variables independientes y variables objetivo\n",
    "### Las variables objetivo son : 'H2_B', 'CH4_B', 'C2H4_B', 'C3H6_B'\n",
    "\n",
    "#### Visualiza con matplotlib (seaborn, plotly) las variables objetivo\n"
   ]
  },
  {
   "cell_type": "code",
   "execution_count": 6,
   "metadata": {
    "colab": {
     "base_uri": "https://localhost:8080/",
     "height": 867
    },
    "colab_type": "code",
    "executionInfo": {
     "elapsed": 1980,
     "status": "ok",
     "timestamp": 1570737354300,
     "user": {
      "displayName": "Fernando Boto",
      "photoUrl": "https://lh3.googleusercontent.com/a-/AAuE7mDpml8by3ve4UvGSslu1VlvudMsvs0-SbjXMfng=s64",
      "userId": "12254663004399816318"
     },
     "user_tz": -120
    },
    "id": "I7rQ_xp_mYML",
    "outputId": "39b5439c-2c33-45cb-8b16-cc9cad180a70"
   },
   "outputs": [],
   "source": [
    "import matplotlib.pylab as plt\n"
   ]
  },
  {
   "cell_type": "markdown",
   "metadata": {
    "colab_type": "text",
    "id": "63GKeOpjD-q9"
   },
   "source": [
    "### Data cleaning\n",
    "#### Prueba a limpiar los datos y visualiza el resultado"
   ]
  },
  {
   "cell_type": "code",
   "execution_count": null,
   "metadata": {
    "colab": {
     "base_uri": "https://localhost:8080/",
     "height": 52
    },
    "colab_type": "code",
    "executionInfo": {
     "elapsed": 707,
     "status": "ok",
     "timestamp": 1570737362763,
     "user": {
      "displayName": "Fernando Boto",
      "photoUrl": "https://lh3.googleusercontent.com/a-/AAuE7mDpml8by3ve4UvGSslu1VlvudMsvs0-SbjXMfng=s64",
      "userId": "12254663004399816318"
     },
     "user_tz": -120
    },
    "id": "dsxe5LkkDjc2",
    "outputId": "69e7f4be-f3d5-461c-bc49-bb2e3a332657"
   },
   "outputs": [],
   "source": []
  },
  {
   "cell_type": "markdown",
   "metadata": {
    "colab_type": "text",
    "id": "DKhLdTUsEIka"
   },
   "source": [
    "### Visualizacióón de la limpieza de datos"
   ]
  },
  {
   "cell_type": "code",
   "execution_count": null,
   "metadata": {
    "colab": {
     "base_uri": "https://localhost:8080/",
     "height": 867
    },
    "colab_type": "code",
    "executionInfo": {
     "elapsed": 1779,
     "status": "ok",
     "timestamp": 1570738039221,
     "user": {
      "displayName": "Fernando Boto",
      "photoUrl": "https://lh3.googleusercontent.com/a-/AAuE7mDpml8by3ve4UvGSslu1VlvudMsvs0-SbjXMfng=s64",
      "userId": "12254663004399816318"
     },
     "user_tz": -120
    },
    "id": "9tv2Z5_BESsP",
    "outputId": "654287d9-1c60-4f26-975a-0f63c88c3020"
   },
   "outputs": [],
   "source": []
  },
  {
   "cell_type": "markdown",
   "metadata": {
    "colab_type": "text",
    "id": "ed37GDiSXIuZ"
   },
   "source": [
    "#### Selecciona las variables independientes y el target (es decir X e Y)"
   ]
  },
  {
   "cell_type": "code",
   "execution_count": null,
   "metadata": {
    "colab": {},
    "colab_type": "code",
    "id": "se3g15Gfnztp"
   },
   "outputs": [],
   "source": []
  },
  {
   "cell_type": "markdown",
   "metadata": {
    "colab_type": "text",
    "id": "7UodenRjnztw"
   },
   "source": [
    "## Particionado del conjunto de datos, se usa la regla habitual de 1/3\n",
    "### La librería Pandas proporciona métdos de validación con este otro tipo Bootstrap\n",
    "#### Particiona el conjunto de datos con la funcióón \"train_test_split\""
   ]
  },
  {
   "cell_type": "code",
   "execution_count": null,
   "metadata": {
    "colab": {},
    "colab_type": "code",
    "id": "lFYNotL1nztz"
   },
   "outputs": [],
   "source": []
  },
  {
   "cell_type": "markdown",
   "metadata": {
    "colab_type": "text",
    "id": "O_TdlRwYnzt5"
   },
   "source": [
    "## Instanciamos el modelo a usar, en este caso Gradient Boosting.\n",
    "### Pandas proporciona este algoritmo de fácil uso. La parametrización se ha realizado con un método de búsqueda evolutiva\n",
    "\n",
    "#### Hacer prueba con Gradient boosting, también se puede instanciar otro modelo de forma sencilla, por ejemplo random forest"
   ]
  },
  {
   "cell_type": "code",
   "execution_count": null,
   "metadata": {
    "colab": {},
    "colab_type": "code",
    "id": "cQWbrt8Hnzt8"
   },
   "outputs": [],
   "source": []
  },
  {
   "cell_type": "markdown",
   "metadata": {
    "colab_type": "text",
    "id": "9XbLhqSynzuD"
   },
   "source": [
    "## Entrenamiento del modelo.\n",
    "### Es interesante conocer la importancia de cada variable en la regresión\n",
    "#### Entrenar el modelo e imprimir \"feature_importance\""
   ]
  },
  {
   "cell_type": "code",
   "execution_count": null,
   "metadata": {
    "colab": {
     "base_uri": "https://localhost:8080/",
     "height": 121
    },
    "colab_type": "code",
    "executionInfo": {
     "elapsed": 2168,
     "status": "ok",
     "timestamp": 1570738080075,
     "user": {
      "displayName": "Fernando Boto",
      "photoUrl": "https://lh3.googleusercontent.com/a-/AAuE7mDpml8by3ve4UvGSslu1VlvudMsvs0-SbjXMfng=s64",
      "userId": "12254663004399816318"
     },
     "user_tz": -120
    },
    "id": "YBBYJmPwnzuF",
    "outputId": "368c495b-916c-4821-fee7-30f7bff61dc6"
   },
   "outputs": [],
   "source": []
  },
  {
   "cell_type": "markdown",
   "metadata": {
    "colab_type": "text",
    "id": "JWVl3FOBnzuK"
   },
   "source": [
    "## Evaluación del modelo.\n",
    "### Extraer el Training error, RMSE y R2 score"
   ]
  },
  {
   "cell_type": "code",
   "execution_count": 7,
   "metadata": {
    "colab": {
     "base_uri": "https://localhost:8080/",
     "height": 69
    },
    "colab_type": "code",
    "executionInfo": {
     "elapsed": 745,
     "status": "ok",
     "timestamp": 1570738108851,
     "user": {
      "displayName": "Fernando Boto",
      "photoUrl": "https://lh3.googleusercontent.com/a-/AAuE7mDpml8by3ve4UvGSslu1VlvudMsvs0-SbjXMfng=s64",
      "userId": "12254663004399816318"
     },
     "user_tz": -120
    },
    "id": "QBIRWH1QnzuN",
    "outputId": "81addded-5829-4955-8a7f-1423d19e0332"
   },
   "outputs": [],
   "source": [
    "from math import sqrt\n",
    "from sklearn.metrics.regression import mean_squared_error, r2_score\n"
   ]
  },
  {
   "cell_type": "markdown",
   "metadata": {
    "colab_type": "text",
    "id": "67irhN-wnzuS"
   },
   "source": [
    "#### Visualización de la predicción en el entrenamiento"
   ]
  },
  {
   "cell_type": "code",
   "execution_count": null,
   "metadata": {
    "colab": {
     "base_uri": "https://localhost:8080/",
     "height": 621
    },
    "colab_type": "code",
    "executionInfo": {
     "elapsed": 1287,
     "status": "ok",
     "timestamp": 1570738122165,
     "user": {
      "displayName": "Fernando Boto",
      "photoUrl": "https://lh3.googleusercontent.com/a-/AAuE7mDpml8by3ve4UvGSslu1VlvudMsvs0-SbjXMfng=s64",
      "userId": "12254663004399816318"
     },
     "user_tz": -120
    },
    "id": "GRKw9DJqnzuU",
    "outputId": "a2c17dd4-94ca-47e0-c5f7-60123147379d"
   },
   "outputs": [],
   "source": []
  },
  {
   "cell_type": "code",
   "execution_count": 8,
   "metadata": {
    "colab": {
     "base_uri": "https://localhost:8080/",
     "height": 617
    },
    "colab_type": "code",
    "executionInfo": {
     "elapsed": 1325,
     "status": "ok",
     "timestamp": 1570738152426,
     "user": {
      "displayName": "Fernando Boto",
      "photoUrl": "https://lh3.googleusercontent.com/a-/AAuE7mDpml8by3ve4UvGSslu1VlvudMsvs0-SbjXMfng=s64",
      "userId": "12254663004399816318"
     },
     "user_tz": -120
    },
    "id": "PkFm37ep16Eo",
    "outputId": "a97d3e70-d71a-43fc-94f2-7193f5d2754e"
   },
   "outputs": [],
   "source": [
    "import seaborn as sns;\n"
   ]
  },
  {
   "cell_type": "markdown",
   "metadata": {
    "colab_type": "text",
    "id": "eiCq4z5anzuZ"
   },
   "source": [
    "### Extrae el error de test RMSE y R2 score"
   ]
  },
  {
   "cell_type": "code",
   "execution_count": null,
   "metadata": {
    "colab": {
     "base_uri": "https://localhost:8080/",
     "height": 104
    },
    "colab_type": "code",
    "executionInfo": {
     "elapsed": 671,
     "status": "ok",
     "timestamp": 1570738184525,
     "user": {
      "displayName": "Fernando Boto",
      "photoUrl": "https://lh3.googleusercontent.com/a-/AAuE7mDpml8by3ve4UvGSslu1VlvudMsvs0-SbjXMfng=s64",
      "userId": "12254663004399816318"
     },
     "user_tz": -120
    },
    "id": "pBg8ukNCnzub",
    "outputId": "cb9da2e4-e5ce-4ed4-9138-27a9ce48cdf0"
   },
   "outputs": [],
   "source": []
  },
  {
   "cell_type": "markdown",
   "metadata": {
    "colab_type": "text",
    "id": "rSgCjvPynzui"
   },
   "source": [
    "#### Visualización de la predicción de test"
   ]
  },
  {
   "cell_type": "code",
   "execution_count": null,
   "metadata": {
    "colab": {
     "base_uri": "https://localhost:8080/",
     "height": 627
    },
    "colab_type": "code",
    "executionInfo": {
     "elapsed": 1475,
     "status": "ok",
     "timestamp": 1570738250708,
     "user": {
      "displayName": "Fernando Boto",
      "photoUrl": "https://lh3.googleusercontent.com/a-/AAuE7mDpml8by3ve4UvGSslu1VlvudMsvs0-SbjXMfng=s64",
      "userId": "12254663004399816318"
     },
     "user_tz": -120
    },
    "id": "mu2Pxxhxnzuk",
    "outputId": "1c745b4a-75a9-4471-9786-ff034e2300cf"
   },
   "outputs": [],
   "source": []
  },
  {
   "cell_type": "code",
   "execution_count": null,
   "metadata": {
    "colab": {
     "base_uri": "https://localhost:8080/",
     "height": 617
    },
    "colab_type": "code",
    "executionInfo": {
     "elapsed": 1380,
     "status": "ok",
     "timestamp": 1570738304996,
     "user": {
      "displayName": "Fernando Boto",
      "photoUrl": "https://lh3.googleusercontent.com/a-/AAuE7mDpml8by3ve4UvGSslu1VlvudMsvs0-SbjXMfng=s64",
      "userId": "12254663004399816318"
     },
     "user_tz": -120
    },
    "id": "foOoxOK5nzuo",
    "outputId": "93922845-77cb-4b62-ded5-02121231e2de"
   },
   "outputs": [],
   "source": []
  }
 ],
 "metadata": {
  "colab": {
   "name": "Ejercicio soft-sensoring.ipynb",
   "provenance": [
    {
     "file_id": "1ytDK6pSOD6-Cuab1sgzknu19Vnso2iA6",
     "timestamp": 1570789886056
    }
   ],
   "toc_visible": true
  },
  "kernelspec": {
   "display_name": "Python 3",
   "language": "python",
   "name": "python3"
  },
  "language_info": {
   "codemirror_mode": {
    "name": "ipython",
    "version": 3
   },
   "file_extension": ".py",
   "mimetype": "text/x-python",
   "name": "python",
   "nbconvert_exporter": "python",
   "pygments_lexer": "ipython3",
   "version": "3.7.3"
  }
 },
 "nbformat": 4,
 "nbformat_minor": 1
}

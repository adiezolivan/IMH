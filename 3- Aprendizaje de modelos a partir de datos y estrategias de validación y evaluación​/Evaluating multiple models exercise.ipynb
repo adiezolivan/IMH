{
 "cells": [
  {
   "cell_type": "markdown",
   "metadata": {},
   "source": [
    "# Aprendizaje y evaluación de modelos\n",
    "\n",
    "##  Introducción\n",
    "\n",
    "El objetivo del ejercicio planteado consiste en comparar el rendimiento de 3 modelos de Machine Learning diferentes. Para ello, vamos a utilizar un set de datos llamado 'mtcars' sobre coches clásicos para ajustar y evaluar los 3 modelos:\n",
    "1. Modelo de regresión lineal sobre todas las variables\n",
    "1. Modelo de regresión lineal sobre las variables más representativas\n",
    "1. Otro modelo de regresión lineal a elegir: https://scikit-learn.org/stable/modules/linear_model.html\n",
    "\n",
    "Referencias:\n",
    "- https://gallery.cortanaintelligence.com/Notebook/Evaluating-Multiple-Models-6\n",
    "- https://gallery.cortanaintelligence.com/\n",
    "- https://notebooks.azure.com/library/eSJDgAFMXAY"
   ]
  },
  {
   "cell_type": "markdown",
   "metadata": {},
   "source": [
    "## Cargar datos\n",
    "Cargar datos y mostrar dimensionalidad"
   ]
  },
  {
   "cell_type": "code",
   "execution_count": null,
   "metadata": {
    "scrolled": true
   },
   "outputs": [],
   "source": [
    "import warnings\n",
    "warnings.filterwarnings(\"ignore\")\n",
    "warnings.simplefilter('ignore')\n",
    "\n",
    "import pydataset\n",
    "from pydataset import data\n",
    "df = data('mtcars')\n",
    "df.shape"
   ]
  },
  {
   "cell_type": "markdown",
   "metadata": {},
   "source": [
    "Ver distribución de valores y estadística básica: media, std, max, min, percentiles..."
   ]
  },
  {
   "cell_type": "code",
   "execution_count": null,
   "metadata": {},
   "outputs": [],
   "source": [
    "df.describe()"
   ]
  },
  {
   "cell_type": "markdown",
   "metadata": {},
   "source": [
    "Mostrar valores de las variables de los 10 primeros registros del dataset"
   ]
  },
  {
   "cell_type": "code",
   "execution_count": null,
   "metadata": {},
   "outputs": [],
   "source": [
    "df.head()"
   ]
  },
  {
   "cell_type": "markdown",
   "metadata": {},
   "source": [
    "La descripción de las variables sería la siguiente:\n",
    "- mpg: Miles/(US) gallon\n",
    "- cyl: Number of cylinders\n",
    "- disp: Displacement (cu.in.)\n",
    "- hp: Gross horsepower\n",
    "- drat: Rear axle ratio\n",
    "- wt: Weight (1000 lbs)\n",
    "- qsec: 1/4 mile time\n",
    "- vs: Engine (0 = V-shaped, 1 = straight)\n",
    "- am: Transmission (0 = automatic, 1 = manual)\n",
    "- gear: Number of forward gears\n",
    "- carb: Number of carburetors\n",
    "\n",
    "Según el peso del coche, 'wt', y el tipo de cambio (manual/automático), 'am': ¿qué tipos de coches consumen más? Por lógica, deben sonsumir más los más pesados y con un tipo de cambio manual, pero necesitamos corroborar o justificar esa hipótesis a partir de los datos."
   ]
  },
  {
   "cell_type": "code",
   "execution_count": null,
   "metadata": {},
   "outputs": [],
   "source": [
    "import numpy as np\n",
    "\n",
    "# RESPUESTA 1\n",
    "print(...)"
   ]
  },
  {
   "cell_type": "markdown",
   "metadata": {},
   "source": [
    "Vamos a aprender modelos de Machine Learning capaces de predecir el consumo de gasolina, 'mpg', a partir de las otras variables. Para ello, lo primero que haremos será separar el dataset en training y test sets: \n",
    "- training set para entrenar el modelo\n",
    "- test set para evaluarlo"
   ]
  },
  {
   "cell_type": "code",
   "execution_count": null,
   "metadata": {},
   "outputs": [],
   "source": [
    "from sklearn.cross_validation import train_test_split\n",
    "\n",
    "# separar el set de características en variables predictoras, 'X', y variable objetivo, 'y'\n",
    "y = df['mpg'].values\n",
    "X = df.drop('mpg', 1).values\n",
    "feature_names = df.drop('mpg', 1).columns\n",
    "\n",
    "# RESPUESTA 2\n",
    "# reservar 33% del dataset original (1/3) para test\n",
    "X_train, X_test, y_train, y_test = ...(..., ..., ..., random_state=123)\n",
    "print(X_train.shape)\n",
    "print(X_test.shape)"
   ]
  },
  {
   "cell_type": "markdown",
   "metadata": {},
   "source": [
    "Se puede apreciar que el número de variables predictoras es similar al número de registros disponibles que vamos a utilizar para el test. Esto nos va producir modelos sobreentrenados (overfitting) que obtienen predicciones muy buenas en la fase de training pero un rendimiento pobre en cuando a los datos de test. "
   ]
  },
  {
   "cell_type": "markdown",
   "metadata": {},
   "source": [
    "## Ajuste de los modelos"
   ]
  },
  {
   "cell_type": "markdown",
   "metadata": {},
   "source": [
    "### Modelo lineal sobre todas las variables\n",
    "Para ajustar el modelo lineal al conjunto de training, en primera instancia usaremos todas las variables predictoras"
   ]
  },
  {
   "cell_type": "code",
   "execution_count": null,
   "metadata": {},
   "outputs": [],
   "source": [
    "from sklearn.linear_model import LinearRegression\n",
    "\n",
    "lm = LinearRegression()\n",
    "# RESPUESTA 3\n",
    "lm...(..., ...)"
   ]
  },
  {
   "cell_type": "markdown",
   "metadata": {},
   "source": [
    "Una vez ajustado, mostramos el valor de precisión R² respecto de los valores reales de 'mpg' vs los estimados por el modelo. También mostramos los coeficientes de ajuste para las variables predictoras."
   ]
  },
  {
   "cell_type": "code",
   "execution_count": null,
   "metadata": {},
   "outputs": [],
   "source": [
    "import pandas as pd\n",
    "from sklearn.metrics import r2_score\n",
    "\n",
    "# RESPUESTA 4\n",
    "# mostrar R^2 respecto del training set\n",
    "r2_train = ...\n",
    "print('El valor de R² para el training set es: ' + str(r2_train))\n",
    "\n",
    "# mostrar coeficientes\n",
    "param_df = pd.DataFrame({\"Coefficient\": [lm.intercept_] + list(lm.coef_),\n",
    "                         \"Feature\": ['intercept'] + list(feature_names)})\n",
    "param_df[['Feature', 'Coefficient']]"
   ]
  },
  {
   "cell_type": "markdown",
   "metadata": {},
   "source": [
    "En base a los resultados obtenidos: ¿qué varianza estaríamos explicando con nuestro modelo respecto de los valores de la variable objetivo, 'mpg'?"
   ]
  },
  {
   "cell_type": "code",
   "execution_count": null,
   "metadata": {},
   "outputs": [],
   "source": [
    "# RESPUESTA 5\n",
    "..."
   ]
  },
  {
   "cell_type": "markdown",
   "metadata": {},
   "source": [
    "Vamos ahora con el test set: ¿qué resultados obtenemos en relación al R²?"
   ]
  },
  {
   "cell_type": "code",
   "execution_count": null,
   "metadata": {},
   "outputs": [],
   "source": [
    "# mostrar R^2 respecto del test set \n",
    "r2_test = ...\n",
    "print('El valor de R² para el test set es: ' + str(r2_test))\n",
    "\n",
    "# RESPUESTA 6\n",
    "# mostrar también otras métricas de evaluación del modelo: \n",
    "# - mean absolute error (mae)\n",
    "# - root mean squared error (rmse)\n",
    "# - relative absolute error (rae)\n",
    "# - relative squared error (rse)\n",
    "mae = ...\n",
    "rmse = ...\n",
    "rae = ...\n",
    "rse = ...\n",
    "\n",
    "summary_df = pd.DataFrame(index = ['R-squared', 'Mean Absolute Error', 'Root Mean Squared Error',\n",
    "                                   'Relative Absolute Error', 'Relative Squared Error'])\n",
    "summary_df['simple linear regression, all variables'] = [r_squared, mae, rmse, rae, rse]\n",
    "summary_df"
   ]
  },
  {
   "cell_type": "markdown",
   "metadata": {},
   "source": [
    "En base al valor obtenido, comparándolo respecto del R² que vimos en la fase de training: ¿qué problema nos encontramos?"
   ]
  },
  {
   "cell_type": "markdown",
   "metadata": {},
   "source": [
    "### Modelo lineal sobre las variables más representativas"
   ]
  },
  {
   "cell_type": "markdown",
   "metadata": {},
   "source": [
    "Una posible manera de reducir el overfitting consiste en eliminar ciertas variables predictoras del dataset. Obviamente, el objetivo sería no utilizar las variables que no aportan ningún tipo de información al problema que queremos resolver. Para ello, vamos a aplicar recursive feature elimination (RFE). RFE ajusta varios modelos y compara su rendimiento, requiriendo por tanto los datasets de training y test. Reservaremos el dataset de test utilizado previamente para comparar modelos de manera equitativa. Para la evaluación del RFE necesitaremos reservar ciertos datos de training (X_train, y_train) para cada ronda de ajuste. Aplicaremos cross-validation con 'scikit-learn': https://scikit-learn.org/stable/modules/generated/sklearn.feature_selection.RFECV.html"
   ]
  },
  {
   "cell_type": "markdown",
   "metadata": {},
   "source": [
    "También aplicaremos un escalado de las variables, para evitar que la magnitud nos estropee el modelo "
   ]
  },
  {
   "cell_type": "code",
   "execution_count": null,
   "metadata": {},
   "outputs": [],
   "source": [
    "%matplotlib inline\n",
    "\n",
    "import matplotlib.pyplot as plt\n",
    "from sklearn.preprocessing import StandardScaler\n",
    "from sklearn.feature_selection import RFECV\n",
    "import seaborn as sns\n",
    "\n",
    "# RESPUESTA 7\n",
    "# escalamos cada variable a media 0 y varianza 1: x' = (x - media) / std\n",
    "scaler = StandardScaler()\n",
    "X_scaled = ...\n",
    "\n",
    "# RESPUESTA 8\n",
    "# eliminación recursiva de variables con CV=10, usando R² como métrica para evaluar el modelo\n",
    "lm = LinearRegression()  # modelo lineal\n",
    "rfe = RFECV(...) \n",
    "rfe....\n",
    "\n",
    "# mostrar número óptimo de variables\n",
    "print('Optimal number of features: {}'.format(rfe.n_features_))\n",
    "\n",
    "# variables seleccionadas\n",
    "print('Features selected: {}'.format(', '.join(np.array(feature_names)[rfe.support_].tolist())))\n",
    "\n",
    "# obtener el orden de importancia\n",
    "ranked_features, _ = zip(*sorted(zip(feature_names, rfe.ranking_.tolist()),\n",
    "                                 key=lambda x: x[1],\n",
    "                                 reverse=True))\n",
    "print('Suggested order of feature removal: {}'.format(', '.join(ranked_features)))"
   ]
  },
  {
   "cell_type": "code",
   "execution_count": null,
   "metadata": {},
   "outputs": [],
   "source": [
    "# plotear número de variables vs valores de R²\n",
    "sns.set_style(\"darkgrid\")\n",
    "plt.figure(figsize=(8, 4))\n",
    "plt.xlabel(\"Number of features selected\")\n",
    "plt.ylabel(\"Score\")\n",
    "plt.plot(range(1, len(rfe.grid_scores_) + 1), rfe.grid_scores_)\n",
    "plt.show()"
   ]
  },
  {
   "cell_type": "markdown",
   "metadata": {},
   "source": [
    "Los resultados deberían mostrar cómo el modelo, testeado con la estrategia CV, mejora con un número reducido pero relevante de variables. Como cabía esperar según lo visto anteriormente, el peso (wt) y el tipo de transmisión (am) estarían entre las variables a eliminar en última instancia ya que aportan cierta información al predecir nuestra variable objetivo (mpg)."
   ]
  },
  {
   "cell_type": "markdown",
   "metadata": {},
   "source": [
    "Ya podemos ajustar el modelo lineal usando los datos de test que hemos utilizado en el caso anterior y así comparar de manera equitativa ambos modelos. Usaremos las mismas métricas que hemos visto antes: R², mae, rmse, rae y rse"
   ]
  },
  {
   "cell_type": "code",
   "execution_count": null,
   "metadata": {},
   "outputs": [],
   "source": [
    "X_train_subset = X_train[:, rfe.support_]\n",
    "lm2 = LinearRegression()\n",
    "lm2...\n",
    "\n",
    "X_test_part = X_test[:, rfe.support_]\n",
    "predicted = ...\n",
    "\n",
    "r_squared = ...\n",
    "mae = ...\n",
    "rmse = ...\n",
    "rae = ...\n",
    "rse = ...\n",
    "\n",
    "summary_df['simple linear regression, selected variables'] = [r_squared, mae, rmse, rae, rse]\n",
    "summary_df"
   ]
  },
  {
   "cell_type": "markdown",
   "metadata": {},
   "source": [
    "¿Qué modelo obtendría mejores resultados y respecto de qué métricas? Tener en cuenta también el hecho de utilizar más o menos variables en términos de procesamiento, almacenaje, etc."
   ]
  },
  {
   "cell_type": "markdown",
   "metadata": {},
   "source": [
    "### Modelo a elegir"
   ]
  },
  {
   "cell_type": "markdown",
   "metadata": {},
   "source": [
    "Seleccionar otro modelo de regresión lineal de scikit-learn y realizar el mismo análisis:\n",
    "- https://scikit-learn.org/stable/modules/linear_model.html  "
   ]
  },
  {
   "cell_type": "markdown",
   "metadata": {},
   "source": [
    "Aplicar nuestro modelo a todos los datos. Ajustar el modelo al dataset de entrenamiento y generar resultados para el conjunto de test"
   ]
  },
  {
   "cell_type": "code",
   "execution_count": null,
   "metadata": {},
   "outputs": [],
   "source": [
    "import sklearn.linear_model as linear_model\n",
    "\n",
    "my_model = linear_model...\n",
    "my_model...\n",
    "\n",
    "predicted = ...\n",
    "\n",
    "r_squared = ...\n",
    "mae = ...\n",
    "rmse = ...\n",
    "rae = ...\n",
    "rse = ...\n",
    "\n",
    "summary_df['my_model linear regression, all variables'] = [r_squared, mae, rmse, rae, rse]\n",
    "summary_df"
   ]
  },
  {
   "cell_type": "markdown",
   "metadata": {},
   "source": [
    "Comparar resultados entre sí, incluyendo los 3 modelos: ¿cuál obtiene mejores resultados? El objetivo sería que nuestro modelo sea capaz de superar los modelos de regresión lineal vistos"
   ]
  },
  {
   "cell_type": "markdown",
   "metadata": {},
   "source": [
    "Seleccionar el mejor modelo, ajustarlo a todos los valores de las variables utilizadas reservando el último registro (no lo usamos para el ajuste). Guardar el modelo así entrenado disco"
   ]
  },
  {
   "cell_type": "code",
   "execution_count": null,
   "metadata": {},
   "outputs": [],
   "source": [
    "from sklearn.externals import joblib\n",
    "# RESPUESTA 9\n",
    "reg_last = ...\n",
    "..."
   ]
  },
  {
   "cell_type": "markdown",
   "metadata": {},
   "source": [
    "Cargar el modelo generado y clasificar el registro que hemos reservado en el paso previo, comparándolo con el valor real"
   ]
  },
  {
   "cell_type": "code",
   "execution_count": null,
   "metadata": {},
   "outputs": [],
   "source": [
    "# RESPUESTA 10\n",
    "my_loaded_model = ...\n",
    "my_loaded_model\n",
    "print(my_loaded_model...)"
   ]
  },
  {
   "cell_type": "markdown",
   "metadata": {},
   "source": [
    "Hecho! Ya tenemos nuestro modelo sencillo para futuras predicciones"
   ]
  },
  {
   "cell_type": "markdown",
   "metadata": {},
   "source": [
    "## Conclusión"
   ]
  },
  {
   "cell_type": "markdown",
   "metadata": {},
   "source": [
    "Con lo visto en clase y en este ejercicio, ya tenemos criterio para entrenar y generar un modelo sencillo en base a un conjunto de datos. En concreto:\n",
    "- Hemos diseñado el problema a resolver, separando el set de datos en training y test para evitar overfitting\n",
    "- Hemos entrenado y validado modelos, comparándolos entre sí\n",
    "- Hemos probado a eliminar variables irrelevantes para el problema y ver cómo afecta a los modelos\n",
    "- Hemos generado el mejor modelo a disco y lo hemos cargado para predecir un 'nuevo' registro\n",
    "\n",
    "En la siguiente sesión, empezaremos a ver diferentes modelos según el tipo de aprendizaje a aplicar. Para empezar, modelos supervisados..."
   ]
  },
  {
   "cell_type": "code",
   "execution_count": null,
   "metadata": {},
   "outputs": [],
   "source": []
  }
 ],
 "metadata": {
  "kernelspec": {
   "display_name": "Python 3",
   "language": "python",
   "name": "python3"
  }
 },
 "nbformat": 4,
 "nbformat_minor": 1
}

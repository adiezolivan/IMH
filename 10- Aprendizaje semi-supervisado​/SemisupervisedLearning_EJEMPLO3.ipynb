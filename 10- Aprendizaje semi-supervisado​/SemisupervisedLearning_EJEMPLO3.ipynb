{
 "cells": [
  {
   "cell_type": "markdown",
   "metadata": {},
   "source": [
    "# MÓDULO 4: LA CIENCIA DE DATOS Y LOS MODELOS DE ANALÍTICA PREDICTIVA EN LA INDUSTRIA 4.0\n",
    "\n",
    "# 5- Aprendizaje semi-supervisado"
   ]
  },
  {
   "cell_type": "markdown",
   "metadata": {},
   "source": [
    "## Label Propagation en dígitos y active learning"
   ]
  },
  {
   "cell_type": "markdown",
   "metadata": {},
   "source": [
    "En este notebook de ejemplo se muestra la técnica active learning y label propagation para el aprendizaje de dígitos escritos a mano.\n",
    "\n",
    "La idea consiste en entrenar el modelo basado en label propagation siguiendo el siguiente proceso: \n",
    "\n",
    "* Entrenamos con únicamente 10 puntos etiquetados\n",
    "* Seleccionamos los 5 puntos con mayor incertidumbre al etiquetar\n",
    "* Entrenamos con 15 puntos etiquetados (los 10 originales + 5 nuevos)\n",
    "* Repetimos este proceso 4 veces para tener un modelo entrenado con 30 puntos etiquetados\n",
    "\n",
    "De esta manera vamos visualizando los dígitos para los cuales el modelo tuvo más problemas a la hora de propagar las etiquetas, lo cual puede ser muy útil para etiquetar con active learning de manera iterativa. \n",
    "\n",
    "Referencias:\n",
    "- https://scikit-learn.org/stable/modules/classes.html#module-sklearn.semi_supervised\n",
    "- https://scikit-learn.org/stable/auto_examples/datasets/plot_digits_last_image.html"
   ]
  },
  {
   "cell_type": "code",
   "execution_count": 4,
   "metadata": {},
   "outputs": [],
   "source": [
    "import numpy as np\n",
    "import matplotlib.pyplot as plt\n",
    "from scipy import stats\n",
    "import pandas as pd\n",
    "from sklearn import datasets\n",
    "from sklearn.semi_supervised import LabelSpreading\n",
    "from sklearn.metrics import classification_report, confusion_matrix\n",
    "import warnings\n",
    "warnings.filterwarnings('ignore')\n",
    "warnings.simplefilter('ignore')"
   ]
  },
  {
   "cell_type": "markdown",
   "metadata": {},
   "source": [
    "Cargamos los datos y mostramos un ejemplo de dígito"
   ]
  },
  {
   "cell_type": "code",
   "execution_count": 5,
   "metadata": {},
   "outputs": [
    {
     "name": "stdout",
     "output_type": "stream",
     "text": [
      "(1797, 64)\n",
      "[[ 0.  0.  5. ...  0.  0.  0.]\n",
      " [ 0.  0.  0. ... 10.  0.  0.]\n",
      " [ 0.  0.  0. ... 16.  9.  0.]\n",
      " ...\n",
      " [ 0.  0.  1. ...  6.  0.  0.]\n",
      " [ 0.  0.  2. ... 12.  0.  0.]\n",
      " [ 0.  0. 10. ... 12.  1.  0.]]\n"
     ]
    },
    {
     "data": {
      "text/plain": [
       "<Figure size 432x288 with 0 Axes>"
      ]
     },
     "metadata": {},
     "output_type": "display_data"
    },
    {
     "data": {
      "image/png": "[encoded data removed]",
      "text/plain": [
       "<Figure size 288x288 with 1 Axes>"
      ]
     },
     "metadata": {
      "needs_background": "light"
     },
     "output_type": "display_data"
    }
   ],
   "source": [
    "digits = datasets.load_digits(n_class=10)\n",
    "print(digits.data.shape)\n",
    "print(digits.data)\n",
    "plt.gray() \n",
    "plt.matshow(digits.images[0]) \n",
    "plt.show() "
   ]
  },
  {
   "cell_type": "markdown",
   "metadata": {},
   "source": [
    "Ejecutamos el proceso un total de 5 iteraciones con un subset de 330 dígitos"
   ]
  },
  {
   "cell_type": "code",
   "execution_count": 6,
   "metadata": {},
   "outputs": [
    {
     "name": "stdout",
     "output_type": "stream",
     "text": [
      "Iteration 0 ______________________________________________________________________\n",
      "Label Spreading model: 10 labeled & 320 unlabeled (330 total)\n",
      "             precision    recall  f1-score   support\n",
      "\n",
      "          0       0.00      0.00      0.00        24\n",
      "          1       0.53      0.86      0.66        29\n",
      "          2       0.83      0.97      0.90        31\n",
      "          3       0.00      0.00      0.00        28\n",
      "          4       0.00      0.00      0.00        27\n",
      "          5       0.84      0.46      0.59        35\n",
      "          6       0.85      0.97      0.91        40\n",
      "          7       0.69      0.92      0.79        36\n",
      "          8       0.56      0.76      0.64        33\n",
      "          9       0.41      0.86      0.55        37\n",
      "\n",
      "avg / total       0.51      0.62      0.54       320\n",
      "\n",
      "Confusion matrix\n",
      "[[25  3  0  0  0  0  1]\n",
      " [ 1 30  0  0  0  0  0]\n",
      " [ 0  0 16  7  0  2 10]\n",
      " [ 1  0  0 39  0  0  0]\n",
      " [ 0  3  0  0 33  0  0]\n",
      " [ 8  0  0  0  0 25  0]\n",
      " [ 0  0  3  0  0  2 32]]\n",
      "Iteration 1 ______________________________________________________________________\n",
      "Label Spreading model: 15 labeled & 315 unlabeled (330 total)\n",
      "             precision    recall  f1-score   support\n",
      "\n",
      "          0       0.00      0.00      0.00        24\n",
      "          1       0.53      0.75      0.62        28\n",
      "          2       0.91      0.97      0.94        31\n",
      "          3       0.00      0.00      0.00        28\n",
      "          4       0.00      0.00      0.00        27\n",
      "          5       0.89      0.97      0.93        34\n",
      "          6       1.00      0.97      0.99        39\n",
      "          7       0.72      0.92      0.80        36\n",
      "          8       0.48      0.81      0.60        31\n",
      "          9       0.45      0.84      0.58        37\n",
      "\n",
      "avg / total       0.54      0.67      0.59       315\n",
      "\n",
      "Confusion matrix\n",
      "[[21  0  0  0  0  6  1]\n",
      " [ 1 30  0  0  0  0  0]\n",
      " [ 0  0 33  0  0  0  1]\n",
      " [ 1  0  0 38  0  0  0]\n",
      " [ 0  3  0  0 33  0  0]\n",
      " [ 6  0  0  0  0 25  0]\n",
      " [ 0  0  4  0  0  2 31]]\n",
      "Iteration 2 ______________________________________________________________________\n",
      "Label Spreading model: 20 labeled & 310 unlabeled (330 total)\n",
      "             precision    recall  f1-score   support\n",
      "\n",
      "          0       1.00      1.00      1.00        21\n",
      "          1       0.70      0.75      0.72        28\n",
      "          2       0.94      0.97      0.95        31\n",
      "          3       0.00      0.00      0.00        28\n",
      "          4       0.88      0.92      0.90        25\n",
      "          5       0.89      0.97      0.93        34\n",
      "          6       1.00      0.97      0.99        39\n",
      "          7       1.00      0.92      0.96        36\n",
      "          8       0.50      0.81      0.62        31\n",
      "          9       0.67      0.78      0.72        37\n",
      "\n",
      "avg / total       0.77      0.82      0.79       310\n",
      "\n",
      "Confusion matrix\n",
      "[[21  0  0  0  0  0  0  0  0]\n",
      " [ 0 21  0  0  0  0  0  6  1]\n",
      " [ 0  1 30  0  0  0  0  0  0]\n",
      " [ 0  1  0 23  0  0  0  1  0]\n",
      " [ 0  0  0  0 33  0  0  0  1]\n",
      " [ 0  1  0  0  0 38  0  0  0]\n",
      " [ 0  0  2  1  0  0 33  0  0]\n",
      " [ 0  6  0  0  0  0  0 25  0]\n",
      " [ 0  0  0  2  4  0  0  2 29]]\n",
      "Iteration 3 ______________________________________________________________________\n",
      "Label Spreading model: 25 labeled & 305 unlabeled (330 total)\n",
      "             precision    recall  f1-score   support\n",
      "\n",
      "          0       1.00      1.00      1.00        21\n",
      "          1       0.73      0.85      0.79        26\n",
      "          2       1.00      0.90      0.95        31\n",
      "          3       1.00      0.74      0.85        27\n",
      "          4       1.00      0.92      0.96        25\n",
      "          5       0.89      0.97      0.93        34\n",
      "          6       1.00      0.97      0.99        39\n",
      "          7       0.87      1.00      0.93        34\n",
      "          8       0.66      0.81      0.72        31\n",
      "          9       0.94      0.78      0.85        37\n",
      "\n",
      "avg / total       0.91      0.90      0.90       305\n",
      "\n",
      "Confusion matrix\n",
      "[[21  0  0  0  0  0  0  0  0  0]\n",
      " [ 0 22  0  0  0  0  0  0  4  0]\n",
      " [ 0  1 28  0  0  0  0  2  0  0]\n",
      " [ 0  0  0 20  0  0  0  0  6  1]\n",
      " [ 0  1  0  0 23  0  0  0  1  0]\n",
      " [ 0  0  0  0  0 33  0  0  0  1]\n",
      " [ 0  1  0  0  0  0 38  0  0  0]\n",
      " [ 0  0  0  0  0  0  0 34  0  0]\n",
      " [ 0  3  0  0  0  0  0  3 25  0]\n",
      " [ 0  2  0  0  0  4  0  0  2 29]]\n",
      "Iteration 4 ______________________________________________________________________\n",
      "Label Spreading model: 30 labeled & 300 unlabeled (330 total)\n",
      "             precision    recall  f1-score   support\n",
      "\n",
      "          0       1.00      1.00      1.00        21\n",
      "          1       0.73      0.85      0.79        26\n",
      "          2       1.00      0.90      0.95        31\n",
      "          3       1.00      1.00      1.00        24\n",
      "          4       1.00      0.92      0.96        25\n",
      "          5       0.97      0.94      0.96        34\n",
      "          6       1.00      0.97      0.99        39\n",
      "          7       0.87      1.00      0.93        34\n",
      "          8       0.78      0.81      0.79        31\n",
      "          9       0.94      0.86      0.90        35\n",
      "\n",
      "avg / total       0.93      0.92      0.92       300\n",
      "\n",
      "Confusion matrix\n",
      "[[21  0  0  0  0  0  0  0  0  0]\n",
      " [ 0 22  0  0  0  0  0  0  4  0]\n",
      " [ 0  1 28  0  0  0  0  2  0  0]\n",
      " [ 0  0  0 24  0  0  0  0  0  0]\n",
      " [ 0  1  0  0 23  0  0  0  1  0]\n",
      " [ 0  0  0  0  0 32  0  0  0  2]\n",
      " [ 0  1  0  0  0  0 38  0  0  0]\n",
      " [ 0  0  0  0  0  0  0 34  0  0]\n",
      " [ 0  3  0  0  0  0  0  3 25  0]\n",
      " [ 0  2  0  0  0  1  0  0  2 30]]\n"
     ]
    },
    {
     "data": {
      "image/png": "[encoded data removed]",
      "text/plain": [
       "<Figure size 432x288 with 25 Axes>"
      ]
     },
     "metadata": {
      "needs_background": "light"
     },
     "output_type": "display_data"
    }
   ],
   "source": [
    "rng = np.random.RandomState(0)\n",
    "indices = np.arange(len(digits.data))\n",
    "rng.shuffle(indices)\n",
    "X = digits.data[indices[:330]]\n",
    "y = digits.target[indices[:330]]\n",
    "images = digits.images[indices[:330]]\n",
    "\n",
    "n_total_samples = len(y)\n",
    "n_labeled_points = 10\n",
    "max_iterations = 5\n",
    "\n",
    "unlabeled_indices = np.arange(n_total_samples)[n_labeled_points:]\n",
    "f = plt.figure()\n",
    "\n",
    "for i in range(max_iterations):\n",
    "    if len(unlabeled_indices) == 0:\n",
    "        print(\"No unlabeled items left to label.\")\n",
    "        break\n",
    "    y_train = np.copy(y)\n",
    "    y_train[unlabeled_indices] = -1\n",
    "\n",
    "    lp_model = LabelSpreading(gamma=0.25, max_iter=20)\n",
    "    lp_model.fit(X, y_train)\n",
    "\n",
    "    predicted_labels = lp_model.transduction_[unlabeled_indices]\n",
    "    true_labels = y[unlabeled_indices]\n",
    "\n",
    "    cm = confusion_matrix(true_labels, predicted_labels,\n",
    "                          labels=lp_model.classes_)\n",
    "\n",
    "    print(\"Iteration %i %s\" % (i, 70 * \"_\"))\n",
    "    print(\"Label Spreading model: %d labeled & %d unlabeled (%d total)\"\n",
    "          % (n_labeled_points, n_total_samples - n_labeled_points,\n",
    "             n_total_samples))\n",
    "\n",
    "    print(classification_report(true_labels, predicted_labels))\n",
    "\n",
    "    print(\"Confusion matrix\")\n",
    "    print(cm)\n",
    "\n",
    "    # compute the entropies of transduced label distributions\n",
    "    pred_entropies = stats.distributions.entropy(\n",
    "        lp_model.label_distributions_.T)\n",
    "\n",
    "    # select up to 5 digit examples that the classifier is most uncertain about\n",
    "    uncertainty_index = np.argsort(pred_entropies)[::-1]\n",
    "    uncertainty_index = uncertainty_index[\n",
    "        np.in1d(uncertainty_index, unlabeled_indices)][:5]\n",
    "\n",
    "    # keep track of indices that we get labels for\n",
    "    delete_indices = np.array([], dtype=int)\n",
    "\n",
    "    # for more than 5 iterations, visualize the gain only on the first 5\n",
    "    if i < 5:\n",
    "        f.text(.05, (1 - (i + 1) * .183),\n",
    "               \"model %d\\n\\nfit with\\n%d labels\" %\n",
    "               ((i + 1), i * 5 + 10), size=10)\n",
    "    for index, image_index in enumerate(uncertainty_index):\n",
    "        image = images[image_index]\n",
    "\n",
    "        # for more than 5 iterations, visualize the gain only on the first 5\n",
    "        if i < 5:\n",
    "            sub = f.add_subplot(5, 5, index + 1 + (5 * i))\n",
    "            sub.imshow(image, cmap=plt.cm.gray_r, interpolation='none')\n",
    "            sub.set_title(\"predict: %i\\ntrue: %i\" % (\n",
    "                lp_model.transduction_[image_index], y[image_index]), size=10)\n",
    "            sub.axis('off')\n",
    "\n",
    "        # labeling 5 points, remote from labeled set\n",
    "        delete_index, = np.where(unlabeled_indices == image_index)\n",
    "        delete_indices = np.concatenate((delete_indices, delete_index))\n",
    "\n",
    "    unlabeled_indices = np.delete(unlabeled_indices, delete_indices)\n",
    "    n_labeled_points += len(uncertainty_index)\n",
    "\n",
    "f.suptitle(\"Active learning with Label Propagation.\\nRows show 5 most \"\n",
    "           \"uncertain labels to learn with the next model.\", y=1.15)\n",
    "plt.subplots_adjust(left=0.2, bottom=0.03, right=0.9, top=0.9, wspace=0.2,\n",
    "                    hspace=0.85)\n",
    "plt.show()"
   ]
  },
  {
   "cell_type": "code",
   "execution_count": null,
   "metadata": {},
   "outputs": [],
   "source": []
  }
 ],
 "metadata": {
  "kernelspec": {
   "display_name": "Python 3",
   "language": "python",
   "name": "python3"
  },
  "language_info": {
   "codemirror_mode": {
    "name": "ipython",
    "version": 3
   },
   "file_extension": ".py",
   "mimetype": "text/x-python",
   "name": "python",
   "nbconvert_exporter": "python",
   "pygments_lexer": "ipython3",
   "version": "3.6.9"
  }
 },
 "nbformat": 4,
 "nbformat_minor": 2
}

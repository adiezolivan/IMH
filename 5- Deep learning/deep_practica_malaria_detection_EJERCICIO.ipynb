{
  "nbformat": 4,
  "nbformat_minor": 0,
  "metadata": {
    "colab": {
      "name": "deep_practica_malaria_detection_EJERCICIO.ipynb",
      "provenance": [],
      "collapsed_sections": [
        "f7D2XxPnLicV",
        "r6WlmOfJZUzt",
        "83oHKyAHLRtP",
        "0f2rNhH2mrQg",
        "mYCl8bHUQH6a",
        "2KTfpFYsQQVJ",
        "AO7mTWwCPO9x",
        "fJlPP0B2p3Tk",
        "vS19twFrmKiN"
      ],
      "machine_shape": "hm"
    },
    "kernelspec": {
      "name": "python3",
      "display_name": "Python 3"
    },
    "accelerator": "GPU"
  },
  "cells": [
    {
      "cell_type": "markdown",
      "metadata": {
        "id": "YWF5nohsoLjw",
        "colab_type": "text"
      },
      "source": [
        "#<center>**Malaria detection project**</center>\n",
        "[<center>**alfonsomedela**</center>](http://alfonsomedela.com/)\n",
        "\n",
        "<center>alfonso.medela@tecnalia.com</center>\n"
      ]
    },
    {
      "cell_type": "markdown",
      "metadata": {
        "id": "f7D2XxPnLicV",
        "colab_type": "text"
      },
      "source": [
        "# **Imports**\n",
        "\n",
        "Import necesary libraries here. A must have:\n",
        "- Tensorflow\n",
        "- Numpy\n",
        "- Matplotlib\n",
        "- ...\n",
        "\n",
        "We will import more essential libraries during the notebook."
      ]
    },
    {
      "cell_type": "code",
      "metadata": {
        "id": "uCOj0T3RLo-r",
        "colab_type": "code",
        "colab": {}
      },
      "source": [
        "import tensorflow as tf\n",
        "import tensorflow_datasets as tfds\n",
        "import numpy as np\n",
        "import matplotlib.pyplot as plt"
      ],
      "execution_count": 0,
      "outputs": []
    },
    {
      "cell_type": "markdown",
      "metadata": {
        "id": "EXrN2C2NiFA-",
        "colab_type": "text"
      },
      "source": [
        "# **Load data**\n",
        "\n",
        "Using tensorflow datasets [API](https://www.tensorflow.org/datasets/overview) we can download datasets of many kinds. For this project we will use *Malaria* dataset."
      ]
    },
    {
      "cell_type": "code",
      "metadata": {
        "id": "a8nDoaoPnK7I",
        "colab_type": "code",
        "colab": {}
      },
      "source": [
        "# Get dataset info\n",
        "ds_builder = tfds.builder(name=\"malaria\")\n",
        "print(ds_builder.info)"
      ],
      "execution_count": 0,
      "outputs": []
    },
    {
      "cell_type": "code",
      "metadata": {
        "id": "OrRUUBvkfcm7",
        "colab_type": "code",
        "colab": {}
      },
      "source": [
        "# We choose train split because it represents the 100% of the data. Other datasets have more splits (test/val) \n",
        "ds = tfds.load(name=\"malaria\", split=\"train\")\n",
        "ds_numpy = tfds.as_numpy(ds)  "
      ],
      "execution_count": 0,
      "outputs": []
    },
    {
      "cell_type": "code",
      "metadata": {
        "id": "XxPvIWs_gC1a",
        "colab_type": "code",
        "colab": {}
      },
      "source": [
        "# We save the data in x, y lists\n",
        "\n",
        "x = []\n",
        "y = []\n",
        "\n",
        "# And transform them into numpy arrays"
      ],
      "execution_count": 0,
      "outputs": []
    },
    {
      "cell_type": "code",
      "metadata": {
        "id": "JSbfHZcwVzEz",
        "colab_type": "code",
        "colab": {}
      },
      "source": [
        "# For memory issues, delete the data we are not going to use more\n",
        "del ds_numpy\n",
        "del ds"
      ],
      "execution_count": 0,
      "outputs": []
    },
    {
      "cell_type": "markdown",
      "metadata": {
        "id": "pL0smvuyh8Os",
        "colab_type": "text"
      },
      "source": [
        "# **EDA**\n",
        "**Exploratory Data Analysis** refers to the critical process of performing initial investigations on data so as to discover patterns, to spot anomalies, to test hypothesis and to check assumptions with the help of summary statistics and graphical representations.\n",
        "\n",
        "EDA is more important than model architecture! EDA helps creating new features, deciding appropriate image preprocessing..."
      ]
    },
    {
      "cell_type": "code",
      "metadata": {
        "id": "OnWgogjXhdc4",
        "colab_type": "code",
        "colab": {}
      },
      "source": [
        "# print data shape\n",
        "\n",
        "# How many samples per class do we have? "
      ],
      "execution_count": 0,
      "outputs": []
    },
    {
      "cell_type": "markdown",
      "metadata": {
        "id": "bdxj45ryi0VY",
        "colab_type": "text"
      },
      "source": [
        "**Number of images** = 27558\n",
        "\n",
        "*   Images class *0*: 13779\n",
        "*   Images class *1*: 13779\n",
        "\n",
        "It is very important to notice that we have a perfectly **balanced** dataset!!!\n",
        "\n",
        "Another important point is the data type. We are dealing with **categorical data**. More concretely, we have a **binary** classification problem to solve.\n",
        "\n",
        "Now lets visualize the images\n",
        "\n"
      ]
    },
    {
      "cell_type": "code",
      "metadata": {
        "id": "0Xeer3vwjh5e",
        "colab_type": "code",
        "colab": {}
      },
      "source": [
        "def plot_imgs(x, y, class_num):\n",
        "  # create a function that plots the images of the given label\n"
      ],
      "execution_count": 0,
      "outputs": []
    },
    {
      "cell_type": "code",
      "metadata": {
        "id": "eaqAi--oWv-1",
        "colab_type": "code",
        "colab": {}
      },
      "source": [
        "#plot class 0\n",
        "plot_imgs(x, y, 0)\n",
        "\n",
        "#plot class 1\n",
        "plot_imgs(x, y, 1)"
      ],
      "execution_count": 0,
      "outputs": []
    },
    {
      "cell_type": "markdown",
      "metadata": {
        "id": "5FjggveTmCvk",
        "colab_type": "text"
      },
      "source": [
        "¿Can we spot the difference between class 0 and 1?\n",
        "\n",
        "\n",
        "*   There are some dots in class 0.\n",
        "*   Images have different sizes.\n",
        "\n"
      ]
    },
    {
      "cell_type": "markdown",
      "metadata": {
        "id": "MS1IyBsBrSd-",
        "colab_type": "text"
      },
      "source": [
        "# **Data preprocessing**\n",
        "\n",
        "Steps to follow for this problem:\n",
        "- Train-test split\n",
        "- Standarize size\n",
        "- Resize\n",
        "- One-hot encoding\n",
        "- Pixel value normalization"
      ]
    },
    {
      "cell_type": "code",
      "metadata": {
        "id": "pZTQtR05mPYt",
        "colab_type": "code",
        "colab": {}
      },
      "source": [
        "# Make train test split, use scikit-learn. Split in:\n",
        "#x_train, x_test, y_train, y_test = "
      ],
      "execution_count": 0,
      "outputs": []
    },
    {
      "cell_type": "code",
      "metadata": {
        "id": "qntba-CXrmp6",
        "colab_type": "code",
        "colab": {}
      },
      "source": [
        "# Check shapes & distribution of the classes in the splits\n",
        "print('Train')\n",
        "print(x_train.shape, y_train.shape)\n",
        "print(np.unique(y_train, return_counts=True))\n",
        "\n",
        "print('Test')\n",
        "print(x_test.shape, y_test.shape)\n",
        "print(np.unique(y_test, return_counts=True))"
      ],
      "execution_count": 0,
      "outputs": []
    },
    {
      "cell_type": "markdown",
      "metadata": {
        "id": "KE2wUZ1wsdPY",
        "colab_type": "text"
      },
      "source": [
        "Lets do it better by using **STRATIFICATION**"
      ]
    },
    {
      "cell_type": "code",
      "metadata": {
        "id": "yVNn0Zs6ybbU",
        "colab_type": "code",
        "colab": {}
      },
      "source": [
        "### CODE HERE"
      ],
      "execution_count": 0,
      "outputs": []
    },
    {
      "cell_type": "code",
      "metadata": {
        "id": "PLnshvLNssp8",
        "colab_type": "code",
        "colab": {}
      },
      "source": [
        "# Check shapes & distribution of the classes in the splits\n",
        "print('Train')\n",
        "print(x_train.shape, y_train.shape)\n",
        "print(np.unique(y_train, return_counts=True))\n",
        "\n",
        "print('Test')\n",
        "print(x_test.shape, y_test.shape)\n",
        "print(np.unique(y_test, return_counts=True))"
      ],
      "execution_count": 0,
      "outputs": []
    },
    {
      "cell_type": "markdown",
      "metadata": {
        "id": "PgM1loVntR3l",
        "colab_type": "text"
      },
      "source": [
        "Check image sizes:\n",
        "\n",
        "\n",
        "*   Mean\n",
        "*   Min\n",
        "*   Max\n",
        "\n"
      ]
    },
    {
      "cell_type": "code",
      "metadata": {
        "id": "BZhp6FTttQqn",
        "colab_type": "code",
        "colab": {}
      },
      "source": [
        "# Find min, mean and max shape of images. Use h = img.shape[0], w=img.shape[1]\n",
        "h_size = []\n",
        "w_size = []\n",
        "\n",
        "print('Height')\n",
        "print(np.min(h_size), np.mean(h_size), np.max(h_size))\n",
        "print('Width')\n",
        "print(np.min(w_size), np.mean(w_size), np.max(w_size))\n"
      ],
      "execution_count": 0,
      "outputs": []
    },
    {
      "cell_type": "code",
      "metadata": {
        "id": "YD2cr8QxuSY4",
        "colab_type": "code",
        "colab": {}
      },
      "source": [
        "import cv2\n",
        "size = 50\n",
        "\n",
        "#Resize train images into (size, size, 3) shape"
      ],
      "execution_count": 0,
      "outputs": []
    },
    {
      "cell_type": "code",
      "metadata": {
        "id": "39_WNtOyw7j1",
        "colab_type": "code",
        "colab": {}
      },
      "source": [
        "# Data to categorical \n",
        "import keras\n",
        "num_classes = 2\n",
        "\n",
        "### USE keras to categorical to ONE-HOT encode the labels\n",
        "print(y_train_input.shape)"
      ],
      "execution_count": 0,
      "outputs": []
    },
    {
      "cell_type": "code",
      "metadata": {
        "id": "QH796BQV-VU_",
        "colab_type": "code",
        "colab": {}
      },
      "source": [
        "# Normalize the data to 0-1 range"
      ],
      "execution_count": 0,
      "outputs": []
    },
    {
      "cell_type": "code",
      "metadata": {
        "id": "xW-gykesyhQW",
        "colab_type": "code",
        "colab": {}
      },
      "source": [
        "# Data is ready! \n",
        "\n",
        "print('Train')\n",
        "print(x_train_input.shape, y_train_input.shape)\n",
        "\n",
        "print('Test')\n",
        "print(x_test.shape, y_test.shape)\n",
        "\n",
        "#WAIT... APLLY THE SAME PREPROCESSING TO TEST TOO!!! -> CREATE A FUNCTION FOR THIS"
      ],
      "execution_count": 0,
      "outputs": []
    },
    {
      "cell_type": "code",
      "metadata": {
        "id": "xn2qwxk6y1uI",
        "colab_type": "code",
        "colab": {}
      },
      "source": [
        "def preprocess_data(x_input, y_input, num_classes, size):\n",
        "  #This function does all the preprocessing needed. Apply the same than to train set\n",
        "  return x_output, y_output"
      ],
      "execution_count": 0,
      "outputs": []
    },
    {
      "cell_type": "code",
      "metadata": {
        "id": "1tM5vFCnzTa2",
        "colab_type": "code",
        "colab": {}
      },
      "source": [
        "x_test_input, y_test_input = preprocess_data(x_test, y_test, num_classes, size)"
      ],
      "execution_count": 0,
      "outputs": []
    },
    {
      "cell_type": "code",
      "metadata": {
        "id": "DtPNAkS2zgG1",
        "colab_type": "code",
        "colab": {}
      },
      "source": [
        "# Data is ready! \n",
        "print('Train')\n",
        "print(x_train_input.shape, y_train_input.shape)\n",
        "\n",
        "print('Test')\n",
        "print(x_test_input.shape, y_test_input.shape)"
      ],
      "execution_count": 0,
      "outputs": []
    },
    {
      "cell_type": "markdown",
      "metadata": {
        "id": "IztoDSqPzow5",
        "colab_type": "text"
      },
      "source": [
        "Yes, it is!!! How can we proceed now? It's time to build out classification CNN, let's do it!"
      ]
    },
    {
      "cell_type": "markdown",
      "metadata": {
        "id": "grWuBmGUz26t",
        "colab_type": "text"
      },
      "source": [
        "# **DEEP LEARNING**\n",
        "\n",
        "This section contains the training and evaluation of the different models and techniques such as \n",
        "* training from scratch\n",
        "* fine-tuning\n",
        "* data augmentation\n",
        "* test time augmentation\n",
        "* ..."
      ]
    },
    {
      "cell_type": "markdown",
      "metadata": {
        "id": "8NpLDRDwPqT5",
        "colab_type": "text"
      },
      "source": [
        "## **Base model**\n",
        "\n",
        "This is a model from scratch. We follow same basic steps for all the models:\n",
        "- Build\n",
        "- Train\n",
        "- Evaluate"
      ]
    },
    {
      "cell_type": "markdown",
      "metadata": {
        "id": "uuSSnk3MmjRO",
        "colab_type": "text"
      },
      "source": [
        "### **Build model**"
      ]
    },
    {
      "cell_type": "code",
      "metadata": {
        "id": "bNCroy970Nue",
        "colab_type": "code",
        "colab": {}
      },
      "source": [
        "from keras.layers import Dense, Conv2D\n",
        "from keras.layers import Flatten\n",
        "from keras.layers import MaxPooling2D, GlobalAveragePooling2D\n",
        "from keras.layers import Activation\n",
        "from keras.layers import BatchNormalization\n",
        "from keras.layers import Dropout\n",
        "from keras.models import Sequential\n",
        "from keras import backend as K\n",
        "\n",
        "from keras import optimizers"
      ],
      "execution_count": 0,
      "outputs": []
    },
    {
      "cell_type": "code",
      "metadata": {
        "id": "snWVE_6t0D9O",
        "colab_type": "code",
        "colab": {}
      },
      "source": [
        "def CNNbuild(height, width, classes, channels):\n",
        "\n",
        "    model = Sequential()\n",
        "    \n",
        "    inputShape = (height, width, channels)\n",
        "\n",
        "    model.add(Conv2D(32, (3,3), activation = 'relu', input_shape = inputShape))\n",
        "    model.add(MaxPooling2D(2,2))\n",
        "    model.add(Dropout(0.2))\n",
        "\n",
        "    model.add(Conv2D(32, (3,3), activation = 'relu'))\n",
        "    model.add(MaxPooling2D(2,2))\n",
        "    model.add(Dropout(0.2))\n",
        "\n",
        "    model.add(Conv2D(32, (3,3), activation = 'relu'))\n",
        "    model.add(MaxPooling2D(2,2))\n",
        "    model.add(Dropout(0.2))\n",
        "\n",
        "    model.add(Flatten())\n",
        "    \n",
        "    model.add(Dense(512, activation = 'relu'))\n",
        "    model.add(Dropout(0.5))\n",
        "    model.add(Dense(classes, activation = 'softmax'))\n",
        "    return model"
      ],
      "execution_count": 0,
      "outputs": []
    },
    {
      "cell_type": "code",
      "metadata": {
        "id": "P6OP_jSH0RNh",
        "colab_type": "code",
        "colab": {}
      },
      "source": [
        "# Create the network\n",
        "height = ###\n",
        "width = ###\n",
        "channels = ###\n",
        "print(height, width, channels)\n",
        "\n",
        "model = CNNbuild(height = height, width = width, classes = num_classes, channels = channels)\n",
        "\n",
        "#Visualize architecture\n",
        "model.summary()"
      ],
      "execution_count": 0,
      "outputs": []
    },
    {
      "cell_type": "markdown",
      "metadata": {
        "id": "ntqBczjlGnRG",
        "colab_type": "text"
      },
      "source": [
        "### **Model training**"
      ]
    },
    {
      "cell_type": "markdown",
      "metadata": {
        "id": "k6ehyHARPd4x",
        "colab_type": "text"
      },
      "source": [
        ""
      ]
    },
    {
      "cell_type": "code",
      "metadata": {
        "id": "-ypu2eaDY7b1",
        "colab_type": "code",
        "colab": {}
      },
      "source": [
        "# HYPERPARAMERTS\n",
        "# We are going to use default parameters of Adam optimizer\n",
        "epochs = 20\n",
        "batch_size = 32"
      ],
      "execution_count": 0,
      "outputs": []
    },
    {
      "cell_type": "code",
      "metadata": {
        "id": "cOq8F6TX0kNw",
        "colab_type": "code",
        "colab": {}
      },
      "source": [
        "#compile the model\n",
        "model.compile(loss = 'CHOOSE LOSS', optimizer = 'Adam', metrics = ['accuracy'])\n",
        "\n",
        "#train the model with model.fit. Use test data as if it was validation data."
      ],
      "execution_count": 0,
      "outputs": []
    },
    {
      "cell_type": "markdown",
      "metadata": {
        "id": "vBijfwRjG2gi",
        "colab_type": "text"
      },
      "source": [
        "### **Model evaluation**"
      ]
    },
    {
      "cell_type": "code",
      "metadata": {
        "id": "O0PtYgS7G9zq",
        "colab_type": "code",
        "colab": {}
      },
      "source": [
        "from sklearn.metrics import balanced_accuracy_score, accuracy_score, f1_score, confusion_matrix\n",
        "\n",
        "y_pred = ### GET PREDICTIONS OVER TEST IMAGES\n",
        "\n",
        "acc = accuracy_score(y_test, y_pred)\n",
        "bac = balanced_accuracy_score(y_test, y_pred)\n",
        "f1 = f1_score(y_test, y_pred)\n",
        "cm = confusion_matrix(y_test, y_pred)\n",
        "\n",
        "print('Accuracy: ' + str(acc * 100.) + '%')\n",
        "print('BAC: ' + str(bac * 100.) + '%')\n",
        "print('F1 score: ' + str(f1 * 100.) + '%')\n",
        "\n",
        "print(cm)"
      ],
      "execution_count": 0,
      "outputs": []
    },
    {
      "cell_type": "markdown",
      "metadata": {
        "id": "0Kjijfg9IH78",
        "colab_type": "text"
      },
      "source": [
        "We can plot a nice confusion matrix to analyse it better"
      ]
    },
    {
      "cell_type": "code",
      "metadata": {
        "id": "WKpsY0adIHHO",
        "colab_type": "code",
        "colab": {}
      },
      "source": [
        "import pandas as pd\n",
        "import seaborn as sn\n",
        "\n",
        "cm_df = pd.DataFrame(cm, dtype=int)\n",
        "plt.figure(figsize = (10,7))\n",
        "sn.set(font_scale=1.4) # for label size\n",
        "sn.heatmap(cm_df, annot=True, annot_kws={\"size\": 16}, fmt='g', cmap=\"Blues\")"
      ],
      "execution_count": 0,
      "outputs": []
    },
    {
      "cell_type": "code",
      "metadata": {
        "id": "ubn4MXQVKTbD",
        "colab_type": "code",
        "colab": {}
      },
      "source": [
        "# Find missclassified samples. Get the indexes.\n",
        "ind_error = []"
      ],
      "execution_count": 0,
      "outputs": []
    },
    {
      "cell_type": "code",
      "metadata": {
        "id": "Ww-NwK03KqTR",
        "colab_type": "code",
        "colab": {}
      },
      "source": [
        "plt.imshow(x_test[ind_error[0]])\n",
        "plt.title('Real class: ' + str(y_test[ind_error[0]]) + ' ' + 'Predicted class: ' + str(y_pred[ind_error[0]]))\n",
        "plt.show()"
      ],
      "execution_count": 0,
      "outputs": []
    },
    {
      "cell_type": "markdown",
      "metadata": {
        "id": "r6WlmOfJZUzt",
        "colab_type": "text"
      },
      "source": [
        "## **Base model 2**"
      ]
    },
    {
      "cell_type": "code",
      "metadata": {
        "id": "-pIFfQbraEGy",
        "colab_type": "code",
        "colab": {}
      },
      "source": [
        "def CNNbuild_2(height, width, classes, channels):\n",
        "  \n",
        "  model = keras.Sequential()\n",
        "  model.add(Conv2D(32, (3, 3), padding='same', input_shape=(height, width, 3)))\n",
        "  model.add(Activation('relu'))\n",
        "  model.add(Conv2D(32, (3, 3)))\n",
        "  model.add(Activation('relu'))\n",
        "  model.add(MaxPooling2D(pool_size=(2, 2)))\n",
        "  model.add(Dropout(0.25))\n",
        "\n",
        "  model.add(Conv2D(64, (3, 3), padding='same'))\n",
        "  model.add(Activation('relu'))\n",
        "  model.add(Conv2D(64, (3, 3)))\n",
        "  model.add(Activation('relu'))\n",
        "  model.add(MaxPooling2D(pool_size=(2, 2)))\n",
        "  model.add(Dropout(0.25))\n",
        "\n",
        "  model.add(Flatten())\n",
        "  model.add(Dropout(0.5))\n",
        "  model.add(Dense(64))\n",
        "  model.add(Activation('relu'))\n",
        "  model.add(Dropout(0.5))\n",
        "  model.add(Dense(num_classes))\n",
        "  model.add(Activation('softmax'))\n",
        "  return model"
      ],
      "execution_count": 0,
      "outputs": []
    },
    {
      "cell_type": "code",
      "metadata": {
        "id": "f1_vCBiXaYWT",
        "colab_type": "code",
        "outputId": "06f69330-8545-40f5-88cf-8e7245adab31",
        "colab": {
          "base_uri": "https://localhost:8080/",
          "height": 912
        }
      },
      "source": [
        "# Create the network\n",
        "height = x_train_input.shape[1]\n",
        "width = x_train_input.shape[2]\n",
        "channels = x_train_input.shape[3]\n",
        "print(height, width, channels)\n",
        "\n",
        "model_2 = CNNbuild_2(height = height, width = width, classes = num_classes, channels = channels)\n",
        "\n",
        "#Visualize architecture\n",
        "model_2.summary()"
      ],
      "execution_count": 0,
      "outputs": [
        {
          "output_type": "stream",
          "text": [
            "50 50 3\n",
            "Model: \"sequential_7\"\n",
            "_________________________________________________________________\n",
            "Layer (type)                 Output Shape              Param #   \n",
            "=================================================================\n",
            "conv2d_299 (Conv2D)          (None, 50, 50, 32)        896       \n",
            "_________________________________________________________________\n",
            "activation_283 (Activation)  (None, 50, 50, 32)        0         \n",
            "_________________________________________________________________\n",
            "conv2d_300 (Conv2D)          (None, 48, 48, 32)        9248      \n",
            "_________________________________________________________________\n",
            "activation_284 (Activation)  (None, 48, 48, 32)        0         \n",
            "_________________________________________________________________\n",
            "max_pooling2d_22 (MaxPooling (None, 24, 24, 32)        0         \n",
            "_________________________________________________________________\n",
            "dropout_16 (Dropout)         (None, 24, 24, 32)        0         \n",
            "_________________________________________________________________\n",
            "conv2d_301 (Conv2D)          (None, 24, 24, 64)        18496     \n",
            "_________________________________________________________________\n",
            "activation_285 (Activation)  (None, 24, 24, 64)        0         \n",
            "_________________________________________________________________\n",
            "conv2d_302 (Conv2D)          (None, 22, 22, 64)        36928     \n",
            "_________________________________________________________________\n",
            "activation_286 (Activation)  (None, 22, 22, 64)        0         \n",
            "_________________________________________________________________\n",
            "max_pooling2d_23 (MaxPooling (None, 11, 11, 64)        0         \n",
            "_________________________________________________________________\n",
            "dropout_17 (Dropout)         (None, 11, 11, 64)        0         \n",
            "_________________________________________________________________\n",
            "flatten_6 (Flatten)          (None, 7744)              0         \n",
            "_________________________________________________________________\n",
            "dropout_18 (Dropout)         (None, 7744)              0         \n",
            "_________________________________________________________________\n",
            "dense_19 (Dense)             (None, 64)                495680    \n",
            "_________________________________________________________________\n",
            "activation_287 (Activation)  (None, 64)                0         \n",
            "_________________________________________________________________\n",
            "dropout_19 (Dropout)         (None, 64)                0         \n",
            "_________________________________________________________________\n",
            "dense_20 (Dense)             (None, 2)                 130       \n",
            "_________________________________________________________________\n",
            "activation_288 (Activation)  (None, 2)                 0         \n",
            "=================================================================\n",
            "Total params: 561,378\n",
            "Trainable params: 561,378\n",
            "Non-trainable params: 0\n",
            "_________________________________________________________________\n"
          ],
          "name": "stdout"
        }
      ]
    },
    {
      "cell_type": "code",
      "metadata": {
        "id": "9JAWxVBxajcW",
        "colab_type": "code",
        "outputId": "552cfffc-3491-4a81-a3da-f6a561f662a6",
        "colab": {
          "base_uri": "https://localhost:8080/",
          "height": 797
        }
      },
      "source": [
        "#compile the model\n",
        "model_2.compile(loss = 'categorical_crossentropy', optimizer = 'Adam', metrics = ['accuracy'])\n",
        "\n",
        "#train the model\n",
        "h = model_2.fit(x_train_input, y_train_input, epochs = epochs, batch_size = batch_size, validation_data = (x_test_input, y_test_input))"
      ],
      "execution_count": 0,
      "outputs": [
        {
          "output_type": "stream",
          "text": [
            "Train on 19290 samples, validate on 8268 samples\n",
            "Epoch 1/20\n",
            "19290/19290 [==============================] - 15s 798us/step - loss: 0.4431 - acc: 0.7694 - val_loss: 0.1638 - val_acc: 0.9516\n",
            "Epoch 2/20\n",
            "19290/19290 [==============================] - 8s 402us/step - loss: 0.1717 - acc: 0.9480 - val_loss: 0.1492 - val_acc: 0.9519\n",
            "Epoch 3/20\n",
            "19290/19290 [==============================] - 8s 401us/step - loss: 0.1523 - acc: 0.9529 - val_loss: 0.1446 - val_acc: 0.9522\n",
            "Epoch 4/20\n",
            "19290/19290 [==============================] - 8s 398us/step - loss: 0.1490 - acc: 0.9551 - val_loss: 0.1531 - val_acc: 0.9507\n",
            "Epoch 5/20\n",
            "19290/19290 [==============================] - 8s 400us/step - loss: 0.1451 - acc: 0.9553 - val_loss: 0.1669 - val_acc: 0.9521\n",
            "Epoch 6/20\n",
            "19290/19290 [==============================] - 8s 403us/step - loss: 0.1395 - acc: 0.9560 - val_loss: 0.1328 - val_acc: 0.9578\n",
            "Epoch 7/20\n",
            "19290/19290 [==============================] - 8s 397us/step - loss: 0.1384 - acc: 0.9569 - val_loss: 0.1560 - val_acc: 0.9531\n",
            "Epoch 8/20\n",
            "19290/19290 [==============================] - 8s 399us/step - loss: 0.1377 - acc: 0.9580 - val_loss: 0.1312 - val_acc: 0.9559\n",
            "Epoch 9/20\n",
            "19290/19290 [==============================] - 8s 395us/step - loss: 0.1325 - acc: 0.9586 - val_loss: 0.1279 - val_acc: 0.9574\n",
            "Epoch 10/20\n",
            "19290/19290 [==============================] - 8s 404us/step - loss: 0.1281 - acc: 0.9594 - val_loss: 0.1250 - val_acc: 0.9580\n",
            "Epoch 11/20\n",
            "19290/19290 [==============================] - 8s 402us/step - loss: 0.1317 - acc: 0.9587 - val_loss: 0.1338 - val_acc: 0.9573\n",
            "Epoch 12/20\n",
            "19290/19290 [==============================] - 8s 404us/step - loss: 0.1277 - acc: 0.9594 - val_loss: 0.1209 - val_acc: 0.9582\n",
            "Epoch 13/20\n",
            "19290/19290 [==============================] - 8s 400us/step - loss: 0.1249 - acc: 0.9601 - val_loss: 0.1258 - val_acc: 0.9573\n",
            "Epoch 14/20\n",
            "19290/19290 [==============================] - 8s 405us/step - loss: 0.1229 - acc: 0.9588 - val_loss: 0.1333 - val_acc: 0.9588\n",
            "Epoch 15/20\n",
            "19290/19290 [==============================] - 8s 399us/step - loss: 0.1214 - acc: 0.9599 - val_loss: 0.1227 - val_acc: 0.9585\n",
            "Epoch 16/20\n",
            "19290/19290 [==============================] - 8s 396us/step - loss: 0.1223 - acc: 0.9598 - val_loss: 0.1159 - val_acc: 0.9595\n",
            "Epoch 17/20\n",
            "19290/19290 [==============================] - 8s 404us/step - loss: 0.1196 - acc: 0.9607 - val_loss: 0.1203 - val_acc: 0.9584\n",
            "Epoch 18/20\n",
            "19290/19290 [==============================] - 8s 400us/step - loss: 0.1196 - acc: 0.9616 - val_loss: 0.1232 - val_acc: 0.9592\n",
            "Epoch 19/20\n",
            "19290/19290 [==============================] - 8s 400us/step - loss: 0.1163 - acc: 0.9613 - val_loss: 0.1222 - val_acc: 0.9592\n",
            "Epoch 20/20\n",
            "19290/19290 [==============================] - 8s 406us/step - loss: 0.1201 - acc: 0.9607 - val_loss: 0.1235 - val_acc: 0.9575\n"
          ],
          "name": "stdout"
        }
      ]
    },
    {
      "cell_type": "markdown",
      "metadata": {
        "id": "83oHKyAHLRtP",
        "colab_type": "text"
      },
      "source": [
        "## **Base model with augmentation**"
      ]
    },
    {
      "cell_type": "markdown",
      "metadata": {
        "id": "0f2rNhH2mrQg",
        "colab_type": "text"
      },
      "source": [
        "### **Build model**\n",
        "Here we use model or model_2"
      ]
    },
    {
      "cell_type": "code",
      "metadata": {
        "id": "PNFD_ZZzLcVm",
        "colab_type": "code",
        "colab": {}
      },
      "source": [
        "from keras.preprocessing.image import ImageDataGenerator\n",
        "\n",
        "# Now we will create a generator\n",
        "train_datagen = ImageDataGenerator(horizontal_flip = True,\n",
        "                                  width_shift_range = 0.2,\n",
        "                                  height_shift_range = 0.2,\n",
        "                                  fill_mode = 'nearest',\n",
        "                                  zoom_range = 0.3,\n",
        "                                  rotation_range = 30)\n",
        "\n",
        "test_datagen = ImageDataGenerator()\n",
        "\n",
        "train_generator = train_datagen.flow(x_train_input, y_train_input, batch_size = 64, shuffle = False)\n",
        "test_generator = test_datagen.flow(x_test_input, y_test_input, batch_size = 64, shuffle = False)"
      ],
      "execution_count": 0,
      "outputs": []
    },
    {
      "cell_type": "markdown",
      "metadata": {
        "id": "mYCl8bHUQH6a",
        "colab_type": "text"
      },
      "source": [
        "### **Model training**"
      ]
    },
    {
      "cell_type": "code",
      "metadata": {
        "id": "ugpcqSdFMVwN",
        "colab_type": "code",
        "outputId": "7ead6c95-8122-4c15-b30b-56d74dd90920",
        "colab": {
          "base_uri": "https://localhost:8080/",
          "height": 398
        }
      },
      "source": [
        "optim = optimizers.Adam(lr = 0.001, decay = 0.001 / 64)\n",
        "model_2.compile(loss = 'categorical_crossentropy', optimizer = optim, metrics = ['accuracy'])\n",
        "\n",
        "#fit the model on the augmented dataset\n",
        "h_aug = model_2.fit_generator(train_generator, steps_per_epoch = len(x_train) // 64, epochs = 10, validation_data=test_generator)"
      ],
      "execution_count": 0,
      "outputs": [
        {
          "output_type": "stream",
          "text": [
            "Epoch 1/10\n",
            "301/301 [==============================] - 26s 87ms/step - loss: 0.2455 - acc: 0.9152 - val_loss: 0.1305 - val_acc: 0.9582\n",
            "Epoch 2/10\n",
            "301/301 [==============================] - 19s 63ms/step - loss: 0.2295 - acc: 0.9223 - val_loss: 0.1262 - val_acc: 0.9566\n",
            "Epoch 3/10\n",
            "301/301 [==============================] - 19s 64ms/step - loss: 0.2300 - acc: 0.9223 - val_loss: 0.1405 - val_acc: 0.9556\n",
            "Epoch 4/10\n",
            "301/301 [==============================] - 20s 65ms/step - loss: 0.2225 - acc: 0.9239 - val_loss: 0.1338 - val_acc: 0.9566\n",
            "Epoch 5/10\n",
            "301/301 [==============================] - 19s 64ms/step - loss: 0.2131 - acc: 0.9276 - val_loss: 0.1246 - val_acc: 0.9572\n",
            "Epoch 6/10\n",
            "301/301 [==============================] - 19s 64ms/step - loss: 0.2238 - acc: 0.9248 - val_loss: 0.1458 - val_acc: 0.9554\n",
            "Epoch 7/10\n",
            "301/301 [==============================] - 19s 64ms/step - loss: 0.2086 - acc: 0.9280 - val_loss: 0.1333 - val_acc: 0.9566\n",
            "Epoch 8/10\n",
            "301/301 [==============================] - 19s 64ms/step - loss: 0.2143 - acc: 0.9260 - val_loss: 0.1324 - val_acc: 0.9577\n",
            "Epoch 9/10\n",
            "301/301 [==============================] - 19s 64ms/step - loss: 0.2021 - acc: 0.9290 - val_loss: 0.1277 - val_acc: 0.9560\n",
            "Epoch 10/10\n",
            "301/301 [==============================] - 19s 64ms/step - loss: 0.2088 - acc: 0.9298 - val_loss: 0.1354 - val_acc: 0.9569\n"
          ],
          "name": "stdout"
        }
      ]
    },
    {
      "cell_type": "code",
      "metadata": {
        "id": "MkcDP_AVwr2q",
        "colab_type": "code",
        "outputId": "5a213c2e-7b73-4335-bbd1-d1273708a808",
        "colab": {
          "base_uri": "https://localhost:8080/",
          "height": 613
        }
      },
      "source": [
        "# Here we are going to visualize training:\n",
        "# summarize history for accuracy\n",
        "plt.plot(h_aug.history['acc'])\n",
        "plt.plot(h_aug.history['val_acc'])\n",
        "plt.title('model accuracy')\n",
        "plt.ylabel('accuracy')\n",
        "plt.xlabel('epoch')\n",
        "plt.legend(['train', 'test'], loc='upper left')\n",
        "plt.show()\n",
        "# summarize history for loss\n",
        "plt.plot(h_aug.history['loss'])\n",
        "plt.plot(h_aug.history['val_loss'])\n",
        "plt.title('model loss')\n",
        "plt.ylabel('loss')\n",
        "plt.xlabel('epoch')\n",
        "plt.legend(['train', 'test'], loc='upper left')\n",
        "plt.show()"
      ],
      "execution_count": 0,
      "outputs": [
        {
          "output_type": "display_data",
          "data": {
            "image/png": "[encoded data removed]",
            "text/plain": [
              "<Figure size 432x288 with 1 Axes>"
            ]
          },
          "metadata": {
            "tags": []
          }
        },
        {
          "output_type": "display_data",
          "data": {
            "image/png": "[encoded data removed]",
            "text/plain": [
              "<Figure size 432x288 with 1 Axes>"
            ]
          },
          "metadata": {
            "tags": []
          }
        }
      ]
    },
    {
      "cell_type": "markdown",
      "metadata": {
        "id": "lIggaDaoekag",
        "colab_type": "text"
      },
      "source": [
        "Training loss is still greater than test, we should train for more epochs..."
      ]
    },
    {
      "cell_type": "code",
      "metadata": {
        "id": "szfsRQnkewVm",
        "colab_type": "code",
        "outputId": "ad5b7364-1bc3-415f-ac1d-529d257d3b00",
        "colab": {
          "base_uri": "https://localhost:8080/",
          "height": 1000
        }
      },
      "source": [
        "optim = optimizers.Adam(lr = 0.001, decay = 0.001 / 64)\n",
        "model_2.compile(loss = 'categorical_crossentropy', optimizer = optim, metrics = ['accuracy'])\n",
        "\n",
        "#fit the model on the augmented dataset\n",
        "h_aug = model_2.fit_generator(train_generator, steps_per_epoch = len(x_train) // 64, epochs = 50, validation_data=test_generator)"
      ],
      "execution_count": 0,
      "outputs": [
        {
          "output_type": "stream",
          "text": [
            "Epoch 1/50\n",
            "301/301 [==============================] - 27s 89ms/step - loss: 0.2051 - acc: 0.9306 - val_loss: 0.1375 - val_acc: 0.9574\n",
            "Epoch 2/50\n",
            "301/301 [==============================] - 20s 65ms/step - loss: 0.2099 - acc: 0.9270 - val_loss: 0.1441 - val_acc: 0.9567\n",
            "Epoch 3/50\n",
            "301/301 [==============================] - 20s 65ms/step - loss: 0.2074 - acc: 0.9291 - val_loss: 0.1538 - val_acc: 0.9542\n",
            "Epoch 4/50\n",
            "301/301 [==============================] - 20s 65ms/step - loss: 0.2051 - acc: 0.9296 - val_loss: 0.1445 - val_acc: 0.9561\n",
            "Epoch 5/50\n",
            "301/301 [==============================] - 19s 64ms/step - loss: 0.1999 - acc: 0.9317 - val_loss: 0.1247 - val_acc: 0.9575\n",
            "Epoch 6/50\n",
            "301/301 [==============================] - 19s 64ms/step - loss: 0.2058 - acc: 0.9296 - val_loss: 0.1276 - val_acc: 0.9577\n",
            "Epoch 7/50\n",
            "301/301 [==============================] - 19s 64ms/step - loss: 0.2039 - acc: 0.9304 - val_loss: 0.1253 - val_acc: 0.9578\n",
            "Epoch 8/50\n",
            "301/301 [==============================] - 19s 64ms/step - loss: 0.2002 - acc: 0.9310 - val_loss: 0.1232 - val_acc: 0.9589\n",
            "Epoch 9/50\n",
            "301/301 [==============================] - 19s 64ms/step - loss: 0.1990 - acc: 0.9327 - val_loss: 0.1240 - val_acc: 0.9585\n",
            "Epoch 10/50\n",
            "301/301 [==============================] - 19s 64ms/step - loss: 0.2037 - acc: 0.9324 - val_loss: 0.1266 - val_acc: 0.9589\n",
            "Epoch 11/50\n",
            "301/301 [==============================] - 19s 64ms/step - loss: 0.1971 - acc: 0.9310 - val_loss: 0.1297 - val_acc: 0.9573\n",
            "Epoch 12/50\n",
            "301/301 [==============================] - 19s 63ms/step - loss: 0.1977 - acc: 0.9308 - val_loss: 0.1218 - val_acc: 0.9577\n",
            "Epoch 13/50\n",
            "301/301 [==============================] - 19s 64ms/step - loss: 0.1913 - acc: 0.9336 - val_loss: 0.1260 - val_acc: 0.9568\n",
            "Epoch 14/50\n",
            "301/301 [==============================] - 19s 63ms/step - loss: 0.1960 - acc: 0.9325 - val_loss: 0.1268 - val_acc: 0.9582\n",
            "Epoch 15/50\n",
            "301/301 [==============================] - 19s 63ms/step - loss: 0.1941 - acc: 0.9358 - val_loss: 0.1282 - val_acc: 0.9579\n",
            "Epoch 16/50\n",
            "301/301 [==============================] - 19s 64ms/step - loss: 0.1975 - acc: 0.9339 - val_loss: 0.1200 - val_acc: 0.9592\n",
            "Epoch 17/50\n",
            "301/301 [==============================] - 19s 63ms/step - loss: 0.1924 - acc: 0.9343 - val_loss: 0.1374 - val_acc: 0.9579\n",
            "Epoch 18/50\n",
            "301/301 [==============================] - 19s 63ms/step - loss: 0.1943 - acc: 0.9339 - val_loss: 0.1295 - val_acc: 0.9591\n",
            "Epoch 19/50\n",
            "301/301 [==============================] - 19s 63ms/step - loss: 0.1980 - acc: 0.9337 - val_loss: 0.1511 - val_acc: 0.9568\n",
            "Epoch 20/50\n",
            "301/301 [==============================] - 19s 64ms/step - loss: 0.1915 - acc: 0.9344 - val_loss: 0.1383 - val_acc: 0.9583\n",
            "Epoch 21/50\n",
            "301/301 [==============================] - 19s 63ms/step - loss: 0.1975 - acc: 0.9312 - val_loss: 0.1241 - val_acc: 0.9589\n",
            "Epoch 22/50\n",
            "301/301 [==============================] - 19s 62ms/step - loss: 0.1956 - acc: 0.9321 - val_loss: 0.1213 - val_acc: 0.9584\n",
            "Epoch 23/50\n",
            "301/301 [==============================] - 19s 63ms/step - loss: 0.1882 - acc: 0.9356 - val_loss: 0.1240 - val_acc: 0.9591\n",
            "Epoch 24/50\n",
            "301/301 [==============================] - 19s 62ms/step - loss: 0.1919 - acc: 0.9351 - val_loss: 0.1187 - val_acc: 0.9585\n",
            "Epoch 25/50\n",
            "301/301 [==============================] - 19s 63ms/step - loss: 0.1903 - acc: 0.9331 - val_loss: 0.1334 - val_acc: 0.9590\n",
            "Epoch 26/50\n",
            "301/301 [==============================] - 19s 63ms/step - loss: 0.1847 - acc: 0.9382 - val_loss: 0.1358 - val_acc: 0.9585\n",
            "Epoch 27/50\n",
            "301/301 [==============================] - 19s 62ms/step - loss: 0.1862 - acc: 0.9347 - val_loss: 0.1384 - val_acc: 0.9592\n",
            "Epoch 28/50\n",
            "301/301 [==============================] - 19s 62ms/step - loss: 0.1937 - acc: 0.9330 - val_loss: 0.1276 - val_acc: 0.9575\n",
            "Epoch 29/50\n",
            "301/301 [==============================] - 19s 63ms/step - loss: 0.1828 - acc: 0.9381 - val_loss: 0.1264 - val_acc: 0.9591\n",
            "Epoch 30/50\n",
            "301/301 [==============================] - 19s 63ms/step - loss: 0.1932 - acc: 0.9339 - val_loss: 0.1375 - val_acc: 0.9577\n",
            "Epoch 31/50\n",
            "301/301 [==============================] - 19s 63ms/step - loss: 0.1856 - acc: 0.9354 - val_loss: 0.1246 - val_acc: 0.9584\n",
            "Epoch 32/50\n",
            "301/301 [==============================] - 19s 63ms/step - loss: 0.1889 - acc: 0.9375 - val_loss: 0.1373 - val_acc: 0.9578\n",
            "Epoch 33/50\n",
            "301/301 [==============================] - 19s 62ms/step - loss: 0.1887 - acc: 0.9350 - val_loss: 0.1569 - val_acc: 0.9582\n",
            "Epoch 34/50\n",
            "301/301 [==============================] - 19s 64ms/step - loss: 0.1936 - acc: 0.9340 - val_loss: 0.1208 - val_acc: 0.9589\n",
            "Epoch 35/50\n",
            "301/301 [==============================] - 19s 63ms/step - loss: 0.1853 - acc: 0.9342 - val_loss: 0.1201 - val_acc: 0.9588\n",
            "Epoch 36/50\n",
            "301/301 [==============================] - 19s 63ms/step - loss: 0.1824 - acc: 0.9384 - val_loss: 0.1537 - val_acc: 0.9579\n",
            "Epoch 37/50\n",
            "301/301 [==============================] - 19s 63ms/step - loss: 0.1914 - acc: 0.9368 - val_loss: 0.1422 - val_acc: 0.9589\n",
            "Epoch 38/50\n",
            "301/301 [==============================] - 19s 63ms/step - loss: 0.1809 - acc: 0.9381 - val_loss: 0.1359 - val_acc: 0.9600\n",
            "Epoch 39/50\n",
            "301/301 [==============================] - 19s 64ms/step - loss: 0.1860 - acc: 0.9366 - val_loss: 0.1292 - val_acc: 0.9600\n",
            "Epoch 40/50\n",
            "301/301 [==============================] - 19s 63ms/step - loss: 0.1852 - acc: 0.9369 - val_loss: 0.1466 - val_acc: 0.9582\n",
            "Epoch 41/50\n",
            "301/301 [==============================] - 19s 62ms/step - loss: 0.1805 - acc: 0.9376 - val_loss: 0.1195 - val_acc: 0.9584\n",
            "Epoch 42/50\n",
            "301/301 [==============================] - 19s 64ms/step - loss: 0.1808 - acc: 0.9386 - val_loss: 0.1383 - val_acc: 0.9596\n",
            "Epoch 43/50\n",
            "301/301 [==============================] - 19s 63ms/step - loss: 0.1851 - acc: 0.9375 - val_loss: 0.1258 - val_acc: 0.9589\n",
            "Epoch 44/50\n",
            "301/301 [==============================] - 19s 63ms/step - loss: 0.1875 - acc: 0.9348 - val_loss: 0.1251 - val_acc: 0.9600\n",
            "Epoch 45/50\n",
            "301/301 [==============================] - 19s 64ms/step - loss: 0.1839 - acc: 0.9370 - val_loss: 0.1466 - val_acc: 0.9591\n",
            "Epoch 46/50\n",
            "301/301 [==============================] - 19s 63ms/step - loss: 0.1856 - acc: 0.9365 - val_loss: 0.1191 - val_acc: 0.9594\n",
            "Epoch 47/50\n",
            "301/301 [==============================] - 19s 63ms/step - loss: 0.1788 - acc: 0.9388 - val_loss: 0.1347 - val_acc: 0.9589\n",
            "Epoch 48/50\n",
            "301/301 [==============================] - 19s 64ms/step - loss: 0.1862 - acc: 0.9379 - val_loss: 0.1295 - val_acc: 0.9604\n",
            "Epoch 49/50\n",
            "301/301 [==============================] - 19s 64ms/step - loss: 0.1804 - acc: 0.9359 - val_loss: 0.1337 - val_acc: 0.9603\n",
            "Epoch 50/50\n",
            "301/301 [==============================] - 19s 64ms/step - loss: 0.1847 - acc: 0.9365 - val_loss: 0.1297 - val_acc: 0.9603\n"
          ],
          "name": "stdout"
        }
      ]
    },
    {
      "cell_type": "markdown",
      "metadata": {
        "id": "2KTfpFYsQQVJ",
        "colab_type": "text"
      },
      "source": [
        "### **Model evaluation**"
      ]
    },
    {
      "cell_type": "code",
      "metadata": {
        "id": "qFSFLYrGQesc",
        "colab_type": "code",
        "outputId": "f89d28f2-98bf-46d5-af04-ae9ef56574e3",
        "colab": {
          "base_uri": "https://localhost:8080/",
          "height": 112
        }
      },
      "source": [
        "y_pred = model_aug.predict(x_test_input)\n",
        "\n",
        "# The output is a softmax, we need to get the maximum [0.2,0.8] = 1 | [0.9,0.1] = 0 (Using argmax)\n",
        "y_pred = np.argmax(y_pred, axis=-1)\n",
        "\n",
        "acc = accuracy_score(y_test, y_pred)\n",
        "bac = balanced_accuracy_score(y_test, y_pred)\n",
        "f1 = f1_score(y_test, y_pred)\n",
        "cm = confusion_matrix(y_test, y_pred)\n",
        "\n",
        "print('Accuracy: ' + str(acc * 100.) + '%')\n",
        "print('BAC: ' + str(bac * 100.) + '%')\n",
        "print('F1 score: ' + str(f1 * 100.) + '%')\n",
        "\n",
        "print(cm)"
      ],
      "execution_count": 0,
      "outputs": [
        {
          "output_type": "stream",
          "text": [
            "Accuracy: 94.93226898887276%\n",
            "BAC: 94.93226898887276%\n",
            "F1 score: 94.99462429817227%\n",
            "[[3873  261]\n",
            " [ 158 3976]]\n"
          ],
          "name": "stdout"
        }
      ]
    },
    {
      "cell_type": "code",
      "metadata": {
        "id": "88FBHx-YQt1y",
        "colab_type": "code",
        "outputId": "8fd00ec1-2ded-4b8e-9220-4e7f984b540f",
        "colab": {
          "base_uri": "https://localhost:8080/",
          "height": 455
        }
      },
      "source": [
        "cm_df = pd.DataFrame(cm, dtype=int)\n",
        "plt.figure(figsize = (10,7))\n",
        "sn.set(font_scale=1.4) # for label size\n",
        "sn.heatmap(cm_df, annot=True, annot_kws={\"size\": 16}, fmt='g', cmap=\"Blues\")"
      ],
      "execution_count": 0,
      "outputs": [
        {
          "output_type": "execute_result",
          "data": {
            "text/plain": [
              "<matplotlib.axes._subplots.AxesSubplot at 0x7fa86f0907b8>"
            ]
          },
          "metadata": {
            "tags": []
          },
          "execution_count": 29
        },
        {
          "output_type": "display_data",
          "data": {
            "image/png": "[encoded data removed]",
            "text/plain": [
              "<Figure size 720x504 with 2 Axes>"
            ]
          },
          "metadata": {
            "tags": []
          }
        }
      ]
    },
    {
      "cell_type": "markdown",
      "metadata": {
        "id": "AO7mTWwCPO9x",
        "colab_type": "text"
      },
      "source": [
        "## **Fine-tuning from ImageNet**\n"
      ]
    },
    {
      "cell_type": "markdown",
      "metadata": {
        "id": "fJlPP0B2p3Tk",
        "colab_type": "text"
      },
      "source": [
        "### **Build model**"
      ]
    },
    {
      "cell_type": "code",
      "metadata": {
        "id": "VnTAh2WtiMQF",
        "colab_type": "code",
        "colab": {}
      },
      "source": [
        "def select_model(network):\n",
        "  if network == 'DenseNet169':\n",
        "    model = keras.applications.densenet.DenseNet169(include_top=False, weights='imagenet')\n",
        "  elif network == 'DenseNet201':\n",
        "      model = keras.applications.densenet.DenseNet201(include_top=False, weights='imagenet')\n",
        "  elif network == 'DenseNet121':\n",
        "      model = keras.applications.densenet.DenseNet121(include_top=False, weights='imagenet')\n",
        "  elif network == 'ResNet50':\n",
        "      model = keras.applications.resnet50.ResNet50(include_top=False, weights='imagenet')\n",
        "  elif network == 'InceptionV3':\n",
        "      model = keras.applications.inception_v3.InceptionV3(include_top=False, weights='imagenet')\n",
        "  elif network == 'InceptionResNetV2':\n",
        "      model = keras.applications.inception_resnet_v2.InceptionResNetV2(include_top=False, weights='imagenet')\n",
        "  elif network == 'Xception':\n",
        "      model = keras.applications.xception.Xception(include_top=False, weights='imagenet')\n",
        "  elif network == 'MobileNet':\n",
        "      model = keras.applications.mobilenet.MobileNet(include_top=False, weights='imagenet')\n",
        "  elif network == 'MobileNetV2':\n",
        "      model = keras.applications.mobilenet_v2.MobileNetV2(include_top=False, weights='imagenet')\n",
        "  else:\n",
        "      print('Wrong model name, DenseNet121 chosen as default')\n",
        "      model = keras.applications.densenet.DenseNet121(include_top=False, weights='imagenet')\n",
        "\n",
        "  return model"
      ],
      "execution_count": 0,
      "outputs": []
    },
    {
      "cell_type": "code",
      "metadata": {
        "id": "E8Vn87qxPHrR",
        "colab_type": "code",
        "outputId": "89e8ebff-705e-4ec5-a2f1-c56ee2612316",
        "colab": {
          "base_uri": "https://localhost:8080/",
          "height": 1000
        }
      },
      "source": [
        "# Choose network\n",
        "network_list = ['DenseNet121', 'DenseNet169', 'DenseNet201',\n",
        "                    'ResNet50', 'InceptionV3', 'InceptionResNetV2',\n",
        "                    'Xception', 'MobileNet', 'MobileNetV2']\n",
        "\n",
        "network = network_list[4]\n",
        "trainable_layers = 3\n",
        "\n",
        "model_pre = select_model(network)\n",
        "\n",
        "# Add necessary layers\n",
        "output = keras.layers.GlobalAveragePooling2D()(model_pre.output)\n",
        "output = keras.layers.Dense(512, activation='relu')(output)\n",
        "output = keras.layers.Dropout(0.5)(output)\n",
        "# output = keras.layers.Dense(32, activation='relu')(output)\n",
        "# output = keras.layers.Dropout(0.25)(output)\n",
        "# output = keras.layers.Dense(16, activation='relu')(output)\n",
        "output = keras.layers.Dense(num_classes, activation='softmax')(output)\n",
        "pretrained_model = keras.models.Model(model_pre.inputs, output)\n",
        "\n",
        "if trainable_layers != -1:\n",
        "    #Do not set to false batchnormalization layers! These are essential\n",
        "    for layer in pretrained_model.layers:\n",
        "        if isinstance(layer, tf.keras.layers.BatchNormalization):\n",
        "            layer.momentum = 0.9\n",
        "    for layer in pretrained_model.layers[:-trainable_layers]:\n",
        "        if not isinstance(layer, tf.keras.layers.BatchNormalization):\n",
        "            layer.trainable = False\n",
        "\n",
        "pretrained_model.summary()"
      ],
      "execution_count": 0,
      "outputs": [
        {
          "output_type": "stream",
          "text": [
            "WARNING:tensorflow:From /usr/local/lib/python3.6/dist-packages/keras/backend/tensorflow_backend.py:3733: calling dropout (from tensorflow.python.ops.nn_ops) with keep_prob is deprecated and will be removed in a future version.\n",
            "Instructions for updating:\n",
            "Please use `rate` instead of `keep_prob`. Rate should be set to `rate = 1 - keep_prob`.\n"
          ],
          "name": "stdout"
        },
        {
          "output_type": "stream",
          "text": [
            "WARNING:tensorflow:From /usr/local/lib/python3.6/dist-packages/keras/backend/tensorflow_backend.py:3733: calling dropout (from tensorflow.python.ops.nn_ops) with keep_prob is deprecated and will be removed in a future version.\n",
            "Instructions for updating:\n",
            "Please use `rate` instead of `keep_prob`. Rate should be set to `rate = 1 - keep_prob`.\n"
          ],
          "name": "stderr"
        },
        {
          "output_type": "stream",
          "text": [
            "Model: \"model_3\"\n",
            "__________________________________________________________________________________________________\n",
            "Layer (type)                    Output Shape         Param #     Connected to                     \n",
            "==================================================================================================\n",
            "input_3 (InputLayer)            (None, None, None, 3 0                                            \n",
            "__________________________________________________________________________________________________\n",
            "conv2d_189 (Conv2D)             (None, None, None, 3 864         input_3[0][0]                    \n",
            "__________________________________________________________________________________________________\n",
            "batch_normalization_189 (BatchN (None, None, None, 3 96          conv2d_189[0][0]                 \n",
            "__________________________________________________________________________________________________\n",
            "activation_189 (Activation)     (None, None, None, 3 0           batch_normalization_189[0][0]    \n",
            "__________________________________________________________________________________________________\n",
            "conv2d_190 (Conv2D)             (None, None, None, 3 9216        activation_189[0][0]             \n",
            "__________________________________________________________________________________________________\n",
            "batch_normalization_190 (BatchN (None, None, None, 3 96          conv2d_190[0][0]                 \n",
            "__________________________________________________________________________________________________\n",
            "activation_190 (Activation)     (None, None, None, 3 0           batch_normalization_190[0][0]    \n",
            "__________________________________________________________________________________________________\n",
            "conv2d_191 (Conv2D)             (None, None, None, 6 18432       activation_190[0][0]             \n",
            "__________________________________________________________________________________________________\n",
            "batch_normalization_191 (BatchN (None, None, None, 6 192         conv2d_191[0][0]                 \n",
            "__________________________________________________________________________________________________\n",
            "activation_191 (Activation)     (None, None, None, 6 0           batch_normalization_191[0][0]    \n",
            "__________________________________________________________________________________________________\n",
            "max_pooling2d_9 (MaxPooling2D)  (None, None, None, 6 0           activation_191[0][0]             \n",
            "__________________________________________________________________________________________________\n",
            "conv2d_192 (Conv2D)             (None, None, None, 8 5120        max_pooling2d_9[0][0]            \n",
            "__________________________________________________________________________________________________\n",
            "batch_normalization_192 (BatchN (None, None, None, 8 240         conv2d_192[0][0]                 \n",
            "__________________________________________________________________________________________________\n",
            "activation_192 (Activation)     (None, None, None, 8 0           batch_normalization_192[0][0]    \n",
            "__________________________________________________________________________________________________\n",
            "conv2d_193 (Conv2D)             (None, None, None, 1 138240      activation_192[0][0]             \n",
            "__________________________________________________________________________________________________\n",
            "batch_normalization_193 (BatchN (None, None, None, 1 576         conv2d_193[0][0]                 \n",
            "__________________________________________________________________________________________________\n",
            "activation_193 (Activation)     (None, None, None, 1 0           batch_normalization_193[0][0]    \n",
            "__________________________________________________________________________________________________\n",
            "max_pooling2d_10 (MaxPooling2D) (None, None, None, 1 0           activation_193[0][0]             \n",
            "__________________________________________________________________________________________________\n",
            "conv2d_197 (Conv2D)             (None, None, None, 6 12288       max_pooling2d_10[0][0]           \n",
            "__________________________________________________________________________________________________\n",
            "batch_normalization_197 (BatchN (None, None, None, 6 192         conv2d_197[0][0]                 \n",
            "__________________________________________________________________________________________________\n",
            "activation_197 (Activation)     (None, None, None, 6 0           batch_normalization_197[0][0]    \n",
            "__________________________________________________________________________________________________\n",
            "conv2d_195 (Conv2D)             (None, None, None, 4 9216        max_pooling2d_10[0][0]           \n",
            "__________________________________________________________________________________________________\n",
            "conv2d_198 (Conv2D)             (None, None, None, 9 55296       activation_197[0][0]             \n",
            "__________________________________________________________________________________________________\n",
            "batch_normalization_195 (BatchN (None, None, None, 4 144         conv2d_195[0][0]                 \n",
            "__________________________________________________________________________________________________\n",
            "batch_normalization_198 (BatchN (None, None, None, 9 288         conv2d_198[0][0]                 \n",
            "__________________________________________________________________________________________________\n",
            "activation_195 (Activation)     (None, None, None, 4 0           batch_normalization_195[0][0]    \n",
            "__________________________________________________________________________________________________\n",
            "activation_198 (Activation)     (None, None, None, 9 0           batch_normalization_198[0][0]    \n",
            "__________________________________________________________________________________________________\n",
            "average_pooling2d_19 (AveragePo (None, None, None, 1 0           max_pooling2d_10[0][0]           \n",
            "__________________________________________________________________________________________________\n",
            "conv2d_194 (Conv2D)             (None, None, None, 6 12288       max_pooling2d_10[0][0]           \n",
            "__________________________________________________________________________________________________\n",
            "conv2d_196 (Conv2D)             (None, None, None, 6 76800       activation_195[0][0]             \n",
            "__________________________________________________________________________________________________\n",
            "conv2d_199 (Conv2D)             (None, None, None, 9 82944       activation_198[0][0]             \n",
            "__________________________________________________________________________________________________\n",
            "conv2d_200 (Conv2D)             (None, None, None, 3 6144        average_pooling2d_19[0][0]       \n",
            "__________________________________________________________________________________________________\n",
            "batch_normalization_194 (BatchN (None, None, None, 6 192         conv2d_194[0][0]                 \n",
            "__________________________________________________________________________________________________\n",
            "batch_normalization_196 (BatchN (None, None, None, 6 192         conv2d_196[0][0]                 \n",
            "__________________________________________________________________________________________________\n",
            "batch_normalization_199 (BatchN (None, None, None, 9 288         conv2d_199[0][0]                 \n",
            "__________________________________________________________________________________________________\n",
            "batch_normalization_200 (BatchN (None, None, None, 3 96          conv2d_200[0][0]                 \n",
            "__________________________________________________________________________________________________\n",
            "activation_194 (Activation)     (None, None, None, 6 0           batch_normalization_194[0][0]    \n",
            "__________________________________________________________________________________________________\n",
            "activation_196 (Activation)     (None, None, None, 6 0           batch_normalization_196[0][0]    \n",
            "__________________________________________________________________________________________________\n",
            "activation_199 (Activation)     (None, None, None, 9 0           batch_normalization_199[0][0]    \n",
            "__________________________________________________________________________________________________\n",
            "activation_200 (Activation)     (None, None, None, 3 0           batch_normalization_200[0][0]    \n",
            "__________________________________________________________________________________________________\n",
            "mixed0 (Concatenate)            (None, None, None, 2 0           activation_194[0][0]             \n",
            "                                                                 activation_196[0][0]             \n",
            "                                                                 activation_199[0][0]             \n",
            "                                                                 activation_200[0][0]             \n",
            "__________________________________________________________________________________________________\n",
            "conv2d_204 (Conv2D)             (None, None, None, 6 16384       mixed0[0][0]                     \n",
            "__________________________________________________________________________________________________\n",
            "batch_normalization_204 (BatchN (None, None, None, 6 192         conv2d_204[0][0]                 \n",
            "__________________________________________________________________________________________________\n",
            "activation_204 (Activation)     (None, None, None, 6 0           batch_normalization_204[0][0]    \n",
            "__________________________________________________________________________________________________\n",
            "conv2d_202 (Conv2D)             (None, None, None, 4 12288       mixed0[0][0]                     \n",
            "__________________________________________________________________________________________________\n",
            "conv2d_205 (Conv2D)             (None, None, None, 9 55296       activation_204[0][0]             \n",
            "__________________________________________________________________________________________________\n",
            "batch_normalization_202 (BatchN (None, None, None, 4 144         conv2d_202[0][0]                 \n",
            "__________________________________________________________________________________________________\n",
            "batch_normalization_205 (BatchN (None, None, None, 9 288         conv2d_205[0][0]                 \n",
            "__________________________________________________________________________________________________\n",
            "activation_202 (Activation)     (None, None, None, 4 0           batch_normalization_202[0][0]    \n",
            "__________________________________________________________________________________________________\n",
            "activation_205 (Activation)     (None, None, None, 9 0           batch_normalization_205[0][0]    \n",
            "__________________________________________________________________________________________________\n",
            "average_pooling2d_20 (AveragePo (None, None, None, 2 0           mixed0[0][0]                     \n",
            "__________________________________________________________________________________________________\n",
            "conv2d_201 (Conv2D)             (None, None, None, 6 16384       mixed0[0][0]                     \n",
            "__________________________________________________________________________________________________\n",
            "conv2d_203 (Conv2D)             (None, None, None, 6 76800       activation_202[0][0]             \n",
            "__________________________________________________________________________________________________\n",
            "conv2d_206 (Conv2D)             (None, None, None, 9 82944       activation_205[0][0]             \n",
            "__________________________________________________________________________________________________\n",
            "conv2d_207 (Conv2D)             (None, None, None, 6 16384       average_pooling2d_20[0][0]       \n",
            "__________________________________________________________________________________________________\n",
            "batch_normalization_201 (BatchN (None, None, None, 6 192         conv2d_201[0][0]                 \n",
            "__________________________________________________________________________________________________\n",
            "batch_normalization_203 (BatchN (None, None, None, 6 192         conv2d_203[0][0]                 \n",
            "__________________________________________________________________________________________________\n",
            "batch_normalization_206 (BatchN (None, None, None, 9 288         conv2d_206[0][0]                 \n",
            "__________________________________________________________________________________________________\n",
            "batch_normalization_207 (BatchN (None, None, None, 6 192         conv2d_207[0][0]                 \n",
            "__________________________________________________________________________________________________\n",
            "activation_201 (Activation)     (None, None, None, 6 0           batch_normalization_201[0][0]    \n",
            "__________________________________________________________________________________________________\n",
            "activation_203 (Activation)     (None, None, None, 6 0           batch_normalization_203[0][0]    \n",
            "__________________________________________________________________________________________________\n",
            "activation_206 (Activation)     (None, None, None, 9 0           batch_normalization_206[0][0]    \n",
            "__________________________________________________________________________________________________\n",
            "activation_207 (Activation)     (None, None, None, 6 0           batch_normalization_207[0][0]    \n",
            "__________________________________________________________________________________________________\n",
            "mixed1 (Concatenate)            (None, None, None, 2 0           activation_201[0][0]             \n",
            "                                                                 activation_203[0][0]             \n",
            "                                                                 activation_206[0][0]             \n",
            "                                                                 activation_207[0][0]             \n",
            "__________________________________________________________________________________________________\n",
            "conv2d_211 (Conv2D)             (None, None, None, 6 18432       mixed1[0][0]                     \n",
            "__________________________________________________________________________________________________\n",
            "batch_normalization_211 (BatchN (None, None, None, 6 192         conv2d_211[0][0]                 \n",
            "__________________________________________________________________________________________________\n",
            "activation_211 (Activation)     (None, None, None, 6 0           batch_normalization_211[0][0]    \n",
            "__________________________________________________________________________________________________\n",
            "conv2d_209 (Conv2D)             (None, None, None, 4 13824       mixed1[0][0]                     \n",
            "__________________________________________________________________________________________________\n",
            "conv2d_212 (Conv2D)             (None, None, None, 9 55296       activation_211[0][0]             \n",
            "__________________________________________________________________________________________________\n",
            "batch_normalization_209 (BatchN (None, None, None, 4 144         conv2d_209[0][0]                 \n",
            "__________________________________________________________________________________________________\n",
            "batch_normalization_212 (BatchN (None, None, None, 9 288         conv2d_212[0][0]                 \n",
            "__________________________________________________________________________________________________\n",
            "activation_209 (Activation)     (None, None, None, 4 0           batch_normalization_209[0][0]    \n",
            "__________________________________________________________________________________________________\n",
            "activation_212 (Activation)     (None, None, None, 9 0           batch_normalization_212[0][0]    \n",
            "__________________________________________________________________________________________________\n",
            "average_pooling2d_21 (AveragePo (None, None, None, 2 0           mixed1[0][0]                     \n",
            "__________________________________________________________________________________________________\n",
            "conv2d_208 (Conv2D)             (None, None, None, 6 18432       mixed1[0][0]                     \n",
            "__________________________________________________________________________________________________\n",
            "conv2d_210 (Conv2D)             (None, None, None, 6 76800       activation_209[0][0]             \n",
            "__________________________________________________________________________________________________\n",
            "conv2d_213 (Conv2D)             (None, None, None, 9 82944       activation_212[0][0]             \n",
            "__________________________________________________________________________________________________\n",
            "conv2d_214 (Conv2D)             (None, None, None, 6 18432       average_pooling2d_21[0][0]       \n",
            "__________________________________________________________________________________________________\n",
            "batch_normalization_208 (BatchN (None, None, None, 6 192         conv2d_208[0][0]                 \n",
            "__________________________________________________________________________________________________\n",
            "batch_normalization_210 (BatchN (None, None, None, 6 192         conv2d_210[0][0]                 \n",
            "__________________________________________________________________________________________________\n",
            "batch_normalization_213 (BatchN (None, None, None, 9 288         conv2d_213[0][0]                 \n",
            "__________________________________________________________________________________________________\n",
            "batch_normalization_214 (BatchN (None, None, None, 6 192         conv2d_214[0][0]                 \n",
            "__________________________________________________________________________________________________\n",
            "activation_208 (Activation)     (None, None, None, 6 0           batch_normalization_208[0][0]    \n",
            "__________________________________________________________________________________________________\n",
            "activation_210 (Activation)     (None, None, None, 6 0           batch_normalization_210[0][0]    \n",
            "__________________________________________________________________________________________________\n",
            "activation_213 (Activation)     (None, None, None, 9 0           batch_normalization_213[0][0]    \n",
            "__________________________________________________________________________________________________\n",
            "activation_214 (Activation)     (None, None, None, 6 0           batch_normalization_214[0][0]    \n",
            "__________________________________________________________________________________________________\n",
            "mixed2 (Concatenate)            (None, None, None, 2 0           activation_208[0][0]             \n",
            "                                                                 activation_210[0][0]             \n",
            "                                                                 activation_213[0][0]             \n",
            "                                                                 activation_214[0][0]             \n",
            "__________________________________________________________________________________________________\n",
            "conv2d_216 (Conv2D)             (None, None, None, 6 18432       mixed2[0][0]                     \n",
            "__________________________________________________________________________________________________\n",
            "batch_normalization_216 (BatchN (None, None, None, 6 192         conv2d_216[0][0]                 \n",
            "__________________________________________________________________________________________________\n",
            "activation_216 (Activation)     (None, None, None, 6 0           batch_normalization_216[0][0]    \n",
            "__________________________________________________________________________________________________\n",
            "conv2d_217 (Conv2D)             (None, None, None, 9 55296       activation_216[0][0]             \n",
            "__________________________________________________________________________________________________\n",
            "batch_normalization_217 (BatchN (None, None, None, 9 288         conv2d_217[0][0]                 \n",
            "__________________________________________________________________________________________________\n",
            "activation_217 (Activation)     (None, None, None, 9 0           batch_normalization_217[0][0]    \n",
            "__________________________________________________________________________________________________\n",
            "conv2d_215 (Conv2D)             (None, None, None, 3 995328      mixed2[0][0]                     \n",
            "__________________________________________________________________________________________________\n",
            "conv2d_218 (Conv2D)             (None, None, None, 9 82944       activation_217[0][0]             \n",
            "__________________________________________________________________________________________________\n",
            "batch_normalization_215 (BatchN (None, None, None, 3 1152        conv2d_215[0][0]                 \n",
            "__________________________________________________________________________________________________\n",
            "batch_normalization_218 (BatchN (None, None, None, 9 288         conv2d_218[0][0]                 \n",
            "__________________________________________________________________________________________________\n",
            "activation_215 (Activation)     (None, None, None, 3 0           batch_normalization_215[0][0]    \n",
            "__________________________________________________________________________________________________\n",
            "activation_218 (Activation)     (None, None, None, 9 0           batch_normalization_218[0][0]    \n",
            "__________________________________________________________________________________________________\n",
            "max_pooling2d_11 (MaxPooling2D) (None, None, None, 2 0           mixed2[0][0]                     \n",
            "__________________________________________________________________________________________________\n",
            "mixed3 (Concatenate)            (None, None, None, 7 0           activation_215[0][0]             \n",
            "                                                                 activation_218[0][0]             \n",
            "                                                                 max_pooling2d_11[0][0]           \n",
            "__________________________________________________________________________________________________\n",
            "conv2d_223 (Conv2D)             (None, None, None, 1 98304       mixed3[0][0]                     \n",
            "__________________________________________________________________________________________________\n",
            "batch_normalization_223 (BatchN (None, None, None, 1 384         conv2d_223[0][0]                 \n",
            "__________________________________________________________________________________________________\n",
            "activation_223 (Activation)     (None, None, None, 1 0           batch_normalization_223[0][0]    \n",
            "__________________________________________________________________________________________________\n",
            "conv2d_224 (Conv2D)             (None, None, None, 1 114688      activation_223[0][0]             \n",
            "__________________________________________________________________________________________________\n",
            "batch_normalization_224 (BatchN (None, None, None, 1 384         conv2d_224[0][0]                 \n",
            "__________________________________________________________________________________________________\n",
            "activation_224 (Activation)     (None, None, None, 1 0           batch_normalization_224[0][0]    \n",
            "__________________________________________________________________________________________________\n",
            "conv2d_220 (Conv2D)             (None, None, None, 1 98304       mixed3[0][0]                     \n",
            "__________________________________________________________________________________________________\n",
            "conv2d_225 (Conv2D)             (None, None, None, 1 114688      activation_224[0][0]             \n",
            "__________________________________________________________________________________________________\n",
            "batch_normalization_220 (BatchN (None, None, None, 1 384         conv2d_220[0][0]                 \n",
            "__________________________________________________________________________________________________\n",
            "batch_normalization_225 (BatchN (None, None, None, 1 384         conv2d_225[0][0]                 \n",
            "__________________________________________________________________________________________________\n",
            "activation_220 (Activation)     (None, None, None, 1 0           batch_normalization_220[0][0]    \n",
            "__________________________________________________________________________________________________\n",
            "activation_225 (Activation)     (None, None, None, 1 0           batch_normalization_225[0][0]    \n",
            "__________________________________________________________________________________________________\n",
            "conv2d_221 (Conv2D)             (None, None, None, 1 114688      activation_220[0][0]             \n",
            "__________________________________________________________________________________________________\n",
            "conv2d_226 (Conv2D)             (None, None, None, 1 114688      activation_225[0][0]             \n",
            "__________________________________________________________________________________________________\n",
            "batch_normalization_221 (BatchN (None, None, None, 1 384         conv2d_221[0][0]                 \n",
            "__________________________________________________________________________________________________\n",
            "batch_normalization_226 (BatchN (None, None, None, 1 384         conv2d_226[0][0]                 \n",
            "__________________________________________________________________________________________________\n",
            "activation_221 (Activation)     (None, None, None, 1 0           batch_normalization_221[0][0]    \n",
            "__________________________________________________________________________________________________\n",
            "activation_226 (Activation)     (None, None, None, 1 0           batch_normalization_226[0][0]    \n",
            "__________________________________________________________________________________________________\n",
            "average_pooling2d_22 (AveragePo (None, None, None, 7 0           mixed3[0][0]                     \n",
            "__________________________________________________________________________________________________\n",
            "conv2d_219 (Conv2D)             (None, None, None, 1 147456      mixed3[0][0]                     \n",
            "__________________________________________________________________________________________________\n",
            "conv2d_222 (Conv2D)             (None, None, None, 1 172032      activation_221[0][0]             \n",
            "__________________________________________________________________________________________________\n",
            "conv2d_227 (Conv2D)             (None, None, None, 1 172032      activation_226[0][0]             \n",
            "__________________________________________________________________________________________________\n",
            "conv2d_228 (Conv2D)             (None, None, None, 1 147456      average_pooling2d_22[0][0]       \n",
            "__________________________________________________________________________________________________\n",
            "batch_normalization_219 (BatchN (None, None, None, 1 576         conv2d_219[0][0]                 \n",
            "__________________________________________________________________________________________________\n",
            "batch_normalization_222 (BatchN (None, None, None, 1 576         conv2d_222[0][0]                 \n",
            "__________________________________________________________________________________________________\n",
            "batch_normalization_227 (BatchN (None, None, None, 1 576         conv2d_227[0][0]                 \n",
            "__________________________________________________________________________________________________\n",
            "batch_normalization_228 (BatchN (None, None, None, 1 576         conv2d_228[0][0]                 \n",
            "__________________________________________________________________________________________________\n",
            "activation_219 (Activation)     (None, None, None, 1 0           batch_normalization_219[0][0]    \n",
            "__________________________________________________________________________________________________\n",
            "activation_222 (Activation)     (None, None, None, 1 0           batch_normalization_222[0][0]    \n",
            "__________________________________________________________________________________________________\n",
            "activation_227 (Activation)     (None, None, None, 1 0           batch_normalization_227[0][0]    \n",
            "__________________________________________________________________________________________________\n",
            "activation_228 (Activation)     (None, None, None, 1 0           batch_normalization_228[0][0]    \n",
            "__________________________________________________________________________________________________\n",
            "mixed4 (Concatenate)            (None, None, None, 7 0           activation_219[0][0]             \n",
            "                                                                 activation_222[0][0]             \n",
            "                                                                 activation_227[0][0]             \n",
            "                                                                 activation_228[0][0]             \n",
            "__________________________________________________________________________________________________\n",
            "conv2d_233 (Conv2D)             (None, None, None, 1 122880      mixed4[0][0]                     \n",
            "__________________________________________________________________________________________________\n",
            "batch_normalization_233 (BatchN (None, None, None, 1 480         conv2d_233[0][0]                 \n",
            "__________________________________________________________________________________________________\n",
            "activation_233 (Activation)     (None, None, None, 1 0           batch_normalization_233[0][0]    \n",
            "__________________________________________________________________________________________________\n",
            "conv2d_234 (Conv2D)             (None, None, None, 1 179200      activation_233[0][0]             \n",
            "__________________________________________________________________________________________________\n",
            "batch_normalization_234 (BatchN (None, None, None, 1 480         conv2d_234[0][0]                 \n",
            "__________________________________________________________________________________________________\n",
            "activation_234 (Activation)     (None, None, None, 1 0           batch_normalization_234[0][0]    \n",
            "__________________________________________________________________________________________________\n",
            "conv2d_230 (Conv2D)             (None, None, None, 1 122880      mixed4[0][0]                     \n",
            "__________________________________________________________________________________________________\n",
            "conv2d_235 (Conv2D)             (None, None, None, 1 179200      activation_234[0][0]             \n",
            "__________________________________________________________________________________________________\n",
            "batch_normalization_230 (BatchN (None, None, None, 1 480         conv2d_230[0][0]                 \n",
            "__________________________________________________________________________________________________\n",
            "batch_normalization_235 (BatchN (None, None, None, 1 480         conv2d_235[0][0]                 \n",
            "__________________________________________________________________________________________________\n",
            "activation_230 (Activation)     (None, None, None, 1 0           batch_normalization_230[0][0]    \n",
            "__________________________________________________________________________________________________\n",
            "activation_235 (Activation)     (None, None, None, 1 0           batch_normalization_235[0][0]    \n",
            "__________________________________________________________________________________________________\n",
            "conv2d_231 (Conv2D)             (None, None, None, 1 179200      activation_230[0][0]             \n",
            "__________________________________________________________________________________________________\n",
            "conv2d_236 (Conv2D)             (None, None, None, 1 179200      activation_235[0][0]             \n",
            "__________________________________________________________________________________________________\n",
            "batch_normalization_231 (BatchN (None, None, None, 1 480         conv2d_231[0][0]                 \n",
            "__________________________________________________________________________________________________\n",
            "batch_normalization_236 (BatchN (None, None, None, 1 480         conv2d_236[0][0]                 \n",
            "__________________________________________________________________________________________________\n",
            "activation_231 (Activation)     (None, None, None, 1 0           batch_normalization_231[0][0]    \n",
            "__________________________________________________________________________________________________\n",
            "activation_236 (Activation)     (None, None, None, 1 0           batch_normalization_236[0][0]    \n",
            "__________________________________________________________________________________________________\n",
            "average_pooling2d_23 (AveragePo (None, None, None, 7 0           mixed4[0][0]                     \n",
            "__________________________________________________________________________________________________\n",
            "conv2d_229 (Conv2D)             (None, None, None, 1 147456      mixed4[0][0]                     \n",
            "__________________________________________________________________________________________________\n",
            "conv2d_232 (Conv2D)             (None, None, None, 1 215040      activation_231[0][0]             \n",
            "__________________________________________________________________________________________________\n",
            "conv2d_237 (Conv2D)             (None, None, None, 1 215040      activation_236[0][0]             \n",
            "__________________________________________________________________________________________________\n",
            "conv2d_238 (Conv2D)             (None, None, None, 1 147456      average_pooling2d_23[0][0]       \n",
            "__________________________________________________________________________________________________\n",
            "batch_normalization_229 (BatchN (None, None, None, 1 576         conv2d_229[0][0]                 \n",
            "__________________________________________________________________________________________________\n",
            "batch_normalization_232 (BatchN (None, None, None, 1 576         conv2d_232[0][0]                 \n",
            "__________________________________________________________________________________________________\n",
            "batch_normalization_237 (BatchN (None, None, None, 1 576         conv2d_237[0][0]                 \n",
            "__________________________________________________________________________________________________\n",
            "batch_normalization_238 (BatchN (None, None, None, 1 576         conv2d_238[0][0]                 \n",
            "__________________________________________________________________________________________________\n",
            "activation_229 (Activation)     (None, None, None, 1 0           batch_normalization_229[0][0]    \n",
            "__________________________________________________________________________________________________\n",
            "activation_232 (Activation)     (None, None, None, 1 0           batch_normalization_232[0][0]    \n",
            "__________________________________________________________________________________________________\n",
            "activation_237 (Activation)     (None, None, None, 1 0           batch_normalization_237[0][0]    \n",
            "__________________________________________________________________________________________________\n",
            "activation_238 (Activation)     (None, None, None, 1 0           batch_normalization_238[0][0]    \n",
            "__________________________________________________________________________________________________\n",
            "mixed5 (Concatenate)            (None, None, None, 7 0           activation_229[0][0]             \n",
            "                                                                 activation_232[0][0]             \n",
            "                                                                 activation_237[0][0]             \n",
            "                                                                 activation_238[0][0]             \n",
            "__________________________________________________________________________________________________\n",
            "conv2d_243 (Conv2D)             (None, None, None, 1 122880      mixed5[0][0]                     \n",
            "__________________________________________________________________________________________________\n",
            "batch_normalization_243 (BatchN (None, None, None, 1 480         conv2d_243[0][0]                 \n",
            "__________________________________________________________________________________________________\n",
            "activation_243 (Activation)     (None, None, None, 1 0           batch_normalization_243[0][0]    \n",
            "__________________________________________________________________________________________________\n",
            "conv2d_244 (Conv2D)             (None, None, None, 1 179200      activation_243[0][0]             \n",
            "__________________________________________________________________________________________________\n",
            "batch_normalization_244 (BatchN (None, None, None, 1 480         conv2d_244[0][0]                 \n",
            "__________________________________________________________________________________________________\n",
            "activation_244 (Activation)     (None, None, None, 1 0           batch_normalization_244[0][0]    \n",
            "__________________________________________________________________________________________________\n",
            "conv2d_240 (Conv2D)             (None, None, None, 1 122880      mixed5[0][0]                     \n",
            "__________________________________________________________________________________________________\n",
            "conv2d_245 (Conv2D)             (None, None, None, 1 179200      activation_244[0][0]             \n",
            "__________________________________________________________________________________________________\n",
            "batch_normalization_240 (BatchN (None, None, None, 1 480         conv2d_240[0][0]                 \n",
            "__________________________________________________________________________________________________\n",
            "batch_normalization_245 (BatchN (None, None, None, 1 480         conv2d_245[0][0]                 \n",
            "__________________________________________________________________________________________________\n",
            "activation_240 (Activation)     (None, None, None, 1 0           batch_normalization_240[0][0]    \n",
            "__________________________________________________________________________________________________\n",
            "activation_245 (Activation)     (None, None, None, 1 0           batch_normalization_245[0][0]    \n",
            "__________________________________________________________________________________________________\n",
            "conv2d_241 (Conv2D)             (None, None, None, 1 179200      activation_240[0][0]             \n",
            "__________________________________________________________________________________________________\n",
            "conv2d_246 (Conv2D)             (None, None, None, 1 179200      activation_245[0][0]             \n",
            "__________________________________________________________________________________________________\n",
            "batch_normalization_241 (BatchN (None, None, None, 1 480         conv2d_241[0][0]                 \n",
            "__________________________________________________________________________________________________\n",
            "batch_normalization_246 (BatchN (None, None, None, 1 480         conv2d_246[0][0]                 \n",
            "__________________________________________________________________________________________________\n",
            "activation_241 (Activation)     (None, None, None, 1 0           batch_normalization_241[0][0]    \n",
            "__________________________________________________________________________________________________\n",
            "activation_246 (Activation)     (None, None, None, 1 0           batch_normalization_246[0][0]    \n",
            "__________________________________________________________________________________________________\n",
            "average_pooling2d_24 (AveragePo (None, None, None, 7 0           mixed5[0][0]                     \n",
            "__________________________________________________________________________________________________\n",
            "conv2d_239 (Conv2D)             (None, None, None, 1 147456      mixed5[0][0]                     \n",
            "__________________________________________________________________________________________________\n",
            "conv2d_242 (Conv2D)             (None, None, None, 1 215040      activation_241[0][0]             \n",
            "__________________________________________________________________________________________________\n",
            "conv2d_247 (Conv2D)             (None, None, None, 1 215040      activation_246[0][0]             \n",
            "__________________________________________________________________________________________________\n",
            "conv2d_248 (Conv2D)             (None, None, None, 1 147456      average_pooling2d_24[0][0]       \n",
            "__________________________________________________________________________________________________\n",
            "batch_normalization_239 (BatchN (None, None, None, 1 576         conv2d_239[0][0]                 \n",
            "__________________________________________________________________________________________________\n",
            "batch_normalization_242 (BatchN (None, None, None, 1 576         conv2d_242[0][0]                 \n",
            "__________________________________________________________________________________________________\n",
            "batch_normalization_247 (BatchN (None, None, None, 1 576         conv2d_247[0][0]                 \n",
            "__________________________________________________________________________________________________\n",
            "batch_normalization_248 (BatchN (None, None, None, 1 576         conv2d_248[0][0]                 \n",
            "__________________________________________________________________________________________________\n",
            "activation_239 (Activation)     (None, None, None, 1 0           batch_normalization_239[0][0]    \n",
            "__________________________________________________________________________________________________\n",
            "activation_242 (Activation)     (None, None, None, 1 0           batch_normalization_242[0][0]    \n",
            "__________________________________________________________________________________________________\n",
            "activation_247 (Activation)     (None, None, None, 1 0           batch_normalization_247[0][0]    \n",
            "__________________________________________________________________________________________________\n",
            "activation_248 (Activation)     (None, None, None, 1 0           batch_normalization_248[0][0]    \n",
            "__________________________________________________________________________________________________\n",
            "mixed6 (Concatenate)            (None, None, None, 7 0           activation_239[0][0]             \n",
            "                                                                 activation_242[0][0]             \n",
            "                                                                 activation_247[0][0]             \n",
            "                                                                 activation_248[0][0]             \n",
            "__________________________________________________________________________________________________\n",
            "conv2d_253 (Conv2D)             (None, None, None, 1 147456      mixed6[0][0]                     \n",
            "__________________________________________________________________________________________________\n",
            "batch_normalization_253 (BatchN (None, None, None, 1 576         conv2d_253[0][0]                 \n",
            "__________________________________________________________________________________________________\n",
            "activation_253 (Activation)     (None, None, None, 1 0           batch_normalization_253[0][0]    \n",
            "__________________________________________________________________________________________________\n",
            "conv2d_254 (Conv2D)             (None, None, None, 1 258048      activation_253[0][0]             \n",
            "__________________________________________________________________________________________________\n",
            "batch_normalization_254 (BatchN (None, None, None, 1 576         conv2d_254[0][0]                 \n",
            "__________________________________________________________________________________________________\n",
            "activation_254 (Activation)     (None, None, None, 1 0           batch_normalization_254[0][0]    \n",
            "__________________________________________________________________________________________________\n",
            "conv2d_250 (Conv2D)             (None, None, None, 1 147456      mixed6[0][0]                     \n",
            "__________________________________________________________________________________________________\n",
            "conv2d_255 (Conv2D)             (None, None, None, 1 258048      activation_254[0][0]             \n",
            "__________________________________________________________________________________________________\n",
            "batch_normalization_250 (BatchN (None, None, None, 1 576         conv2d_250[0][0]                 \n",
            "__________________________________________________________________________________________________\n",
            "batch_normalization_255 (BatchN (None, None, None, 1 576         conv2d_255[0][0]                 \n",
            "__________________________________________________________________________________________________\n",
            "activation_250 (Activation)     (None, None, None, 1 0           batch_normalization_250[0][0]    \n",
            "__________________________________________________________________________________________________\n",
            "activation_255 (Activation)     (None, None, None, 1 0           batch_normalization_255[0][0]    \n",
            "__________________________________________________________________________________________________\n",
            "conv2d_251 (Conv2D)             (None, None, None, 1 258048      activation_250[0][0]             \n",
            "__________________________________________________________________________________________________\n",
            "conv2d_256 (Conv2D)             (None, None, None, 1 258048      activation_255[0][0]             \n",
            "__________________________________________________________________________________________________\n",
            "batch_normalization_251 (BatchN (None, None, None, 1 576         conv2d_251[0][0]                 \n",
            "__________________________________________________________________________________________________\n",
            "batch_normalization_256 (BatchN (None, None, None, 1 576         conv2d_256[0][0]                 \n",
            "__________________________________________________________________________________________________\n",
            "activation_251 (Activation)     (None, None, None, 1 0           batch_normalization_251[0][0]    \n",
            "__________________________________________________________________________________________________\n",
            "activation_256 (Activation)     (None, None, None, 1 0           batch_normalization_256[0][0]    \n",
            "__________________________________________________________________________________________________\n",
            "average_pooling2d_25 (AveragePo (None, None, None, 7 0           mixed6[0][0]                     \n",
            "__________________________________________________________________________________________________\n",
            "conv2d_249 (Conv2D)             (None, None, None, 1 147456      mixed6[0][0]                     \n",
            "__________________________________________________________________________________________________\n",
            "conv2d_252 (Conv2D)             (None, None, None, 1 258048      activation_251[0][0]             \n",
            "__________________________________________________________________________________________________\n",
            "conv2d_257 (Conv2D)             (None, None, None, 1 258048      activation_256[0][0]             \n",
            "__________________________________________________________________________________________________\n",
            "conv2d_258 (Conv2D)             (None, None, None, 1 147456      average_pooling2d_25[0][0]       \n",
            "__________________________________________________________________________________________________\n",
            "batch_normalization_249 (BatchN (None, None, None, 1 576         conv2d_249[0][0]                 \n",
            "__________________________________________________________________________________________________\n",
            "batch_normalization_252 (BatchN (None, None, None, 1 576         conv2d_252[0][0]                 \n",
            "__________________________________________________________________________________________________\n",
            "batch_normalization_257 (BatchN (None, None, None, 1 576         conv2d_257[0][0]                 \n",
            "__________________________________________________________________________________________________\n",
            "batch_normalization_258 (BatchN (None, None, None, 1 576         conv2d_258[0][0]                 \n",
            "__________________________________________________________________________________________________\n",
            "activation_249 (Activation)     (None, None, None, 1 0           batch_normalization_249[0][0]    \n",
            "__________________________________________________________________________________________________\n",
            "activation_252 (Activation)     (None, None, None, 1 0           batch_normalization_252[0][0]    \n",
            "__________________________________________________________________________________________________\n",
            "activation_257 (Activation)     (None, None, None, 1 0           batch_normalization_257[0][0]    \n",
            "__________________________________________________________________________________________________\n",
            "activation_258 (Activation)     (None, None, None, 1 0           batch_normalization_258[0][0]    \n",
            "__________________________________________________________________________________________________\n",
            "mixed7 (Concatenate)            (None, None, None, 7 0           activation_249[0][0]             \n",
            "                                                                 activation_252[0][0]             \n",
            "                                                                 activation_257[0][0]             \n",
            "                                                                 activation_258[0][0]             \n",
            "__________________________________________________________________________________________________\n",
            "conv2d_261 (Conv2D)             (None, None, None, 1 147456      mixed7[0][0]                     \n",
            "__________________________________________________________________________________________________\n",
            "batch_normalization_261 (BatchN (None, None, None, 1 576         conv2d_261[0][0]                 \n",
            "__________________________________________________________________________________________________\n",
            "activation_261 (Activation)     (None, None, None, 1 0           batch_normalization_261[0][0]    \n",
            "__________________________________________________________________________________________________\n",
            "conv2d_262 (Conv2D)             (None, None, None, 1 258048      activation_261[0][0]             \n",
            "__________________________________________________________________________________________________\n",
            "batch_normalization_262 (BatchN (None, None, None, 1 576         conv2d_262[0][0]                 \n",
            "__________________________________________________________________________________________________\n",
            "activation_262 (Activation)     (None, None, None, 1 0           batch_normalization_262[0][0]    \n",
            "__________________________________________________________________________________________________\n",
            "conv2d_259 (Conv2D)             (None, None, None, 1 147456      mixed7[0][0]                     \n",
            "__________________________________________________________________________________________________\n",
            "conv2d_263 (Conv2D)             (None, None, None, 1 258048      activation_262[0][0]             \n",
            "__________________________________________________________________________________________________\n",
            "batch_normalization_259 (BatchN (None, None, None, 1 576         conv2d_259[0][0]                 \n",
            "__________________________________________________________________________________________________\n",
            "batch_normalization_263 (BatchN (None, None, None, 1 576         conv2d_263[0][0]                 \n",
            "__________________________________________________________________________________________________\n",
            "activation_259 (Activation)     (None, None, None, 1 0           batch_normalization_259[0][0]    \n",
            "__________________________________________________________________________________________________\n",
            "activation_263 (Activation)     (None, None, None, 1 0           batch_normalization_263[0][0]    \n",
            "__________________________________________________________________________________________________\n",
            "conv2d_260 (Conv2D)             (None, None, None, 3 552960      activation_259[0][0]             \n",
            "__________________________________________________________________________________________________\n",
            "conv2d_264 (Conv2D)             (None, None, None, 1 331776      activation_263[0][0]             \n",
            "__________________________________________________________________________________________________\n",
            "batch_normalization_260 (BatchN (None, None, None, 3 960         conv2d_260[0][0]                 \n",
            "__________________________________________________________________________________________________\n",
            "batch_normalization_264 (BatchN (None, None, None, 1 576         conv2d_264[0][0]                 \n",
            "__________________________________________________________________________________________________\n",
            "activation_260 (Activation)     (None, None, None, 3 0           batch_normalization_260[0][0]    \n",
            "__________________________________________________________________________________________________\n",
            "activation_264 (Activation)     (None, None, None, 1 0           batch_normalization_264[0][0]    \n",
            "__________________________________________________________________________________________________\n",
            "max_pooling2d_12 (MaxPooling2D) (None, None, None, 7 0           mixed7[0][0]                     \n",
            "__________________________________________________________________________________________________\n",
            "mixed8 (Concatenate)            (None, None, None, 1 0           activation_260[0][0]             \n",
            "                                                                 activation_264[0][0]             \n",
            "                                                                 max_pooling2d_12[0][0]           \n",
            "__________________________________________________________________________________________________\n",
            "conv2d_269 (Conv2D)             (None, None, None, 4 573440      mixed8[0][0]                     \n",
            "__________________________________________________________________________________________________\n",
            "batch_normalization_269 (BatchN (None, None, None, 4 1344        conv2d_269[0][0]                 \n",
            "__________________________________________________________________________________________________\n",
            "activation_269 (Activation)     (None, None, None, 4 0           batch_normalization_269[0][0]    \n",
            "__________________________________________________________________________________________________\n",
            "conv2d_266 (Conv2D)             (None, None, None, 3 491520      mixed8[0][0]                     \n",
            "__________________________________________________________________________________________________\n",
            "conv2d_270 (Conv2D)             (None, None, None, 3 1548288     activation_269[0][0]             \n",
            "__________________________________________________________________________________________________\n",
            "batch_normalization_266 (BatchN (None, None, None, 3 1152        conv2d_266[0][0]                 \n",
            "__________________________________________________________________________________________________\n",
            "batch_normalization_270 (BatchN (None, None, None, 3 1152        conv2d_270[0][0]                 \n",
            "__________________________________________________________________________________________________\n",
            "activation_266 (Activation)     (None, None, None, 3 0           batch_normalization_266[0][0]    \n",
            "__________________________________________________________________________________________________\n",
            "activation_270 (Activation)     (None, None, None, 3 0           batch_normalization_270[0][0]    \n",
            "__________________________________________________________________________________________________\n",
            "conv2d_267 (Conv2D)             (None, None, None, 3 442368      activation_266[0][0]             \n",
            "__________________________________________________________________________________________________\n",
            "conv2d_268 (Conv2D)             (None, None, None, 3 442368      activation_266[0][0]             \n",
            "__________________________________________________________________________________________________\n",
            "conv2d_271 (Conv2D)             (None, None, None, 3 442368      activation_270[0][0]             \n",
            "__________________________________________________________________________________________________\n",
            "conv2d_272 (Conv2D)             (None, None, None, 3 442368      activation_270[0][0]             \n",
            "__________________________________________________________________________________________________\n",
            "average_pooling2d_26 (AveragePo (None, None, None, 1 0           mixed8[0][0]                     \n",
            "__________________________________________________________________________________________________\n",
            "conv2d_265 (Conv2D)             (None, None, None, 3 409600      mixed8[0][0]                     \n",
            "__________________________________________________________________________________________________\n",
            "batch_normalization_267 (BatchN (None, None, None, 3 1152        conv2d_267[0][0]                 \n",
            "__________________________________________________________________________________________________\n",
            "batch_normalization_268 (BatchN (None, None, None, 3 1152        conv2d_268[0][0]                 \n",
            "__________________________________________________________________________________________________\n",
            "batch_normalization_271 (BatchN (None, None, None, 3 1152        conv2d_271[0][0]                 \n",
            "__________________________________________________________________________________________________\n",
            "batch_normalization_272 (BatchN (None, None, None, 3 1152        conv2d_272[0][0]                 \n",
            "__________________________________________________________________________________________________\n",
            "conv2d_273 (Conv2D)             (None, None, None, 1 245760      average_pooling2d_26[0][0]       \n",
            "__________________________________________________________________________________________________\n",
            "batch_normalization_265 (BatchN (None, None, None, 3 960         conv2d_265[0][0]                 \n",
            "__________________________________________________________________________________________________\n",
            "activation_267 (Activation)     (None, None, None, 3 0           batch_normalization_267[0][0]    \n",
            "__________________________________________________________________________________________________\n",
            "activation_268 (Activation)     (None, None, None, 3 0           batch_normalization_268[0][0]    \n",
            "__________________________________________________________________________________________________\n",
            "activation_271 (Activation)     (None, None, None, 3 0           batch_normalization_271[0][0]    \n",
            "__________________________________________________________________________________________________\n",
            "activation_272 (Activation)     (None, None, None, 3 0           batch_normalization_272[0][0]    \n",
            "__________________________________________________________________________________________________\n",
            "batch_normalization_273 (BatchN (None, None, None, 1 576         conv2d_273[0][0]                 \n",
            "__________________________________________________________________________________________________\n",
            "activation_265 (Activation)     (None, None, None, 3 0           batch_normalization_265[0][0]    \n",
            "__________________________________________________________________________________________________\n",
            "mixed9_0 (Concatenate)          (None, None, None, 7 0           activation_267[0][0]             \n",
            "                                                                 activation_268[0][0]             \n",
            "__________________________________________________________________________________________________\n",
            "concatenate_5 (Concatenate)     (None, None, None, 7 0           activation_271[0][0]             \n",
            "                                                                 activation_272[0][0]             \n",
            "__________________________________________________________________________________________________\n",
            "activation_273 (Activation)     (None, None, None, 1 0           batch_normalization_273[0][0]    \n",
            "__________________________________________________________________________________________________\n",
            "mixed9 (Concatenate)            (None, None, None, 2 0           activation_265[0][0]             \n",
            "                                                                 mixed9_0[0][0]                   \n",
            "                                                                 concatenate_5[0][0]              \n",
            "                                                                 activation_273[0][0]             \n",
            "__________________________________________________________________________________________________\n",
            "conv2d_278 (Conv2D)             (None, None, None, 4 917504      mixed9[0][0]                     \n",
            "__________________________________________________________________________________________________\n",
            "batch_normalization_278 (BatchN (None, None, None, 4 1344        conv2d_278[0][0]                 \n",
            "__________________________________________________________________________________________________\n",
            "activation_278 (Activation)     (None, None, None, 4 0           batch_normalization_278[0][0]    \n",
            "__________________________________________________________________________________________________\n",
            "conv2d_275 (Conv2D)             (None, None, None, 3 786432      mixed9[0][0]                     \n",
            "__________________________________________________________________________________________________\n",
            "conv2d_279 (Conv2D)             (None, None, None, 3 1548288     activation_278[0][0]             \n",
            "__________________________________________________________________________________________________\n",
            "batch_normalization_275 (BatchN (None, None, None, 3 1152        conv2d_275[0][0]                 \n",
            "__________________________________________________________________________________________________\n",
            "batch_normalization_279 (BatchN (None, None, None, 3 1152        conv2d_279[0][0]                 \n",
            "__________________________________________________________________________________________________\n",
            "activation_275 (Activation)     (None, None, None, 3 0           batch_normalization_275[0][0]    \n",
            "__________________________________________________________________________________________________\n",
            "activation_279 (Activation)     (None, None, None, 3 0           batch_normalization_279[0][0]    \n",
            "__________________________________________________________________________________________________\n",
            "conv2d_276 (Conv2D)             (None, None, None, 3 442368      activation_275[0][0]             \n",
            "__________________________________________________________________________________________________\n",
            "conv2d_277 (Conv2D)             (None, None, None, 3 442368      activation_275[0][0]             \n",
            "__________________________________________________________________________________________________\n",
            "conv2d_280 (Conv2D)             (None, None, None, 3 442368      activation_279[0][0]             \n",
            "__________________________________________________________________________________________________\n",
            "conv2d_281 (Conv2D)             (None, None, None, 3 442368      activation_279[0][0]             \n",
            "__________________________________________________________________________________________________\n",
            "average_pooling2d_27 (AveragePo (None, None, None, 2 0           mixed9[0][0]                     \n",
            "__________________________________________________________________________________________________\n",
            "conv2d_274 (Conv2D)             (None, None, None, 3 655360      mixed9[0][0]                     \n",
            "__________________________________________________________________________________________________\n",
            "batch_normalization_276 (BatchN (None, None, None, 3 1152        conv2d_276[0][0]                 \n",
            "__________________________________________________________________________________________________\n",
            "batch_normalization_277 (BatchN (None, None, None, 3 1152        conv2d_277[0][0]                 \n",
            "__________________________________________________________________________________________________\n",
            "batch_normalization_280 (BatchN (None, None, None, 3 1152        conv2d_280[0][0]                 \n",
            "__________________________________________________________________________________________________\n",
            "batch_normalization_281 (BatchN (None, None, None, 3 1152        conv2d_281[0][0]                 \n",
            "__________________________________________________________________________________________________\n",
            "conv2d_282 (Conv2D)             (None, None, None, 1 393216      average_pooling2d_27[0][0]       \n",
            "__________________________________________________________________________________________________\n",
            "batch_normalization_274 (BatchN (None, None, None, 3 960         conv2d_274[0][0]                 \n",
            "__________________________________________________________________________________________________\n",
            "activation_276 (Activation)     (None, None, None, 3 0           batch_normalization_276[0][0]    \n",
            "__________________________________________________________________________________________________\n",
            "activation_277 (Activation)     (None, None, None, 3 0           batch_normalization_277[0][0]    \n",
            "__________________________________________________________________________________________________\n",
            "activation_280 (Activation)     (None, None, None, 3 0           batch_normalization_280[0][0]    \n",
            "__________________________________________________________________________________________________\n",
            "activation_281 (Activation)     (None, None, None, 3 0           batch_normalization_281[0][0]    \n",
            "__________________________________________________________________________________________________\n",
            "batch_normalization_282 (BatchN (None, None, None, 1 576         conv2d_282[0][0]                 \n",
            "__________________________________________________________________________________________________\n",
            "activation_274 (Activation)     (None, None, None, 3 0           batch_normalization_274[0][0]    \n",
            "__________________________________________________________________________________________________\n",
            "mixed9_1 (Concatenate)          (None, None, None, 7 0           activation_276[0][0]             \n",
            "                                                                 activation_277[0][0]             \n",
            "__________________________________________________________________________________________________\n",
            "concatenate_6 (Concatenate)     (None, None, None, 7 0           activation_280[0][0]             \n",
            "                                                                 activation_281[0][0]             \n",
            "__________________________________________________________________________________________________\n",
            "activation_282 (Activation)     (None, None, None, 1 0           batch_normalization_282[0][0]    \n",
            "__________________________________________________________________________________________________\n",
            "mixed10 (Concatenate)           (None, None, None, 2 0           activation_274[0][0]             \n",
            "                                                                 mixed9_1[0][0]                   \n",
            "                                                                 concatenate_6[0][0]              \n",
            "                                                                 activation_282[0][0]             \n",
            "__________________________________________________________________________________________________\n",
            "global_average_pooling2d_3 (Glo (None, 2048)         0           mixed10[0][0]                    \n",
            "__________________________________________________________________________________________________\n",
            "dense_3 (Dense)                 (None, 512)          1049088     global_average_pooling2d_3[0][0] \n",
            "__________________________________________________________________________________________________\n",
            "dropout_1 (Dropout)             (None, 512)          0           dense_3[0][0]                    \n",
            "__________________________________________________________________________________________________\n",
            "dense_4 (Dense)                 (None, 2)            1026        dropout_1[0][0]                  \n",
            "==================================================================================================\n",
            "Total params: 22,852,898\n",
            "Trainable params: 1,050,114\n",
            "Non-trainable params: 21,802,784\n",
            "__________________________________________________________________________________________________\n"
          ],
          "name": "stdout"
        }
      ]
    },
    {
      "cell_type": "markdown",
      "metadata": {
        "id": "Vf3PYOz7jbsL",
        "colab_type": "text"
      },
      "source": [
        "We want bigger images and preprocessing function should be different here."
      ]
    },
    {
      "cell_type": "code",
      "metadata": {
        "id": "oEZLk-D_jbPJ",
        "colab_type": "code",
        "colab": {}
      },
      "source": [
        "def preprocess_data(x_input, y_input, num_classes, size, network):\n",
        "\n",
        "  x_output = []\n",
        "  for i in range(len(x_input)):\n",
        "    img = cv2.resize(x_input[i], (size, size))\n",
        "    x_output.append(img)\n",
        "\n",
        "  x_output = np.asarray(x_output)\n",
        "  y_output = np.copy(y_input)\n",
        "\n",
        "  # Now we apply the correspondent preprocessing\n",
        "  if network == 'DenseNet121' or network == 'DenseNet169' or network == 'DenseNet201':\n",
        "    x_output = keras.applications.densenet.preprocess_input(x_output)\n",
        "\n",
        "  elif network == 'ResNet50':\n",
        "    x_output = keras.applications.resnet50.preprocess_input(x_output)\n",
        "\n",
        "  elif network == 'InceptionV3':\n",
        "    x_output = keras.applications.inception_v3.preprocess_input(x_output)\n",
        "\n",
        "  elif network == 'InceptionResNetV2':\n",
        "    x_output = keras.applications.inception_resnet_v2.preprocess_input(x_output)\n",
        "\n",
        "  elif network == 'Xception':\n",
        "    x_output = keras.applications.xception.preprocess_input(x_output)\n",
        "\n",
        "  elif network == 'MobileNet':\n",
        "    x_output = keras.applications.mobilenet.preprocess_input(x_output)\n",
        "\n",
        "  elif network == 'MobileNetV2':\n",
        "    x_output = keras.applications.mobilenet_v2.preprocess_input(x_output)\n",
        "\n",
        "  y_output = keras.utils.to_categorical(y_output, num_classes)\n",
        "  return x_output, y_output"
      ],
      "execution_count": 0,
      "outputs": []
    },
    {
      "cell_type": "code",
      "metadata": {
        "id": "J5BBYsvYkX9j",
        "colab_type": "code",
        "colab": {}
      },
      "source": [
        "x_train_finetune, y_train_fine_tune = preprocess_data(x_train, y_train, num_classes, 100, network)\n",
        "x_test_finetune, y_test_fine_tune = preprocess_data(x_test, y_test, num_classes, 100, network)"
      ],
      "execution_count": 0,
      "outputs": []
    },
    {
      "cell_type": "code",
      "metadata": {
        "id": "8IyWfQPj8Z4X",
        "colab_type": "code",
        "outputId": "ee7b1354-c519-481b-ed3c-525122b349db",
        "colab": {
          "base_uri": "https://localhost:8080/",
          "height": 538
        }
      },
      "source": [
        "plt.imshow(x_train_finetune[2])\n",
        "plt.show()\n",
        "plt.imshow(x_train[2])\n",
        "plt.show()"
      ],
      "execution_count": 0,
      "outputs": [
        {
          "output_type": "stream",
          "text": [
            "WARNING:matplotlib.image:Clipping input data to the valid range for imshow with RGB data ([0..1] for floats or [0..255] for integers).\n"
          ],
          "name": "stderr"
        },
        {
          "output_type": "display_data",
          "data": {
            "image/png": "[encoded data removed]",
            "text/plain": [
              "<Figure size 432x288 with 1 Axes>"
            ]
          },
          "metadata": {
            "tags": []
          }
        },
        {
          "output_type": "display_data",
          "data": {
            "image/png": "[encoded data removed]",
            "text/plain": [
              "<Figure size 432x288 with 1 Axes>"
            ]
          },
          "metadata": {
            "tags": []
          }
        }
      ]
    },
    {
      "cell_type": "code",
      "metadata": {
        "id": "Wg_J0H2ilBHx",
        "colab_type": "code",
        "outputId": "5e7459bf-079b-48d4-cd7c-dfe5f22856ec",
        "colab": {
          "base_uri": "https://localhost:8080/",
          "height": 93
        }
      },
      "source": [
        "# Data is ready! \n",
        "print('Train')\n",
        "print(x_train_finetune.shape, y_train_fine_tune.shape)\n",
        "\n",
        "print('Test')\n",
        "print(x_test_finetune.shape, y_test_fine_tune.shape)"
      ],
      "execution_count": 0,
      "outputs": [
        {
          "output_type": "stream",
          "text": [
            "Train\n",
            "(19290, 100, 100, 3) (19290, 2)\n",
            "Test\n",
            "(8268, 100, 100, 3) (8268, 2)\n"
          ],
          "name": "stdout"
        }
      ]
    },
    {
      "cell_type": "code",
      "metadata": {
        "id": "gVyVl820lO74",
        "colab_type": "code",
        "outputId": "6a201ba5-8f3f-4f58-f3fc-79191abdb79a",
        "colab": {
          "base_uri": "https://localhost:8080/",
          "height": 55
        }
      },
      "source": [
        "#What about the min and max?\n",
        "print(np.min(x_train_finetune), np.max(x_train_finetune))\n",
        "print(np.min(x_test_finetune), np.max(x_test_finetune))"
      ],
      "execution_count": 0,
      "outputs": [
        {
          "output_type": "stream",
          "text": [
            "-1.0 1.0\n",
            "-1.0 1.0\n"
          ],
          "name": "stdout"
        }
      ]
    },
    {
      "cell_type": "code",
      "metadata": {
        "id": "j6hyy7USlbee",
        "colab_type": "code",
        "colab": {}
      },
      "source": [
        "# from keras.preprocessing.image import ImageDataGenerator\n",
        "\n",
        "# train_datagen_finetune = ImageDataGenerator(horizontal_flip = True,\n",
        "#                                   fill_mode = 'nearest',\n",
        "#                                   zoom_range = 0.3,\n",
        "#                                   rotation_range = 30)\n",
        "\n",
        "# test_datagen_finetune = ImageDataGenerator()\n",
        "\n",
        "# train_generator_finetune = train_datagen_finetune.flow(x_train_finetune_224, y_train_fine_tune, batch_size = 16, shuffle = False)\n",
        "# test_generator_finetune = test_datagen_finetune.flow(x_test_finetune_224, y_test_fine_tune, batch_size = 16, shuffle = False)"
      ],
      "execution_count": 0,
      "outputs": []
    },
    {
      "cell_type": "markdown",
      "metadata": {
        "id": "vS19twFrmKiN",
        "colab_type": "text"
      },
      "source": [
        "### **Model training**"
      ]
    },
    {
      "cell_type": "code",
      "metadata": {
        "id": "eBijIb4il4G9",
        "colab_type": "code",
        "colab": {}
      },
      "source": [
        "optim = keras.optimizers.Adam(lr = 0.001, decay = 0.001 / 64)\n",
        "pretrained_model.compile(loss = 'categorical_crossentropy', optimizer = optim, metrics = ['accuracy'])\n",
        "\n",
        "#fit the model on the augmented dataset\n",
        "# h_aug = pretrained_model.fit_generator(train_generator_finetune, steps_per_epoch = len(x_train) // 64, epochs = 10, validation_data=test_generator_finetune)\n",
        "h = pretrained_model.fit(x_train_finetune, y_train_fine_tune, epochs = 20, batch_size = 32, validation_data = (x_test_finetune, y_test_fine_tune))"
      ],
      "execution_count": 0,
      "outputs": []
    },
    {
      "cell_type": "markdown",
      "metadata": {
        "id": "DxIxbaIye8sC",
        "colab_type": "text"
      },
      "source": [
        "## **IMH 10/02/2020**\n",
        "\n",
        "\n"
      ]
    }
  ]
}
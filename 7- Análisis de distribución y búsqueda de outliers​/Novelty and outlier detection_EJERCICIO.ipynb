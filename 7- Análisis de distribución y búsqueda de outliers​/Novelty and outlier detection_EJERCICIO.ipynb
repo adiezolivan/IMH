{
 "cells": [
  {
   "cell_type": "markdown",
   "metadata": {},
   "source": [
    "# MÓDULO 4: LA CIENCIA DE DATOS Y LOS MODELOS DE ANALÍTICA PREDICTIVA EN LA INDUSTRIA 4.0"
   ]
  },
  {
   "cell_type": "markdown",
   "metadata": {},
   "source": [
    "## 7 - Análisis de distribución y búsqueda de outliers\n",
    "\n",
    "En este notebook se presenta un pequeño ejercicio para que podáis aplicar algún método de detección de anomalías. Estaría muy abierto, no hay una solución única; simplemente debéis ser capaces de aislar los outliers que se presentan en el dataset a analizar."
   ]
  },
  {
   "cell_type": "code",
   "execution_count": 39,
   "metadata": {},
   "outputs": [],
   "source": [
    "import pandas as pd\n",
    "import numpy as np\n",
    "import matplotlib.pyplot as plt\n",
    "import matplotlib.font_manager\n",
    "import warnings\n",
    "warnings.filterwarnings('ignore')\n",
    "warnings.simplefilter('ignore')\n",
    "%matplotlib inline"
   ]
  },
  {
   "cell_type": "code",
   "execution_count": 52,
   "metadata": {},
   "outputs": [
    {
     "name": "stdout",
     "output_type": "stream",
     "text": [
      "(200, 2)\n",
      "(20, 2)\n"
     ]
    },
    {
     "data": {
      "image/png": "[encoded data removed]",
      "text/plain": [
       "<Figure size 432x288 with 1 Axes>"
      ]
     },
     "metadata": {
      "needs_background": "light"
     },
     "output_type": "display_data"
    }
   ],
   "source": [
    "np.random.seed(3)\n",
    "# Generamos 100 datos bidimensionales aleatorios con distribución normal\n",
    "X = 0.3 * np.random.randn(100, 2)\n",
    "# Los desdoblamos en 200, aplicando un pequeño factor de distancia a cada grupo de 100 datos resultante\n",
    "X_train = np.r_[X + 2, X - 2]\n",
    "X_train_df = pd.DataFrame(X_train, columns=['x1', 'x2'])\n",
    "print(X_train_df.shape)\n",
    "# Generamos 40 datos anómalos\n",
    "X_outliers = np.random.uniform(low=-7, high=7, size=(20, 2))\n",
    "X_outliers_df = pd.DataFrame(X_outliers, columns=['x1', 'x2'])\n",
    "print(X_outliers_df.shape)\n",
    "# Ploteamos, destacando en rojo las anomalías\n",
    "plt.scatter(X_train[:, 0], X_train[:, 1], c='blue')\n",
    "plt.scatter(X_outliers[:, 0], X_outliers[:, 1], c='red')\n",
    "plt.axis('tight')\n",
    "plt.grid()\n",
    "plt.show()"
   ]
  },
  {
   "cell_type": "code",
   "execution_count": 48,
   "metadata": {},
   "outputs": [
    {
     "name": "stdout",
     "output_type": "stream",
     "text": [
      "(240, 2)\n"
     ]
    }
   ],
   "source": [
    "# Juntamos todos los datos en un mismo dataset\n",
    "df = np.concatenate((X_train_df, X_outliers_df))\n",
    "print(df.shape)"
   ]
  },
  {
   "cell_type": "markdown",
   "metadata": {},
   "source": [
    "### EJERCICIO "
   ]
  },
  {
   "cell_type": "markdown",
   "metadata": {},
   "source": [
    "Asumiendo que no conocemos a priori qué datos se corresponden con outliers o anomalías, se os pide lo siguiente:\n",
    "1. aplicar un modelo o estrategia que permita identificar el mayor número de anomalías posibles, aislándolas respecto de los datos \"normales\"\n",
    "2. evaluar el modelo o estrategia aplicado mediante alguna métrica de las vistas en clase"
   ]
  },
  {
   "cell_type": "code",
   "execution_count": null,
   "metadata": {},
   "outputs": [],
   "source": [
    "..."
   ]
  }
 ],
 "metadata": {
  "kernelspec": {
   "display_name": "Python 2",
   "language": "python",
   "name": "python2"
  },
  "language_info": {
   "codemirror_mode": {
    "name": "ipython",
    "version": 3
   },
   "file_extension": ".py",
   "mimetype": "text/x-python",
   "name": "python",
   "nbconvert_exporter": "python",
   "pygments_lexer": "ipython3",
   "version": "3.6.9"
  }
 },
 "nbformat": 4,
 "nbformat_minor": 1
}
